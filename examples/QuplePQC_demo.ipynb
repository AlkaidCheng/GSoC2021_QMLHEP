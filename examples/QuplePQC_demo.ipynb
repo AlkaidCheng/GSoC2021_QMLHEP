{
  "nbformat": 4,
  "nbformat_minor": 0,
  "metadata": {
    "colab": {
      "name": "QuplePQC_demo",
      "provenance": [],
      "authorship_tag": "ABX9TyP+fe3Moi+4f5TsrVNEhVZU",
      "include_colab_link": true
    },
    "kernelspec": {
      "name": "python3",
      "display_name": "Python 3"
    },
    "language_info": {
      "name": "python"
    }
  },
  "cells": [
    {
      "cell_type": "markdown",
      "metadata": {
        "id": "view-in-github",
        "colab_type": "text"
      },
      "source": [
        "<a href=\"https://colab.research.google.com/github/AlkaidCheng/GSoC2021_QMLHEP/blob/main/examples/QuplePQC_demo.ipynb\" target=\"_parent\"><img src=\"https://colab.research.google.com/assets/colab-badge.svg\" alt=\"Open In Colab\"/></a>"
      ]
    },
    {
      "cell_type": "code",
      "metadata": {
        "colab": {
          "base_uri": "https://localhost:8080/",
          "height": 1000
        },
        "id": "P7qtFqFBRja5",
        "outputId": "6b4f01d9-2b98-4b78-8e32-f5b139790bb7"
      },
      "source": [
        "!pip install tensorflow==2.4.1\n",
        "!pip install tensorflow-quantum\n",
        "!pip install quple"
      ],
      "execution_count": null,
      "outputs": [
        {
          "output_type": "stream",
          "text": [
            "Collecting tensorflow==2.4.1\n",
            "\u001b[?25l  Downloading https://files.pythonhosted.org/packages/70/dc/e8c5e7983866fa4ef3fd619faa35f660b95b01a2ab62b3884f038ccab542/tensorflow-2.4.1-cp37-cp37m-manylinux2010_x86_64.whl (394.3MB)\n",
            "\u001b[K     |████████████████████████████████| 394.3MB 41kB/s \n",
            "\u001b[?25hRequirement already satisfied: termcolor~=1.1.0 in /usr/local/lib/python3.7/dist-packages (from tensorflow==2.4.1) (1.1.0)\n",
            "Requirement already satisfied: typing-extensions~=3.7.4 in /usr/local/lib/python3.7/dist-packages (from tensorflow==2.4.1) (3.7.4.3)\n",
            "Collecting gast==0.3.3\n",
            "  Downloading https://files.pythonhosted.org/packages/d6/84/759f5dd23fec8ba71952d97bcc7e2c9d7d63bdc582421f3cd4be845f0c98/gast-0.3.3-py2.py3-none-any.whl\n",
            "Requirement already satisfied: six~=1.15.0 in /usr/local/lib/python3.7/dist-packages (from tensorflow==2.4.1) (1.15.0)\n",
            "Requirement already satisfied: astunparse~=1.6.3 in /usr/local/lib/python3.7/dist-packages (from tensorflow==2.4.1) (1.6.3)\n",
            "Requirement already satisfied: flatbuffers~=1.12.0 in /usr/local/lib/python3.7/dist-packages (from tensorflow==2.4.1) (1.12)\n",
            "Collecting grpcio~=1.32.0\n",
            "\u001b[?25l  Downloading https://files.pythonhosted.org/packages/06/54/1c8be62beafe7fb1548d2968e518ca040556b46b0275399d4f3186c56d79/grpcio-1.32.0-cp37-cp37m-manylinux2014_x86_64.whl (3.8MB)\n",
            "\u001b[K     |████████████████████████████████| 3.8MB 24.9MB/s \n",
            "\u001b[?25hRequirement already satisfied: numpy~=1.19.2 in /usr/local/lib/python3.7/dist-packages (from tensorflow==2.4.1) (1.19.5)\n",
            "Requirement already satisfied: google-pasta~=0.2 in /usr/local/lib/python3.7/dist-packages (from tensorflow==2.4.1) (0.2.0)\n",
            "Requirement already satisfied: keras-preprocessing~=1.1.2 in /usr/local/lib/python3.7/dist-packages (from tensorflow==2.4.1) (1.1.2)\n",
            "Requirement already satisfied: protobuf>=3.9.2 in /usr/local/lib/python3.7/dist-packages (from tensorflow==2.4.1) (3.12.4)\n",
            "Collecting tensorflow-estimator<2.5.0,>=2.4.0\n",
            "\u001b[?25l  Downloading https://files.pythonhosted.org/packages/74/7e/622d9849abf3afb81e482ffc170758742e392ee129ce1540611199a59237/tensorflow_estimator-2.4.0-py2.py3-none-any.whl (462kB)\n",
            "\u001b[K     |████████████████████████████████| 471kB 52.6MB/s \n",
            "\u001b[?25hRequirement already satisfied: opt-einsum~=3.3.0 in /usr/local/lib/python3.7/dist-packages (from tensorflow==2.4.1) (3.3.0)\n",
            "Requirement already satisfied: wheel~=0.35 in /usr/local/lib/python3.7/dist-packages (from tensorflow==2.4.1) (0.36.2)\n",
            "Requirement already satisfied: wrapt~=1.12.1 in /usr/local/lib/python3.7/dist-packages (from tensorflow==2.4.1) (1.12.1)\n",
            "Requirement already satisfied: tensorboard~=2.4 in /usr/local/lib/python3.7/dist-packages (from tensorflow==2.4.1) (2.5.0)\n",
            "Collecting h5py~=2.10.0\n",
            "\u001b[?25l  Downloading https://files.pythonhosted.org/packages/3f/c0/abde58b837e066bca19a3f7332d9d0493521d7dd6b48248451a9e3fe2214/h5py-2.10.0-cp37-cp37m-manylinux1_x86_64.whl (2.9MB)\n",
            "\u001b[K     |████████████████████████████████| 2.9MB 23.7MB/s \n",
            "\u001b[?25hRequirement already satisfied: absl-py~=0.10 in /usr/local/lib/python3.7/dist-packages (from tensorflow==2.4.1) (0.12.0)\n",
            "Requirement already satisfied: setuptools in /usr/local/lib/python3.7/dist-packages (from protobuf>=3.9.2->tensorflow==2.4.1) (57.0.0)\n",
            "Requirement already satisfied: tensorboard-plugin-wit>=1.6.0 in /usr/local/lib/python3.7/dist-packages (from tensorboard~=2.4->tensorflow==2.4.1) (1.8.0)\n",
            "Requirement already satisfied: werkzeug>=0.11.15 in /usr/local/lib/python3.7/dist-packages (from tensorboard~=2.4->tensorflow==2.4.1) (1.0.1)\n",
            "Requirement already satisfied: requests<3,>=2.21.0 in /usr/local/lib/python3.7/dist-packages (from tensorboard~=2.4->tensorflow==2.4.1) (2.23.0)\n",
            "Requirement already satisfied: tensorboard-data-server<0.7.0,>=0.6.0 in /usr/local/lib/python3.7/dist-packages (from tensorboard~=2.4->tensorflow==2.4.1) (0.6.1)\n",
            "Requirement already satisfied: google-auth<2,>=1.6.3 in /usr/local/lib/python3.7/dist-packages (from tensorboard~=2.4->tensorflow==2.4.1) (1.31.0)\n",
            "Requirement already satisfied: markdown>=2.6.8 in /usr/local/lib/python3.7/dist-packages (from tensorboard~=2.4->tensorflow==2.4.1) (3.3.4)\n",
            "Requirement already satisfied: google-auth-oauthlib<0.5,>=0.4.1 in /usr/local/lib/python3.7/dist-packages (from tensorboard~=2.4->tensorflow==2.4.1) (0.4.4)\n",
            "Requirement already satisfied: idna<3,>=2.5 in /usr/local/lib/python3.7/dist-packages (from requests<3,>=2.21.0->tensorboard~=2.4->tensorflow==2.4.1) (2.10)\n",
            "Requirement already satisfied: chardet<4,>=3.0.2 in /usr/local/lib/python3.7/dist-packages (from requests<3,>=2.21.0->tensorboard~=2.4->tensorflow==2.4.1) (3.0.4)\n",
            "Requirement already satisfied: urllib3!=1.25.0,!=1.25.1,<1.26,>=1.21.1 in /usr/local/lib/python3.7/dist-packages (from requests<3,>=2.21.0->tensorboard~=2.4->tensorflow==2.4.1) (1.24.3)\n",
            "Requirement already satisfied: certifi>=2017.4.17 in /usr/local/lib/python3.7/dist-packages (from requests<3,>=2.21.0->tensorboard~=2.4->tensorflow==2.4.1) (2021.5.30)\n",
            "Requirement already satisfied: rsa<5,>=3.1.4; python_version >= \"3.6\" in /usr/local/lib/python3.7/dist-packages (from google-auth<2,>=1.6.3->tensorboard~=2.4->tensorflow==2.4.1) (4.7.2)\n",
            "Requirement already satisfied: cachetools<5.0,>=2.0.0 in /usr/local/lib/python3.7/dist-packages (from google-auth<2,>=1.6.3->tensorboard~=2.4->tensorflow==2.4.1) (4.2.2)\n",
            "Requirement already satisfied: pyasn1-modules>=0.2.1 in /usr/local/lib/python3.7/dist-packages (from google-auth<2,>=1.6.3->tensorboard~=2.4->tensorflow==2.4.1) (0.2.8)\n",
            "Requirement already satisfied: importlib-metadata; python_version < \"3.8\" in /usr/local/lib/python3.7/dist-packages (from markdown>=2.6.8->tensorboard~=2.4->tensorflow==2.4.1) (4.5.0)\n",
            "Requirement already satisfied: requests-oauthlib>=0.7.0 in /usr/local/lib/python3.7/dist-packages (from google-auth-oauthlib<0.5,>=0.4.1->tensorboard~=2.4->tensorflow==2.4.1) (1.3.0)\n",
            "Requirement already satisfied: pyasn1>=0.1.3 in /usr/local/lib/python3.7/dist-packages (from rsa<5,>=3.1.4; python_version >= \"3.6\"->google-auth<2,>=1.6.3->tensorboard~=2.4->tensorflow==2.4.1) (0.4.8)\n",
            "Requirement already satisfied: zipp>=0.5 in /usr/local/lib/python3.7/dist-packages (from importlib-metadata; python_version < \"3.8\"->markdown>=2.6.8->tensorboard~=2.4->tensorflow==2.4.1) (3.4.1)\n",
            "Requirement already satisfied: oauthlib>=3.0.0 in /usr/local/lib/python3.7/dist-packages (from requests-oauthlib>=0.7.0->google-auth-oauthlib<0.5,>=0.4.1->tensorboard~=2.4->tensorflow==2.4.1) (3.1.1)\n",
            "Installing collected packages: gast, grpcio, tensorflow-estimator, h5py, tensorflow\n",
            "  Found existing installation: gast 0.4.0\n",
            "    Uninstalling gast-0.4.0:\n",
            "      Successfully uninstalled gast-0.4.0\n",
            "  Found existing installation: grpcio 1.34.1\n",
            "    Uninstalling grpcio-1.34.1:\n",
            "      Successfully uninstalled grpcio-1.34.1\n",
            "  Found existing installation: tensorflow-estimator 2.5.0\n",
            "    Uninstalling tensorflow-estimator-2.5.0:\n",
            "      Successfully uninstalled tensorflow-estimator-2.5.0\n",
            "  Found existing installation: h5py 3.1.0\n",
            "    Uninstalling h5py-3.1.0:\n",
            "      Successfully uninstalled h5py-3.1.0\n",
            "  Found existing installation: tensorflow 2.5.0\n",
            "    Uninstalling tensorflow-2.5.0:\n",
            "      Successfully uninstalled tensorflow-2.5.0\n",
            "Successfully installed gast-0.3.3 grpcio-1.32.0 h5py-2.10.0 tensorflow-2.4.1 tensorflow-estimator-2.4.0\n",
            "Collecting tensorflow-quantum\n",
            "\u001b[?25l  Downloading https://files.pythonhosted.org/packages/67/24/43c21d3af4c68198fe1d9cdd3233b94210e384e4861c69aab24d89015336/tensorflow_quantum-0.5.1-cp37-cp37m-manylinux_2_12_x86_64.manylinux2010_x86_64.whl (7.8MB)\n",
            "\u001b[K     |████████████████████████████████| 7.8MB 6.9MB/s \n",
            "\u001b[?25hCollecting protobuf==3.13.0\n",
            "\u001b[?25l  Downloading https://files.pythonhosted.org/packages/71/dc/5ba56eab7440c62c5f808b4267e2a1d6c136e90293b43fefb1b493c6d704/protobuf-3.13.0-cp37-cp37m-manylinux1_x86_64.whl (1.3MB)\n",
            "\u001b[K     |████████████████████████████████| 1.3MB 39.8MB/s \n",
            "\u001b[?25hCollecting google-api-core==1.21.0\n",
            "\u001b[?25l  Downloading https://files.pythonhosted.org/packages/48/76/bd5e3ebd571b9f688ae123a2bd84b2dc9f75e1214a83b8a759bc16e2fc35/google_api_core-1.21.0-py2.py3-none-any.whl (90kB)\n",
            "\u001b[K     |████████████████████████████████| 92kB 10.8MB/s \n",
            "\u001b[?25hCollecting sympy==1.5\n",
            "\u001b[?25l  Downloading https://files.pythonhosted.org/packages/4d/a7/25d5d6b3295537ab90bdbcd21e464633fb4a0684dd9a065da404487625bb/sympy-1.5-py2.py3-none-any.whl (5.6MB)\n",
            "\u001b[K     |████████████████████████████████| 5.6MB 24.9MB/s \n",
            "\u001b[?25hCollecting google-auth==1.18.0\n",
            "\u001b[?25l  Downloading https://files.pythonhosted.org/packages/21/57/d706964a7e4056f3f2244e16705388c11631fbb53d3e2d2a2d0fbc24d470/google_auth-1.18.0-py2.py3-none-any.whl (90kB)\n",
            "\u001b[K     |████████████████████████████████| 92kB 11.0MB/s \n",
            "\u001b[?25hCollecting cirq==0.11.0\n",
            "  Downloading https://files.pythonhosted.org/packages/eb/a1/3458cb4981e648e0167ea160f536d6a0f32d95e9340c7b1a081b9ef79189/cirq-0.11.0-py3-none-any.whl\n",
            "Collecting googleapis-common-protos==1.52.0\n",
            "\u001b[?25l  Downloading https://files.pythonhosted.org/packages/03/74/3956721ea1eb4bcf7502a311fdaa60b85bd751de4e57d1943afe9b334141/googleapis_common_protos-1.52.0-py2.py3-none-any.whl (100kB)\n",
            "\u001b[K     |████████████████████████████████| 102kB 11.6MB/s \n",
            "\u001b[?25hRequirement already satisfied: setuptools in /usr/local/lib/python3.7/dist-packages (from protobuf==3.13.0->tensorflow-quantum) (57.0.0)\n",
            "Requirement already satisfied: six>=1.9 in /usr/local/lib/python3.7/dist-packages (from protobuf==3.13.0->tensorflow-quantum) (1.15.0)\n",
            "Requirement already satisfied: requests<3.0.0dev,>=2.18.0 in /usr/local/lib/python3.7/dist-packages (from google-api-core==1.21.0->tensorflow-quantum) (2.23.0)\n",
            "Requirement already satisfied: pytz in /usr/local/lib/python3.7/dist-packages (from google-api-core==1.21.0->tensorflow-quantum) (2018.9)\n",
            "Requirement already satisfied: mpmath>=0.19 in /usr/local/lib/python3.7/dist-packages (from sympy==1.5->tensorflow-quantum) (1.2.1)\n",
            "Requirement already satisfied: rsa<5,>=3.1.4; python_version >= \"3\" in /usr/local/lib/python3.7/dist-packages (from google-auth==1.18.0->tensorflow-quantum) (4.7.2)\n",
            "Requirement already satisfied: pyasn1-modules>=0.2.1 in /usr/local/lib/python3.7/dist-packages (from google-auth==1.18.0->tensorflow-quantum) (0.2.8)\n",
            "Requirement already satisfied: cachetools<5.0,>=2.0.0 in /usr/local/lib/python3.7/dist-packages (from google-auth==1.18.0->tensorflow-quantum) (4.2.2)\n",
            "Collecting cirq-google==0.11.0\n",
            "\u001b[?25l  Downloading https://files.pythonhosted.org/packages/1e/e5/72b14d2ab702184335884f05e0726f7d824483ebee2d9055b01d1f69841f/cirq_google-0.11.0-py3-none-any.whl (380kB)\n",
            "\u001b[K     |████████████████████████████████| 389kB 49.1MB/s \n",
            "\u001b[?25hCollecting cirq-core==0.11.0\n",
            "\u001b[?25l  Downloading https://files.pythonhosted.org/packages/2f/e1/e1d174f037b3019979114155dcd9257883316bfc105a5fab360e3349d9e7/cirq_core-0.11.0-py3-none-any.whl (1.5MB)\n",
            "\u001b[K     |████████████████████████████████| 1.5MB 30.0MB/s \n",
            "\u001b[?25hRequirement already satisfied: idna<3,>=2.5 in /usr/local/lib/python3.7/dist-packages (from requests<3.0.0dev,>=2.18.0->google-api-core==1.21.0->tensorflow-quantum) (2.10)\n",
            "Requirement already satisfied: urllib3!=1.25.0,!=1.25.1,<1.26,>=1.21.1 in /usr/local/lib/python3.7/dist-packages (from requests<3.0.0dev,>=2.18.0->google-api-core==1.21.0->tensorflow-quantum) (1.24.3)\n",
            "Requirement already satisfied: certifi>=2017.4.17 in /usr/local/lib/python3.7/dist-packages (from requests<3.0.0dev,>=2.18.0->google-api-core==1.21.0->tensorflow-quantum) (2021.5.30)\n",
            "Requirement already satisfied: chardet<4,>=3.0.2 in /usr/local/lib/python3.7/dist-packages (from requests<3.0.0dev,>=2.18.0->google-api-core==1.21.0->tensorflow-quantum) (3.0.4)\n",
            "Requirement already satisfied: pyasn1>=0.1.3 in /usr/local/lib/python3.7/dist-packages (from rsa<5,>=3.1.4; python_version >= \"3\"->google-auth==1.18.0->tensorflow-quantum) (0.4.8)\n",
            "Requirement already satisfied: tqdm in /usr/local/lib/python3.7/dist-packages (from cirq-core==0.11.0->cirq==0.11.0->tensorflow-quantum) (4.41.1)\n",
            "Requirement already satisfied: networkx~=2.4 in /usr/local/lib/python3.7/dist-packages (from cirq-core==0.11.0->cirq==0.11.0->tensorflow-quantum) (2.5.1)\n",
            "Requirement already satisfied: numpy~=1.16 in /usr/local/lib/python3.7/dist-packages (from cirq-core==0.11.0->cirq==0.11.0->tensorflow-quantum) (1.19.5)\n",
            "Requirement already satisfied: sortedcontainers~=2.0 in /usr/local/lib/python3.7/dist-packages (from cirq-core==0.11.0->cirq==0.11.0->tensorflow-quantum) (2.4.0)\n",
            "Requirement already satisfied: matplotlib~=3.0 in /usr/local/lib/python3.7/dist-packages (from cirq-core==0.11.0->cirq==0.11.0->tensorflow-quantum) (3.2.2)\n",
            "Requirement already satisfied: pandas in /usr/local/lib/python3.7/dist-packages (from cirq-core==0.11.0->cirq==0.11.0->tensorflow-quantum) (1.1.5)\n",
            "Requirement already satisfied: typing-extensions in /usr/local/lib/python3.7/dist-packages (from cirq-core==0.11.0->cirq==0.11.0->tensorflow-quantum) (3.7.4.3)\n",
            "Requirement already satisfied: scipy in /usr/local/lib/python3.7/dist-packages (from cirq-core==0.11.0->cirq==0.11.0->tensorflow-quantum) (1.4.1)\n",
            "Requirement already satisfied: decorator<5,>=4.3 in /usr/local/lib/python3.7/dist-packages (from networkx~=2.4->cirq-core==0.11.0->cirq==0.11.0->tensorflow-quantum) (4.4.2)\n",
            "Requirement already satisfied: kiwisolver>=1.0.1 in /usr/local/lib/python3.7/dist-packages (from matplotlib~=3.0->cirq-core==0.11.0->cirq==0.11.0->tensorflow-quantum) (1.3.1)\n",
            "Requirement already satisfied: pyparsing!=2.0.4,!=2.1.2,!=2.1.6,>=2.0.1 in /usr/local/lib/python3.7/dist-packages (from matplotlib~=3.0->cirq-core==0.11.0->cirq==0.11.0->tensorflow-quantum) (2.4.7)\n",
            "Requirement already satisfied: cycler>=0.10 in /usr/local/lib/python3.7/dist-packages (from matplotlib~=3.0->cirq-core==0.11.0->cirq==0.11.0->tensorflow-quantum) (0.10.0)\n",
            "Requirement already satisfied: python-dateutil>=2.1 in /usr/local/lib/python3.7/dist-packages (from matplotlib~=3.0->cirq-core==0.11.0->cirq==0.11.0->tensorflow-quantum) (2.8.1)\n",
            "Installing collected packages: protobuf, google-auth, googleapis-common-protos, google-api-core, sympy, cirq-core, cirq-google, cirq, tensorflow-quantum\n",
            "  Found existing installation: protobuf 3.12.4\n",
            "    Uninstalling protobuf-3.12.4:\n",
            "      Successfully uninstalled protobuf-3.12.4\n",
            "  Found existing installation: google-auth 1.31.0\n",
            "    Uninstalling google-auth-1.31.0:\n",
            "      Successfully uninstalled google-auth-1.31.0\n",
            "  Found existing installation: googleapis-common-protos 1.53.0\n",
            "    Uninstalling googleapis-common-protos-1.53.0:\n",
            "      Successfully uninstalled googleapis-common-protos-1.53.0\n",
            "  Found existing installation: google-api-core 1.26.3\n",
            "    Uninstalling google-api-core-1.26.3:\n",
            "      Successfully uninstalled google-api-core-1.26.3\n",
            "  Found existing installation: sympy 1.7.1\n",
            "    Uninstalling sympy-1.7.1:\n",
            "      Successfully uninstalled sympy-1.7.1\n",
            "Successfully installed cirq-0.11.0 cirq-core-0.11.0 cirq-google-0.11.0 google-api-core-1.21.0 google-auth-1.18.0 googleapis-common-protos-1.52.0 protobuf-3.13.0 sympy-1.5 tensorflow-quantum-0.5.1\n"
          ],
          "name": "stdout"
        },
        {
          "output_type": "display_data",
          "data": {
            "application/vnd.colab-display-data+json": {
              "pip_warning": {
                "packages": [
                  "google"
                ]
              }
            }
          },
          "metadata": {
            "tags": []
          }
        },
        {
          "output_type": "stream",
          "text": [
            "Collecting quple\n",
            "\u001b[?25l  Downloading https://files.pythonhosted.org/packages/61/78/bcde73cccf69ab430331de3a2166feaeca1cdb0834ef93ef30c48e28bffd/quple-0.8.1-py3-none-any.whl (95kB)\n",
            "\r\u001b[K     |███▌                            | 10kB 16.6MB/s eta 0:00:01\r\u001b[K     |███████                         | 20kB 20.6MB/s eta 0:00:01\r\u001b[K     |██████████▍                     | 30kB 17.5MB/s eta 0:00:01\r\u001b[K     |█████████████▉                  | 40kB 15.1MB/s eta 0:00:01\r\u001b[K     |█████████████████▎              | 51kB 8.2MB/s eta 0:00:01\r\u001b[K     |████████████████████▊           | 61kB 9.5MB/s eta 0:00:01\r\u001b[K     |████████████████████████▏       | 71kB 8.0MB/s eta 0:00:01\r\u001b[K     |███████████████████████████▋    | 81kB 8.8MB/s eta 0:00:01\r\u001b[K     |███████████████████████████████ | 92kB 8.9MB/s eta 0:00:01\r\u001b[K     |████████████████████████████████| 102kB 5.8MB/s \n",
            "\u001b[?25hRequirement already satisfied: numpy in /usr/local/lib/python3.7/dist-packages (from quple) (1.19.5)\n",
            "Requirement already satisfied: tensorflow-quantum in /usr/local/lib/python3.7/dist-packages (from quple) (0.5.1)\n",
            "Requirement already satisfied: tensorflow in /usr/local/lib/python3.7/dist-packages (from quple) (2.4.1)\n",
            "Requirement already satisfied: cirq in /usr/local/lib/python3.7/dist-packages (from quple) (0.11.0)\n",
            "Requirement already satisfied: google-api-core==1.21.0 in /usr/local/lib/python3.7/dist-packages (from tensorflow-quantum->quple) (1.21.0)\n",
            "Requirement already satisfied: googleapis-common-protos==1.52.0 in /usr/local/lib/python3.7/dist-packages (from tensorflow-quantum->quple) (1.52.0)\n",
            "Requirement already satisfied: sympy==1.5 in /usr/local/lib/python3.7/dist-packages (from tensorflow-quantum->quple) (1.5)\n",
            "Requirement already satisfied: google-auth==1.18.0 in /usr/local/lib/python3.7/dist-packages (from tensorflow-quantum->quple) (1.18.0)\n",
            "Requirement already satisfied: protobuf==3.13.0 in /usr/local/lib/python3.7/dist-packages (from tensorflow-quantum->quple) (3.13.0)\n",
            "Requirement already satisfied: tensorflow-estimator<2.5.0,>=2.4.0 in /usr/local/lib/python3.7/dist-packages (from tensorflow->quple) (2.4.0)\n",
            "Requirement already satisfied: termcolor~=1.1.0 in /usr/local/lib/python3.7/dist-packages (from tensorflow->quple) (1.1.0)\n",
            "Requirement already satisfied: keras-preprocessing~=1.1.2 in /usr/local/lib/python3.7/dist-packages (from tensorflow->quple) (1.1.2)\n",
            "Requirement already satisfied: opt-einsum~=3.3.0 in /usr/local/lib/python3.7/dist-packages (from tensorflow->quple) (3.3.0)\n",
            "Requirement already satisfied: grpcio~=1.32.0 in /usr/local/lib/python3.7/dist-packages (from tensorflow->quple) (1.32.0)\n",
            "Requirement already satisfied: wheel~=0.35 in /usr/local/lib/python3.7/dist-packages (from tensorflow->quple) (0.36.2)\n",
            "Requirement already satisfied: gast==0.3.3 in /usr/local/lib/python3.7/dist-packages (from tensorflow->quple) (0.3.3)\n",
            "Requirement already satisfied: six~=1.15.0 in /usr/local/lib/python3.7/dist-packages (from tensorflow->quple) (1.15.0)\n",
            "Requirement already satisfied: astunparse~=1.6.3 in /usr/local/lib/python3.7/dist-packages (from tensorflow->quple) (1.6.3)\n",
            "Requirement already satisfied: absl-py~=0.10 in /usr/local/lib/python3.7/dist-packages (from tensorflow->quple) (0.12.0)\n",
            "Requirement already satisfied: flatbuffers~=1.12.0 in /usr/local/lib/python3.7/dist-packages (from tensorflow->quple) (1.12)\n",
            "Requirement already satisfied: wrapt~=1.12.1 in /usr/local/lib/python3.7/dist-packages (from tensorflow->quple) (1.12.1)\n",
            "Requirement already satisfied: google-pasta~=0.2 in /usr/local/lib/python3.7/dist-packages (from tensorflow->quple) (0.2.0)\n",
            "Requirement already satisfied: typing-extensions~=3.7.4 in /usr/local/lib/python3.7/dist-packages (from tensorflow->quple) (3.7.4.3)\n",
            "Requirement already satisfied: tensorboard~=2.4 in /usr/local/lib/python3.7/dist-packages (from tensorflow->quple) (2.5.0)\n",
            "Requirement already satisfied: h5py~=2.10.0 in /usr/local/lib/python3.7/dist-packages (from tensorflow->quple) (2.10.0)\n",
            "Requirement already satisfied: cirq-google==0.11.0 in /usr/local/lib/python3.7/dist-packages (from cirq->quple) (0.11.0)\n",
            "Requirement already satisfied: cirq-core==0.11.0 in /usr/local/lib/python3.7/dist-packages (from cirq->quple) (0.11.0)\n",
            "Requirement already satisfied: pytz in /usr/local/lib/python3.7/dist-packages (from google-api-core==1.21.0->tensorflow-quantum->quple) (2018.9)\n",
            "Requirement already satisfied: setuptools>=34.0.0 in /usr/local/lib/python3.7/dist-packages (from google-api-core==1.21.0->tensorflow-quantum->quple) (57.0.0)\n",
            "Requirement already satisfied: requests<3.0.0dev,>=2.18.0 in /usr/local/lib/python3.7/dist-packages (from google-api-core==1.21.0->tensorflow-quantum->quple) (2.23.0)\n",
            "Requirement already satisfied: mpmath>=0.19 in /usr/local/lib/python3.7/dist-packages (from sympy==1.5->tensorflow-quantum->quple) (1.2.1)\n",
            "Requirement already satisfied: pyasn1-modules>=0.2.1 in /usr/local/lib/python3.7/dist-packages (from google-auth==1.18.0->tensorflow-quantum->quple) (0.2.8)\n",
            "Requirement already satisfied: cachetools<5.0,>=2.0.0 in /usr/local/lib/python3.7/dist-packages (from google-auth==1.18.0->tensorflow-quantum->quple) (4.2.2)\n",
            "Requirement already satisfied: rsa<5,>=3.1.4; python_version >= \"3\" in /usr/local/lib/python3.7/dist-packages (from google-auth==1.18.0->tensorflow-quantum->quple) (4.7.2)\n",
            "Requirement already satisfied: markdown>=2.6.8 in /usr/local/lib/python3.7/dist-packages (from tensorboard~=2.4->tensorflow->quple) (3.3.4)\n",
            "Requirement already satisfied: tensorboard-plugin-wit>=1.6.0 in /usr/local/lib/python3.7/dist-packages (from tensorboard~=2.4->tensorflow->quple) (1.8.0)\n",
            "Requirement already satisfied: werkzeug>=0.11.15 in /usr/local/lib/python3.7/dist-packages (from tensorboard~=2.4->tensorflow->quple) (1.0.1)\n",
            "Requirement already satisfied: tensorboard-data-server<0.7.0,>=0.6.0 in /usr/local/lib/python3.7/dist-packages (from tensorboard~=2.4->tensorflow->quple) (0.6.1)\n",
            "Requirement already satisfied: google-auth-oauthlib<0.5,>=0.4.1 in /usr/local/lib/python3.7/dist-packages (from tensorboard~=2.4->tensorflow->quple) (0.4.4)\n",
            "Requirement already satisfied: sortedcontainers~=2.0 in /usr/local/lib/python3.7/dist-packages (from cirq-core==0.11.0->cirq->quple) (2.4.0)\n",
            "Requirement already satisfied: scipy in /usr/local/lib/python3.7/dist-packages (from cirq-core==0.11.0->cirq->quple) (1.4.1)\n",
            "Requirement already satisfied: pandas in /usr/local/lib/python3.7/dist-packages (from cirq-core==0.11.0->cirq->quple) (1.1.5)\n",
            "Requirement already satisfied: tqdm in /usr/local/lib/python3.7/dist-packages (from cirq-core==0.11.0->cirq->quple) (4.41.1)\n",
            "Requirement already satisfied: networkx~=2.4 in /usr/local/lib/python3.7/dist-packages (from cirq-core==0.11.0->cirq->quple) (2.5.1)\n",
            "Requirement already satisfied: matplotlib~=3.0 in /usr/local/lib/python3.7/dist-packages (from cirq-core==0.11.0->cirq->quple) (3.2.2)\n",
            "Requirement already satisfied: certifi>=2017.4.17 in /usr/local/lib/python3.7/dist-packages (from requests<3.0.0dev,>=2.18.0->google-api-core==1.21.0->tensorflow-quantum->quple) (2021.5.30)\n",
            "Requirement already satisfied: idna<3,>=2.5 in /usr/local/lib/python3.7/dist-packages (from requests<3.0.0dev,>=2.18.0->google-api-core==1.21.0->tensorflow-quantum->quple) (2.10)\n",
            "Requirement already satisfied: urllib3!=1.25.0,!=1.25.1,<1.26,>=1.21.1 in /usr/local/lib/python3.7/dist-packages (from requests<3.0.0dev,>=2.18.0->google-api-core==1.21.0->tensorflow-quantum->quple) (1.24.3)\n",
            "Requirement already satisfied: chardet<4,>=3.0.2 in /usr/local/lib/python3.7/dist-packages (from requests<3.0.0dev,>=2.18.0->google-api-core==1.21.0->tensorflow-quantum->quple) (3.0.4)\n",
            "Requirement already satisfied: pyasn1<0.5.0,>=0.4.6 in /usr/local/lib/python3.7/dist-packages (from pyasn1-modules>=0.2.1->google-auth==1.18.0->tensorflow-quantum->quple) (0.4.8)\n",
            "Requirement already satisfied: importlib-metadata; python_version < \"3.8\" in /usr/local/lib/python3.7/dist-packages (from markdown>=2.6.8->tensorboard~=2.4->tensorflow->quple) (4.5.0)\n",
            "Requirement already satisfied: requests-oauthlib>=0.7.0 in /usr/local/lib/python3.7/dist-packages (from google-auth-oauthlib<0.5,>=0.4.1->tensorboard~=2.4->tensorflow->quple) (1.3.0)\n",
            "Requirement already satisfied: python-dateutil>=2.7.3 in /usr/local/lib/python3.7/dist-packages (from pandas->cirq-core==0.11.0->cirq->quple) (2.8.1)\n",
            "Requirement already satisfied: decorator<5,>=4.3 in /usr/local/lib/python3.7/dist-packages (from networkx~=2.4->cirq-core==0.11.0->cirq->quple) (4.4.2)\n",
            "Requirement already satisfied: pyparsing!=2.0.4,!=2.1.2,!=2.1.6,>=2.0.1 in /usr/local/lib/python3.7/dist-packages (from matplotlib~=3.0->cirq-core==0.11.0->cirq->quple) (2.4.7)\n",
            "Requirement already satisfied: kiwisolver>=1.0.1 in /usr/local/lib/python3.7/dist-packages (from matplotlib~=3.0->cirq-core==0.11.0->cirq->quple) (1.3.1)\n",
            "Requirement already satisfied: cycler>=0.10 in /usr/local/lib/python3.7/dist-packages (from matplotlib~=3.0->cirq-core==0.11.0->cirq->quple) (0.10.0)\n",
            "Requirement already satisfied: zipp>=0.5 in /usr/local/lib/python3.7/dist-packages (from importlib-metadata; python_version < \"3.8\"->markdown>=2.6.8->tensorboard~=2.4->tensorflow->quple) (3.4.1)\n",
            "Requirement already satisfied: oauthlib>=3.0.0 in /usr/local/lib/python3.7/dist-packages (from requests-oauthlib>=0.7.0->google-auth-oauthlib<0.5,>=0.4.1->tensorboard~=2.4->tensorflow->quple) (3.1.1)\n",
            "Installing collected packages: quple\n",
            "Successfully installed quple-0.8.1\n"
          ],
          "name": "stdout"
        }
      ]
    },
    {
      "cell_type": "code",
      "metadata": {
        "id": "Ic31C3SR5KC-"
      },
      "source": [
        "import sympy\n",
        "import quple\n",
        "import cirq\n",
        "import tensorflow as tf"
      ],
      "execution_count": null,
      "outputs": []
    },
    {
      "cell_type": "code",
      "metadata": {
        "colab": {
          "base_uri": "https://localhost:8080/",
          "height": 57
        },
        "id": "aqf0QdzCFMMF",
        "outputId": "712a2f52-5775-49a8-e2b8-4a16409f9de9"
      },
      "source": [
        "# let's make some sympy expressions\n",
        "feature_dimension = 4\n",
        "x = sympy.symarray(\"x\", feature_dimension)\n",
        "formula = sympy.pi*(sympy.cos(x[0])*sympy.sin(x[1]))**2/(x[2]+x[3])\n",
        "formula"
      ],
      "execution_count": null,
      "outputs": [
        {
          "output_type": "execute_result",
          "data": {
            "text/latex": "$\\displaystyle \\frac{\\pi \\sin^{2}{\\left(x_{1} \\right)} \\cos^{2}{\\left(x_{0} \\right)}}{x_{2} + x_{3}}$",
            "text/plain": [
              "pi*sin(x_1)**2*cos(x_0)**2/(x_2 + x_3)"
            ]
          },
          "metadata": {
            "tags": []
          },
          "execution_count": 3
        }
      ]
    },
    {
      "cell_type": "code",
      "metadata": {
        "colab": {
          "base_uri": "https://localhost:8080/"
        },
        "id": "NAwZP3sKGHMa",
        "outputId": "80384795-c552-4684-a3db-5a7ded6044df"
      },
      "source": [
        "symbols = [i.name for i in x]\n",
        "symbols"
      ],
      "execution_count": null,
      "outputs": [
        {
          "output_type": "execute_result",
          "data": {
            "text/plain": [
              "['x_0', 'x_1', 'x_2', 'x_3']"
            ]
          },
          "metadata": {
            "tags": []
          },
          "execution_count": 4
        }
      ]
    },
    {
      "cell_type": "code",
      "metadata": {
        "id": "XuJkrG4zFMOZ"
      },
      "source": [
        "from quple.interface.tfq.tf_resolvers import resolve_formula\n",
        "# resolve the formula as tf operations\n",
        "# here the order of the \"symbols\" will correspond to the index of the tf.Tensor which the symbol gets mapped to\n",
        "# for example, if \n",
        "# symbols = [\"a\", \"b\", \"c\", \"d\"]\n",
        "# and x = tf.Tensor([1, 2, 3, 4])\n",
        "# then symbol \"a\" will map to the x[0] which equals 1 and \"b\" to x[1], and so on\n",
        "resolved_formula = resolve_formula(formula, symbols)"
      ],
      "execution_count": null,
      "outputs": []
    },
    {
      "cell_type": "code",
      "metadata": {
        "colab": {
          "base_uri": "https://localhost:8080/"
        },
        "id": "0Epk0kCIFMQM",
        "outputId": "83b5e66e-b979-47f5-f111-1cdc12af75d4"
      },
      "source": [
        "# try to get the value of the formula from a tensor variable\n",
        "x = tf.Variable(tf.random.normal((feature_dimension,)))\n",
        "x"
      ],
      "execution_count": null,
      "outputs": [
        {
          "output_type": "execute_result",
          "data": {
            "text/plain": [
              "<tf.Variable 'Variable:0' shape=(4,) dtype=float32, numpy=array([-0.49065357, -0.3547651 , -0.6583589 , -0.26907787], dtype=float32)>"
            ]
          },
          "metadata": {
            "tags": []
          },
          "execution_count": 6
        }
      ]
    },
    {
      "cell_type": "code",
      "metadata": {
        "colab": {
          "base_uri": "https://localhost:8080/"
        },
        "id": "qd7effDtGktq",
        "outputId": "0611bd36-6a2a-446a-8a7e-bdad6b738f99"
      },
      "source": [
        "resolved_formula(x)"
      ],
      "execution_count": null,
      "outputs": [
        {
          "output_type": "execute_result",
          "data": {
            "text/plain": [
              "<tf.Tensor: shape=(), dtype=float32, numpy=-0.31798917>"
            ]
          },
          "metadata": {
            "tags": []
          },
          "execution_count": 7
        }
      ]
    },
    {
      "cell_type": "code",
      "metadata": {
        "id": "-Nx9OMW4GngL"
      },
      "source": [
        "# you can also use 2d tensor, but it will get resolved like\n",
        "# pi*sin(x[1])*cos(x[0])/ (x[2]+x[3])\n",
        "# so if your tensor shape is (batchsize, features), you will need to transpose it first, then transpose it back\n",
        "\n",
        "# fortunately, there is another method to achieve that without much trouble:\n",
        "# this method works on a list of formulas\n",
        "from quple.interface.tfq.tf_resolvers import resolve_formulas\n",
        "resolved_formulas = resolve_formulas([formula], symbols)"
      ],
      "execution_count": null,
      "outputs": []
    },
    {
      "cell_type": "code",
      "metadata": {
        "colab": {
          "base_uri": "https://localhost:8080/"
        },
        "id": "OkuKrBkhGnj0",
        "outputId": "fa14284f-1dc9-4b79-ba08-f5d9e2a4a7f4"
      },
      "source": [
        "batchsize = 10\n",
        "x = tf.Variable(tf.random.normal((batchsize, feature_dimension)))\n",
        "x"
      ],
      "execution_count": null,
      "outputs": [
        {
          "output_type": "execute_result",
          "data": {
            "text/plain": [
              "<tf.Variable 'Variable:0' shape=(10, 4) dtype=float32, numpy=\n",
              "array([[ 0.34069398,  1.4260918 , -0.9071983 ,  0.28731903],\n",
              "       [ 0.61207396,  0.3552132 ,  0.22679573,  0.9919552 ],\n",
              "       [ 0.01560564, -0.37249205, -1.355871  ,  0.49101305],\n",
              "       [ 0.3221842 ,  0.3426842 , -1.0314633 , -0.11221913],\n",
              "       [ 0.42980465, -0.39307436, -0.3663515 , -1.0354388 ],\n",
              "       [-0.3336734 , -0.38435593,  0.35889557,  0.17012145],\n",
              "       [ 0.3865679 , -0.15573   ,  1.1938944 ,  0.8903954 ],\n",
              "       [-0.76794577, -0.557606  , -0.07827922, -0.9453481 ],\n",
              "       [-0.09783286,  0.23846461, -0.24306053, -0.7797711 ],\n",
              "       [ 2.0285783 ,  0.9260963 , -1.5204161 ,  0.11615999]],\n",
              "      dtype=float32)>"
            ]
          },
          "metadata": {
            "tags": []
          },
          "execution_count": 9
        }
      ]
    },
    {
      "cell_type": "code",
      "metadata": {
        "colab": {
          "base_uri": "https://localhost:8080/"
        },
        "id": "2KJKJZz_H1-8",
        "outputId": "d0ce26a3-8c56-479c-a6d4-b6094995b4bb"
      },
      "source": [
        "resolved_formulas(x)"
      ],
      "execution_count": null,
      "outputs": [
        {
          "output_type": "execute_result",
          "data": {
            "text/plain": [
              "<tf.Tensor: shape=(10, 1), dtype=float32, numpy=\n",
              "array([[-4.4086027 ],\n",
              "       [ 0.20886359],\n",
              "       [-0.48100927],\n",
              "       [-0.27905023],\n",
              "       [-0.27170995],\n",
              "       [ 0.74537843],\n",
              "       [ 0.03110571],\n",
              "       [-0.44467568],\n",
              "       [-0.16973929],\n",
              "       [-0.27916858]], dtype=float32)>"
            ]
          },
          "metadata": {
            "tags": []
          },
          "execution_count": 10
        }
      ]
    },
    {
      "cell_type": "markdown",
      "metadata": {
        "id": "c38HL4LuKSQg"
      },
      "source": [
        "## Practical Example"
      ]
    },
    {
      "cell_type": "code",
      "metadata": {
        "id": "427WWe9OBcul"
      },
      "source": [
        "n_qubit = feature_dimension = 5"
      ],
      "execution_count": null,
      "outputs": []
    },
    {
      "cell_type": "code",
      "metadata": {
        "colab": {
          "base_uri": "https://localhost:8080/",
          "height": 170
        },
        "id": "DmUuwGp55yPu",
        "outputId": "0e051ac3-5dc2-4bfe-9bd5-750a64e5ae3b"
      },
      "source": [
        "from quple import ParameterisedCircuit\n",
        "model_circuit = ParameterisedCircuit(n_qubit=n_qubit, copies=2, rotation_blocks=['RZ', 'RY'], entanglement_blocks=['XX'], entangle_strategy=\"alternate_linear\")\n",
        "model_circuit"
      ],
      "execution_count": null,
      "outputs": [
        {
          "output_type": "execute_result",
          "data": {
            "text/html": [
              "<pre style=\"overflow: auto; white-space: pre;\">(0, 0): ───Rz(θ_0)───Ry(θ_5)───XX──────────Rz(θ_14)────Ry(θ_19)──────────────XX──────────────────────\n",
              "                               │                                             │\n",
              "(0, 1): ───Rz(θ_1)───Ry(θ_6)───XX^(θ_10)───XX──────────Rz(θ_15)───Ry(θ_20)───XX^(θ_24)───XX──────────\n",
              "                                           │                                             │\n",
              "(0, 2): ───Rz(θ_2)───Ry(θ_7)───XX──────────XX^(θ_12)───Rz(θ_16)───Ry(θ_21)───XX──────────XX^(θ_26)───\n",
              "                               │                                             │\n",
              "(0, 3): ───Rz(θ_3)───Ry(θ_8)───XX^(θ_11)───XX──────────Rz(θ_17)───Ry(θ_22)───XX^(θ_25)───XX──────────\n",
              "                                           │                                             │\n",
              "(0, 4): ───Rz(θ_4)───Ry(θ_9)───────────────XX^(θ_13)───Rz(θ_18)───Ry(θ_23)───────────────XX^(θ_27)───</pre>"
            ],
            "text/plain": [
              "(0, 0): ───Rz(θ_0)───Ry(θ_5)───XX──────────Rz(θ_14)────Ry(θ_19)──────────────XX──────────────────────\n",
              "                               │                                             │\n",
              "(0, 1): ───Rz(θ_1)───Ry(θ_6)───XX^(θ_10)───XX──────────Rz(θ_15)───Ry(θ_20)───XX^(θ_24)───XX──────────\n",
              "                                           │                                             │\n",
              "(0, 2): ───Rz(θ_2)───Ry(θ_7)───XX──────────XX^(θ_12)───Rz(θ_16)───Ry(θ_21)───XX──────────XX^(θ_26)───\n",
              "                               │                                             │\n",
              "(0, 3): ───Rz(θ_3)───Ry(θ_8)───XX^(θ_11)───XX──────────Rz(θ_17)───Ry(θ_22)───XX^(θ_25)───XX──────────\n",
              "                                           │                                             │\n",
              "(0, 4): ───Rz(θ_4)───Ry(θ_9)───────────────XX^(θ_13)───Rz(θ_18)───Ry(θ_23)───────────────XX^(θ_27)───"
            ]
          },
          "metadata": {
            "tags": []
          },
          "execution_count": 12
        }
      ]
    },
    {
      "cell_type": "code",
      "metadata": {
        "colab": {
          "base_uri": "https://localhost:8080/",
          "height": 187
        },
        "id": "yxACVllA6KVc",
        "outputId": "c1e128df-55f0-4518-be67-7223649db280"
      },
      "source": [
        "from quple.data_encoding import EncodingCircuit\n",
        "from quple import PauliBlock\n",
        "data_circuit = EncodingCircuit(feature_dimension=feature_dimension, copies=2, rotation_blocks=['H', 'RZ'], entanglement_blocks=[PauliBlock('ZZ')], entangle_strategy=\"alternate_linear\", \n",
        "                               encoding_map=\"cosine_product\",\n",
        "                               parameter_scale=1,      # by default will multiply every parameter by sympy.pi if parameter_scale is not specified\n",
        "                               flatten_circuit=False)  # flattening the circuit will combine formulas into a single symbol so when you print the circuit it doesn't look quite good\n",
        "data_circuit"
      ],
      "execution_count": null,
      "outputs": [
        {
          "output_type": "execute_result",
          "data": {
            "text/html": [
              "<pre style=\"overflow: auto; white-space: pre;\">(0, 0): ───H───Rz(x_0)───@───────────────────────────@───────────────────────────────────────────────────────────────────────────────H───Rz(x_0)───@─────────────────────────────────@───────────────────────────────────────────────────────────────────────────────────\n",
              "                         │                           │                                                                                             │                                 │\n",
              "(0, 1): ───H───Rz(x_1)───X───Rz(cos(x_0)*cos(x_1))───X───────────────────────────@───────────────────────────@───────────────────────H───Rz(x_1)───X─────────Rz(cos(x_0)*cos(x_1))───X───────────────────────────@───────────────────────────@───────────────────────────\n",
              "                                                                                 │                           │                                                                                                   │                           │\n",
              "(0, 2): ───H───Rz(x_2)───@───────────────────────────────────────────────────@───X───Rz(cos(x_1)*cos(x_2))───X───────────────────────H───Rz(x_2)─────────────@───────────────────────────────────────────────@───X───Rz(cos(x_1)*cos(x_2))───X───────────────────────────\n",
              "                         │                                                   │                                                                               │                                               │\n",
              "(0, 3): ───H───Rz(x_3)───X───────────────────────────Rz(cos(x_2)*cos(x_3))───X───@───────────────────────────────────────────────────@───H─────────Rz(x_3)───X───────────────────────Rz(cos(x_2)*cos(x_3))───X───@───────────────────────────────────────────────────@───\n",
              "                                                                                 │                                                   │                                                                           │                                                   │\n",
              "(0, 4): ───H───Rz(x_4)───────────────────────────────────────────────────────────X───────────────────────────Rz(cos(x_3)*cos(x_4))───X───H─────────Rz(x_4)───────────────────────────────────────────────────────X───────────────────────────Rz(cos(x_3)*cos(x_4))───X───</pre>"
            ],
            "text/plain": [
              "(0, 0): ───H───Rz(x_0)───@───────────────────────────@───────────────────────────────────────────────────────────────────────────────H───Rz(x_0)───@─────────────────────────────────@───────────────────────────────────────────────────────────────────────────────────\n",
              "                         │                           │                                                                                             │                                 │\n",
              "(0, 1): ───H───Rz(x_1)───X───Rz(cos(x_0)*cos(x_1))───X───────────────────────────@───────────────────────────@───────────────────────H───Rz(x_1)───X─────────Rz(cos(x_0)*cos(x_1))───X───────────────────────────@───────────────────────────@───────────────────────────\n",
              "                                                                                 │                           │                                                                                                   │                           │\n",
              "(0, 2): ───H───Rz(x_2)───@───────────────────────────────────────────────────@───X───Rz(cos(x_1)*cos(x_2))───X───────────────────────H───Rz(x_2)─────────────@───────────────────────────────────────────────@───X───Rz(cos(x_1)*cos(x_2))───X───────────────────────────\n",
              "                         │                                                   │                                                                               │                                               │\n",
              "(0, 3): ───H───Rz(x_3)───X───────────────────────────Rz(cos(x_2)*cos(x_3))───X───@───────────────────────────────────────────────────@───H─────────Rz(x_3)───X───────────────────────Rz(cos(x_2)*cos(x_3))───X───@───────────────────────────────────────────────────@───\n",
              "                                                                                 │                                                   │                                                                           │                                                   │\n",
              "(0, 4): ───H───Rz(x_4)───────────────────────────────────────────────────────────X───────────────────────────Rz(cos(x_3)*cos(x_4))───X───H─────────Rz(x_4)───────────────────────────────────────────────────────X───────────────────────────Rz(cos(x_3)*cos(x_4))───X───"
            ]
          },
          "metadata": {
            "tags": []
          },
          "execution_count": 13
        }
      ]
    },
    {
      "cell_type": "code",
      "metadata": {
        "colab": {
          "base_uri": "https://localhost:8080/"
        },
        "id": "fXilF0Wu6iH9",
        "outputId": "d9f1ff58-e9ea-4085-8dcb-e17cc0e4d078"
      },
      "source": [
        "symbols = data_circuit.symbols\n",
        "symbols"
      ],
      "execution_count": null,
      "outputs": [
        {
          "output_type": "execute_result",
          "data": {
            "text/plain": [
              "['x_0', 'x_1', 'x_2', 'x_3', 'x_4']"
            ]
          },
          "metadata": {
            "tags": []
          },
          "execution_count": 14
        }
      ]
    },
    {
      "cell_type": "code",
      "metadata": {
        "colab": {
          "base_uri": "https://localhost:8080/",
          "height": 187
        },
        "id": "VUGvoYDh7UsU",
        "outputId": "94e5a82d-665f-45ba-c9fa-2cb3fd25f6fd"
      },
      "source": [
        "data_circuit.flatten()\n",
        "data_circuit"
      ],
      "execution_count": null,
      "outputs": [
        {
          "output_type": "execute_result",
          "data": {
            "text/html": [
              "<pre style=\"overflow: auto; white-space: pre;\">(0, 0): ───H───Rz(pi*&lt;x_0/pi&gt;)───@───────────────────────────────────@───────────────────────────────────────────────────────────────────────────────────────────────────────H───Rz(pi*&lt;x_0/pi&gt;)───@─────────────────────────────────────────────────@───────────────────────────────────────────────────────────────────────────────────────────────────────────\n",
              "                                 │                                   │                                                                                                                             │                                                 │\n",
              "(0, 1): ───H───Rz(pi*&lt;x_1/pi&gt;)───X───Rz(pi*&lt;cos(x_0)*cos(x_1)/pi&gt;)───X───────────────────────────────────@───────────────────────────────────@───────────────────────────────H───Rz(pi*&lt;x_1/pi&gt;)───X─────────────────Rz(pi*&lt;cos(x_0)*cos(x_1)/pi&gt;)───X───────────────────────────────────@───────────────────────────────────@───────────────────────────────────\n",
              "                                                                                                         │                                   │                                                                                                                                           │                                   │\n",
              "(0, 2): ───H───Rz(pi*&lt;x_2/pi&gt;)───@───────────────────────────────────────────────────────────────────@───X───Rz(pi*&lt;cos(x_1)*cos(x_2)/pi&gt;)───X───────────────────────────────H───Rz(pi*&lt;x_2/pi&gt;)─────────────────────@───────────────────────────────────────────────────────────────@───X───Rz(pi*&lt;cos(x_1)*cos(x_2)/pi&gt;)───X───────────────────────────────────\n",
              "                                 │                                                                   │                                                                                                               │                                                               │\n",
              "(0, 3): ───H───Rz(pi*&lt;x_3/pi&gt;)───X───────────────────────────────────Rz(pi*&lt;cos(x_2)*cos(x_3)/pi&gt;)───X───@───────────────────────────────────────────────────────────────────@───H─────────────────Rz(pi*&lt;x_3/pi&gt;)───X───────────────────────────────Rz(pi*&lt;cos(x_2)*cos(x_3)/pi&gt;)───X───@───────────────────────────────────────────────────────────────────@───\n",
              "                                                                                                         │                                                                   │                                                                                                           │                                                                   │\n",
              "(0, 4): ───H───Rz(pi*&lt;x_4/pi&gt;)───────────────────────────────────────────────────────────────────────────X───────────────────────────────────Rz(pi*&lt;cos(x_3)*cos(x_4)/pi&gt;)───X───H─────────────────Rz(pi*&lt;x_4/pi&gt;)───────────────────────────────────────────────────────────────────────X───────────────────────────────────Rz(pi*&lt;cos(x_3)*cos(x_4)/pi&gt;)───X───</pre>"
            ],
            "text/plain": [
              "(0, 0): ───H───Rz(pi*<x_0/pi>)───@───────────────────────────────────@───────────────────────────────────────────────────────────────────────────────────────────────────────H───Rz(pi*<x_0/pi>)───@─────────────────────────────────────────────────@───────────────────────────────────────────────────────────────────────────────────────────────────────────\n",
              "                                 │                                   │                                                                                                                             │                                                 │\n",
              "(0, 1): ───H───Rz(pi*<x_1/pi>)───X───Rz(pi*<cos(x_0)*cos(x_1)/pi>)───X───────────────────────────────────@───────────────────────────────────@───────────────────────────────H───Rz(pi*<x_1/pi>)───X─────────────────Rz(pi*<cos(x_0)*cos(x_1)/pi>)───X───────────────────────────────────@───────────────────────────────────@───────────────────────────────────\n",
              "                                                                                                         │                                   │                                                                                                                                           │                                   │\n",
              "(0, 2): ───H───Rz(pi*<x_2/pi>)───@───────────────────────────────────────────────────────────────────@───X───Rz(pi*<cos(x_1)*cos(x_2)/pi>)───X───────────────────────────────H───Rz(pi*<x_2/pi>)─────────────────────@───────────────────────────────────────────────────────────────@───X───Rz(pi*<cos(x_1)*cos(x_2)/pi>)───X───────────────────────────────────\n",
              "                                 │                                                                   │                                                                                                               │                                                               │\n",
              "(0, 3): ───H───Rz(pi*<x_3/pi>)───X───────────────────────────────────Rz(pi*<cos(x_2)*cos(x_3)/pi>)───X───@───────────────────────────────────────────────────────────────────@───H─────────────────Rz(pi*<x_3/pi>)───X───────────────────────────────Rz(pi*<cos(x_2)*cos(x_3)/pi>)───X───@───────────────────────────────────────────────────────────────────@───\n",
              "                                                                                                         │                                                                   │                                                                                                           │                                                                   │\n",
              "(0, 4): ───H───Rz(pi*<x_4/pi>)───────────────────────────────────────────────────────────────────────────X───────────────────────────────────Rz(pi*<cos(x_3)*cos(x_4)/pi>)───X───H─────────────────Rz(pi*<x_4/pi>)───────────────────────────────────────────────────────────────────────X───────────────────────────────────Rz(pi*<cos(x_3)*cos(x_4)/pi>)───X───"
            ]
          },
          "metadata": {
            "tags": []
          },
          "execution_count": 15
        }
      ]
    },
    {
      "cell_type": "code",
      "metadata": {
        "colab": {
          "base_uri": "https://localhost:8080/"
        },
        "id": "5Kf1-eYGKcas",
        "outputId": "e40d94de-e47c-475d-dd4b-1440f8716466"
      },
      "source": [
        "# you can see that flatten() literally flatten the symbols\n",
        "data_circuit.symbols"
      ],
      "execution_count": null,
      "outputs": [
        {
          "output_type": "execute_result",
          "data": {
            "text/plain": [
              "['<cos(x_0)*cos(x_1)/pi>',\n",
              " '<cos(x_1)*cos(x_2)/pi>',\n",
              " '<cos(x_2)*cos(x_3)/pi>',\n",
              " '<cos(x_3)*cos(x_4)/pi>',\n",
              " '<x_0/pi>',\n",
              " '<x_1/pi>',\n",
              " '<x_2/pi>',\n",
              " '<x_3/pi>',\n",
              " '<x_4/pi>']"
            ]
          },
          "metadata": {
            "tags": []
          },
          "execution_count": 16
        }
      ]
    },
    {
      "cell_type": "code",
      "metadata": {
        "colab": {
          "base_uri": "https://localhost:8080/"
        },
        "id": "pnVFUWVu8cUS",
        "outputId": "9b411808-75f3-4f20-8cbe-3f2a753001ff"
      },
      "source": [
        "# by doing flatten(), an cirq.ExpressionMap is created which gives you a handle of the sympy formulas involved\n",
        "data_circuit.expr_map"
      ],
      "execution_count": null,
      "outputs": [
        {
          "output_type": "execute_result",
          "data": {
            "text/plain": [
              "cirq.ExpressionMap({x_0/pi: <x_0/pi>, x_1/pi: <x_1/pi>, x_2/pi: <x_2/pi>, x_3/pi: <x_3/pi>, x_4/pi: <x_4/pi>, cos(x_0)*cos(x_1)/pi: <cos(x_0)*cos(x_1)/pi>, cos(x_2)*cos(x_3)/pi: <cos(x_2)*cos(x_3)/pi>, cos(x_1)*cos(x_2)/pi: <cos(x_1)*cos(x_2)/pi>, cos(x_3)*cos(x_4)/pi: <cos(x_3)*cos(x_4)/pi>})"
            ]
          },
          "metadata": {
            "tags": []
          },
          "execution_count": 17
        }
      ]
    },
    {
      "cell_type": "code",
      "metadata": {
        "colab": {
          "base_uri": "https://localhost:8080/"
        },
        "id": "Py4duG9a8sBZ",
        "outputId": "d4f27106-c963-475b-8d27-17ebf95cb6b2"
      },
      "source": [
        "formulas = list(data_circuit.expr_map)\n",
        "formulas"
      ],
      "execution_count": null,
      "outputs": [
        {
          "output_type": "execute_result",
          "data": {
            "text/plain": [
              "[x_0/pi,\n",
              " x_1/pi,\n",
              " x_2/pi,\n",
              " x_3/pi,\n",
              " x_4/pi,\n",
              " cos(x_0)*cos(x_1)/pi,\n",
              " cos(x_2)*cos(x_3)/pi,\n",
              " cos(x_1)*cos(x_2)/pi,\n",
              " cos(x_3)*cos(x_4)/pi]"
            ]
          },
          "metadata": {
            "tags": []
          },
          "execution_count": 18
        }
      ]
    },
    {
      "cell_type": "code",
      "metadata": {
        "id": "Z46Lu7Ws8yli"
      },
      "source": [
        "# you can then resolve the formulas in terms of tf operations using\n",
        "resolved_formulas = resolve_formulas(formulas, symbols)"
      ],
      "execution_count": null,
      "outputs": []
    },
    {
      "cell_type": "code",
      "metadata": {
        "colab": {
          "base_uri": "https://localhost:8080/"
        },
        "id": "0o8FUHhGLYhr",
        "outputId": "66a5995e-0a04-435d-8831-e929148efdf7"
      },
      "source": [
        "# create your favourite training input\n",
        "batchsize = 10\n",
        "x = tf.random.normal((batchsize, feature_dimension))\n",
        "x"
      ],
      "execution_count": null,
      "outputs": [
        {
          "output_type": "execute_result",
          "data": {
            "text/plain": [
              "<tf.Tensor: shape=(10, 5), dtype=float32, numpy=\n",
              "array([[-0.24596362, -1.1355942 , -1.4965937 ,  1.6728464 , -2.0675292 ],\n",
              "       [ 0.5458359 ,  0.76345634,  1.5090107 , -0.27239504,  0.789961  ],\n",
              "       [-1.2302603 , -0.42953163,  1.6840651 ,  0.46873206, -0.19669703],\n",
              "       [-0.02437594,  2.3881183 , -2.14611   , -0.23488878,  0.0228683 ],\n",
              "       [-0.0609254 , -1.1647993 ,  2.0511315 ,  0.221681  ,  0.08062973],\n",
              "       [-0.8195732 , -0.00395163, -1.6016334 ,  2.311174  ,  0.17437115],\n",
              "       [ 0.3900983 , -1.5200758 , -0.27337474,  0.59688985,  0.37387502],\n",
              "       [-1.1892382 , -1.0763328 , -0.4708972 , -0.37735718, -1.8763796 ],\n",
              "       [ 1.0227927 ,  2.1483288 , -0.3803175 ,  0.36922193, -2.918509  ],\n",
              "       [-1.0051631 ,  0.16521662,  1.5798893 ,  2.2749743 ,  0.75382626]],\n",
              "      dtype=float32)>"
            ]
          },
          "metadata": {
            "tags": []
          },
          "execution_count": 20
        }
      ]
    },
    {
      "cell_type": "code",
      "metadata": {
        "colab": {
          "base_uri": "https://localhost:8080/"
        },
        "id": "kj2sGx1hLs3z",
        "outputId": "b05d7f61-ad02-4d71-a46a-87a6e07e49fb"
      },
      "source": [
        "# here\n",
        "# y[0][0] is the value of the 1st formula, i.e. x_0/pi for the first data batch\n",
        "# y[0][6] is the value of the 6th formula, i.e. cos(x_0)*cos(x_1)/pi for the first data batch\n",
        "# y[1][0] is the value of the 1st formula for the second data batch\n",
        "y = resolved_formulas(x)\n",
        "y"
      ],
      "execution_count": null,
      "outputs": [
        {
          "output_type": "execute_result",
          "data": {
            "text/plain": [
              "<tf.Tensor: shape=(10, 9), dtype=float32, numpy=\n",
              "array([[-0.07829265, -0.36147085, -0.47638056,  0.5324835 , -0.65811497,\n",
              "         0.13015851, -0.00240398,  0.00994866,  0.01545337],\n",
              "       [ 0.17374496,  0.24301569,  0.480333  , -0.08670603,  0.2514524 ,\n",
              "         0.19654801,  0.0189298 ,  0.01419938,  0.21578886],\n",
              "       [-0.39160398, -0.13672416,  0.53605455,  0.14920205, -0.0626106 ,\n",
              "         0.09665571, -0.03209705, -0.03270936,  0.27850172],\n",
              "       [-0.0077591 ,  0.76016164, -0.683128  , -0.07476742,  0.0072792 ,\n",
              "        -0.23207958, -0.16843599,  0.12631157,  0.30948824],\n",
              "       [-0.01939316, -0.37076712,  0.6528954 ,  0.07056325,  0.02566524,\n",
              "         0.12547845, -0.14348425, -0.0580884 ,  0.30951178],\n",
              "       [-0.26087824, -0.00125784, -0.50981575,  0.7356695 ,  0.05550406,\n",
              "         0.21725534,  0.00662033, -0.00981412, -0.21146517],\n",
              "       [ 0.12417214, -0.48385513, -0.08701788,  0.18999593,  0.11900811,\n",
              "         0.01492551,  0.25349373,  0.01553865,  0.24508324],\n",
              "       [-0.37854627, -0.34260735, -0.14989123, -0.12011652, -0.59727013,\n",
              "         0.05624864,  0.2637073 ,  0.13461618, -0.0890256 ],\n",
              "       [ 0.325565  ,  0.68383425, -0.12105882,  0.11752699, -0.92899024,\n",
              "        -0.09053868,  0.275647  , -0.1613665 , -0.28950226],\n",
              "       [-0.31995332,  0.05259008,  0.50289434,  0.7241468 ,  0.23995034,\n",
              "         0.16827525,  0.00187382, -0.00285493, -0.1502451 ]],\n",
              "      dtype=float32)>"
            ]
          },
          "metadata": {
            "tags": []
          },
          "execution_count": 21
        }
      ]
    },
    {
      "cell_type": "markdown",
      "metadata": {
        "id": "w4B-I7AnMP3K"
      },
      "source": [
        "# The PQC class\n",
        "- It accepts the `model_circuit` and `data_circuit` as input\n",
        "- `model_circuit` contains the weights of your pqc layer so this circuit should not contain composite formulas in its gate operations\n",
        "- `data_circuit` is the circuit that transforms the classical input data into the input quantum state of the `model_circuit`, it can contain composite formmulas in its gate operations which correspond to the so-called \"feature maps\"\n",
        "\n",
        "What it does:\n",
        "- It flattens the `data_circuit` so that all formulas inside the circuit turns into symbols. This is important because tfq simulator (qsim) does not support resolving sympy formulas.\n",
        "- It compiles the formulas inside the `data_circuit` in terms of a lambda function of composite tensorflow operations when the class is initialzed. \n",
        "- When the class is called, it transforms the `inputs` tensor into a tensor containing the resolved values of the formulas of the `data_circuit`. The tensor is then clipped to the weight tensor and passed as `symbol_values` to the tfq simulator."
      ]
    },
    {
      "cell_type": "code",
      "metadata": {
        "id": "Rn3hmWj88zX5"
      },
      "source": [
        "from quple.interface.tfq.layers.pqc import PQC"
      ],
      "execution_count": null,
      "outputs": []
    },
    {
      "cell_type": "code",
      "metadata": {
        "id": "pwjAB1wXS1-j"
      },
      "source": [
        "qubits = quple.get_circuit_qubits(data_circuit)\n",
        "readout = [cirq.Z(qubit) for qubit in qubits]"
      ],
      "execution_count": null,
      "outputs": []
    },
    {
      "cell_type": "code",
      "metadata": {
        "id": "liHZ_nZ6Sq8W"
      },
      "source": [
        "pqc_layer = PQC(model_circuit, data_circuit, readout)"
      ],
      "execution_count": null,
      "outputs": []
    },
    {
      "cell_type": "code",
      "metadata": {
        "colab": {
          "base_uri": "https://localhost:8080/"
        },
        "id": "4HF2o5cTTELj",
        "outputId": "c101e901-5086-4300-c8eb-82acfb44849a"
      },
      "source": [
        "x = tf.random.normal((batchsize, feature_dimension))\n",
        "pqc_layer(x)"
      ],
      "execution_count": null,
      "outputs": [
        {
          "output_type": "execute_result",
          "data": {
            "text/plain": [
              "<tf.Tensor: shape=(10, 5), dtype=float32, numpy=\n",
              "array([[ 0.27678746,  0.5200558 ,  0.01959522, -0.14102076,  0.17118864],\n",
              "       [ 0.00913363,  0.6656975 ,  0.14828914, -0.27971178, -0.20858736],\n",
              "       [-0.39217895,  0.17759456, -0.37867796, -0.27535462,  0.02611235],\n",
              "       [-0.02902753,  0.6732651 ,  0.21796784, -0.33425954,  0.0056381 ],\n",
              "       [-0.13300319,  0.20217375, -0.11104707,  0.26674023,  0.47732952],\n",
              "       [-0.48761177,  0.25493357, -0.21529172, -0.0192354 , -0.5494061 ],\n",
              "       [-0.39816177,  0.4321662 , -0.02633118, -0.02426801, -0.4981192 ],\n",
              "       [ 0.09813245,  0.25100654, -0.3940597 , -0.10004365, -0.46641397],\n",
              "       [-0.06610939,  0.00961988, -0.45314544, -0.00989364,  0.34783724],\n",
              "       [-0.2253911 , -0.34409267, -0.45005468,  0.23739319, -0.4435135 ]],\n",
              "      dtype=float32)>"
            ]
          },
          "metadata": {
            "tags": []
          },
          "execution_count": 25
        }
      ]
    },
    {
      "cell_type": "code",
      "metadata": {
        "colab": {
          "base_uri": "https://localhost:8080/"
        },
        "id": "00qWTn0N93LQ",
        "outputId": "2e00d0ed-b9d0-4e68-b015-36bdbae78044"
      },
      "source": [
        "model = tf.keras.Sequential()\n",
        "input_layer = tf.keras.layers.Input(shape=(feature_dimension), dtype=tf.float32)\n",
        "model.add(input_layer)\n",
        "model.add(pqc_layer)\n",
        "model.summary()"
      ],
      "execution_count": null,
      "outputs": [
        {
          "output_type": "stream",
          "text": [
            "Model: \"sequential\"\n",
            "_________________________________________________________________\n",
            "Layer (type)                 Output Shape              Param #   \n",
            "=================================================================\n",
            "pqc (PQC)                    (None, 5)                 28        \n",
            "=================================================================\n",
            "Total params: 28\n",
            "Trainable params: 28\n",
            "Non-trainable params: 0\n",
            "_________________________________________________________________\n"
          ],
          "name": "stdout"
        }
      ]
    },
    {
      "cell_type": "code",
      "metadata": {
        "colab": {
          "base_uri": "https://localhost:8080/"
        },
        "id": "x3lU8XL2_lWM",
        "outputId": "a8f0df40-4362-407c-84c2-a9e85bd5d325"
      },
      "source": [
        "output = model(x)\n",
        "output"
      ],
      "execution_count": null,
      "outputs": [
        {
          "output_type": "execute_result",
          "data": {
            "text/plain": [
              "<tf.Tensor: shape=(10, 5), dtype=float32, numpy=\n",
              "array([[ 0.27678746,  0.5200558 ,  0.01959522, -0.14102076,  0.17118864],\n",
              "       [ 0.00913363,  0.6656975 ,  0.14828914, -0.27971178, -0.20858736],\n",
              "       [-0.39217895,  0.17759456, -0.37867796, -0.27535462,  0.02611235],\n",
              "       [-0.02902753,  0.6732651 ,  0.21796784, -0.33425954,  0.0056381 ],\n",
              "       [-0.13300319,  0.20217375, -0.11104707,  0.26674023,  0.47732952],\n",
              "       [-0.48761177,  0.25493357, -0.21529172, -0.0192354 , -0.5494061 ],\n",
              "       [-0.39816177,  0.4321662 , -0.02633118, -0.02426801, -0.4981192 ],\n",
              "       [ 0.09813245,  0.25100654, -0.3940597 , -0.10004365, -0.46641397],\n",
              "       [-0.06610939,  0.00961988, -0.45314544, -0.00989364,  0.34783724],\n",
              "       [-0.2253911 , -0.34409267, -0.45005468,  0.23739319, -0.4435135 ]],\n",
              "      dtype=float32)>"
            ]
          },
          "metadata": {
            "tags": []
          },
          "execution_count": 34
        }
      ]
    },
    {
      "cell_type": "markdown",
      "metadata": {
        "id": "V5UD_LaxcYZL"
      },
      "source": [
        "# Validation\n",
        "- We will validate the result by manually resolving the both `data_circuit` and `model_circuit` then measure the Z component of the spin of each qubit"
      ]
    },
    {
      "cell_type": "code",
      "metadata": {
        "id": "XNPXT81-cTRJ"
      },
      "source": [
        "resolved_data_circuits = data_circuit.resolve_parameters(x.numpy())"
      ],
      "execution_count": null,
      "outputs": []
    },
    {
      "cell_type": "code",
      "metadata": {
        "colab": {
          "base_uri": "https://localhost:8080/",
          "height": 170
        },
        "id": "MYj5Fg-xc4Jn",
        "outputId": "5e95efe4-9e9f-4805-9b94-4ab0857555fe"
      },
      "source": [
        "resolved_data_circuits[0]"
      ],
      "execution_count": null,
      "outputs": [
        {
          "output_type": "execute_result",
          "data": {
            "text/html": [
              "<pre style=\"overflow: auto; white-space: pre;\">(0, 0): ───H───Rz(-0.03π)────@────────────────@────────────────────────────────────────────H───Rz(-0.03π)───@──────────────────────────@────────────────────────────────────────────────\n",
              "                             │                │                                                             │                          │\n",
              "(0, 1): ───H───Rz(0.095π)────X───Rz(0.303π)───X────────────────@──────────────@────────────H───Rz(0.095π)───X─────────────Rz(0.303π)───X────────────────@──────────────@────────────────\n",
              "                                                               │              │                                                                         │              │\n",
              "(0, 2): ───H───Rz(0.054π)────@─────────────────────────────@───X───Rz(0.3π)───X────────────H───Rz(0.054π)─────────────────@─────────────────────────@───X───Rz(0.3π)───X────────────────\n",
              "                             │                             │                                                              │                         │\n",
              "(0, 3): ───H───Rz(-0.381π)───X────────────────Rz(0.115π)───X───@───────────────────────────@───H────────────Rz(-0.381π)───X────────────Rz(0.115π)───X───@───────────────────────────@───\n",
              "                                                               │                           │                                                            │                           │\n",
              "(0, 4): ───H───Rz(-0.33π)──────────────────────────────────────X──────────────Rz(0.059π)───X───H────────────Rz(-0.33π)──────────────────────────────────X──────────────Rz(0.059π)───X───</pre>"
            ],
            "text/plain": [
              "(0, 0): ───H───Rz(-0.03π)────@────────────────@────────────────────────────────────────────H───Rz(-0.03π)───@──────────────────────────@────────────────────────────────────────────────\n",
              "                             │                │                                                             │                          │\n",
              "(0, 1): ───H───Rz(0.095π)────X───Rz(0.303π)───X────────────────@──────────────@────────────H───Rz(0.095π)───X─────────────Rz(0.303π)───X────────────────@──────────────@────────────────\n",
              "                                                               │              │                                                                         │              │\n",
              "(0, 2): ───H───Rz(0.054π)────@─────────────────────────────@───X───Rz(0.3π)───X────────────H───Rz(0.054π)─────────────────@─────────────────────────@───X───Rz(0.3π)───X────────────────\n",
              "                             │                             │                                                              │                         │\n",
              "(0, 3): ───H───Rz(-0.381π)───X────────────────Rz(0.115π)───X───@───────────────────────────@───H────────────Rz(-0.381π)───X────────────Rz(0.115π)───X───@───────────────────────────@───\n",
              "                                                               │                           │                                                            │                           │\n",
              "(0, 4): ───H───Rz(-0.33π)──────────────────────────────────────X──────────────Rz(0.059π)───X───H────────────Rz(-0.33π)──────────────────────────────────X──────────────Rz(0.059π)───X───"
            ]
          },
          "metadata": {
            "tags": []
          },
          "execution_count": 29
        }
      ]
    },
    {
      "cell_type": "code",
      "metadata": {
        "colab": {
          "base_uri": "https://localhost:8080/",
          "height": 170
        },
        "id": "_lfpmchoc5kP",
        "outputId": "fd5c2ec4-e422-4174-c631-7c02978c28c6"
      },
      "source": [
        "resolved_model_circuit = model_circuit.resolve_parameters(pqc_layer.weights[0].numpy())\n",
        "resolved_model_circuit"
      ],
      "execution_count": null,
      "outputs": [
        {
          "output_type": "execute_result",
          "data": {
            "text/html": [
              "<pre style=\"overflow: auto; white-space: pre;\">(0, 0): ───Rz(1.08π)────Ry(1.75π)────XX─────────Rz(1.33π)───Ry(1.68π)─────────────────XX──────────────────────\n",
              "                                     │                                                │\n",
              "(0, 1): ───Rz(0.217π)───Ry(0.877π)───XX^0.989───XX──────────Rz(0.962π)───Ry(1.64π)────XX^0.821────XX──────────\n",
              "                                                │                                                 │\n",
              "(0, 2): ───Rz(1.63π)────Ry(1.14π)────XX─────────XX^0.841────Rz(0.8π)─────Ry(0.57π)────XX──────────XX^-0.393───\n",
              "                                     │                                                │\n",
              "(0, 3): ───Rz(1.19π)────Ry(1.63π)────XX^-0.95───XX──────────Rz(1.69π)────Ry(0.823π)───XX^-0.079───XX──────────\n",
              "                                                │                                                 │\n",
              "(0, 4): ───Rz(1.91π)────Ry(1.5π)────────────────XX^-0.453───Rz(1.08π)────Ry(1.25π)────────────────XX^0.838────</pre>"
            ],
            "text/plain": [
              "(0, 0): ───Rz(1.08π)────Ry(1.75π)────XX─────────Rz(1.33π)───Ry(1.68π)─────────────────XX──────────────────────\n",
              "                                     │                                                │\n",
              "(0, 1): ───Rz(0.217π)───Ry(0.877π)───XX^0.989───XX──────────Rz(0.962π)───Ry(1.64π)────XX^0.821────XX──────────\n",
              "                                                │                                                 │\n",
              "(0, 2): ───Rz(1.63π)────Ry(1.14π)────XX─────────XX^0.841────Rz(0.8π)─────Ry(0.57π)────XX──────────XX^-0.393───\n",
              "                                     │                                                │\n",
              "(0, 3): ───Rz(1.19π)────Ry(1.63π)────XX^-0.95───XX──────────Rz(1.69π)────Ry(0.823π)───XX^-0.079───XX──────────\n",
              "                                                │                                                 │\n",
              "(0, 4): ───Rz(1.91π)────Ry(1.5π)────────────────XX^-0.453───Rz(1.08π)────Ry(1.25π)────────────────XX^0.838────"
            ]
          },
          "metadata": {
            "tags": []
          },
          "execution_count": 30
        }
      ]
    },
    {
      "cell_type": "code",
      "metadata": {
        "id": "dY4qKBWqdc7_"
      },
      "source": [
        "combined_circuits = [ParameterisedCircuit.from_cirq(resolved_data_circuit + resolved_model_circuit) for resolved_data_circuit in resolved_data_circuits]"
      ],
      "execution_count": null,
      "outputs": []
    },
    {
      "cell_type": "code",
      "metadata": {
        "colab": {
          "base_uri": "https://localhost:8080/",
          "height": 187
        },
        "id": "TMX8r0HQd1b-",
        "outputId": "5e977cd5-2f77-4036-bc27-9d592995d2d7"
      },
      "source": [
        "combined_circuits[0]"
      ],
      "execution_count": null,
      "outputs": [
        {
          "output_type": "execute_result",
          "data": {
            "text/html": [
              "<pre style=\"overflow: auto; white-space: pre;\">(0, 0): ───H───Rz(-0.03π)────@────────────────@────────────────────────────────────────────H───Rz(-0.03π)───@──────────────────────────@────────────────────────────────────────────────Rz(1.08π)────Ry(1.75π)────XX─────────Rz(1.33π)───Ry(1.68π)─────────────────XX──────────────────────\n",
              "                             │                │                                                             │                          │                                                                          │                                                │\n",
              "(0, 1): ───H───Rz(0.095π)────X───Rz(0.303π)───X────────────────@──────────────@────────────H───Rz(0.095π)───X─────────────Rz(0.303π)───X────────────────@──────────────@────────────────Rz(0.217π)───Ry(0.877π)───XX^0.989───XX──────────Rz(0.962π)───Ry(1.64π)────XX^0.821────XX──────────\n",
              "                                                               │              │                                                                         │              │                                                     │                                                 │\n",
              "(0, 2): ───H───Rz(0.054π)────@─────────────────────────────@───X───Rz(0.3π)───X────────────H───Rz(0.054π)─────────────────@─────────────────────────@───X───Rz(0.3π)───X────────────────Rz(1.63π)────Ry(1.14π)────XX─────────XX^0.841────Rz(0.8π)─────Ry(0.57π)────XX──────────XX^-0.393───\n",
              "                             │                             │                                                              │                         │                                                             │                                                │\n",
              "(0, 3): ───H───Rz(-0.381π)───X────────────────Rz(0.115π)───X───@───────────────────────────@───H────────────Rz(-0.381π)───X────────────Rz(0.115π)───X───@───────────────────────────@───Rz(1.19π)────Ry(1.63π)────XX^-0.95───XX──────────Rz(1.69π)────Ry(0.823π)───XX^-0.079───XX──────────\n",
              "                                                               │                           │                                                            │                           │                                        │                                                 │\n",
              "(0, 4): ───H───Rz(-0.33π)──────────────────────────────────────X──────────────Rz(0.059π)───X───H────────────Rz(-0.33π)──────────────────────────────────X──────────────Rz(0.059π)───X───Rz(1.91π)────Ry(1.5π)────────────────XX^-0.453───Rz(1.08π)────Ry(1.25π)────────────────XX^0.838────</pre>"
            ],
            "text/plain": [
              "(0, 0): ───H───Rz(-0.03π)────@────────────────@────────────────────────────────────────────H───Rz(-0.03π)───@──────────────────────────@────────────────────────────────────────────────Rz(1.08π)────Ry(1.75π)────XX─────────Rz(1.33π)───Ry(1.68π)─────────────────XX──────────────────────\n",
              "                             │                │                                                             │                          │                                                                          │                                                │\n",
              "(0, 1): ───H───Rz(0.095π)────X───Rz(0.303π)───X────────────────@──────────────@────────────H───Rz(0.095π)───X─────────────Rz(0.303π)───X────────────────@──────────────@────────────────Rz(0.217π)───Ry(0.877π)───XX^0.989───XX──────────Rz(0.962π)───Ry(1.64π)────XX^0.821────XX──────────\n",
              "                                                               │              │                                                                         │              │                                                     │                                                 │\n",
              "(0, 2): ───H───Rz(0.054π)────@─────────────────────────────@───X───Rz(0.3π)───X────────────H───Rz(0.054π)─────────────────@─────────────────────────@───X───Rz(0.3π)───X────────────────Rz(1.63π)────Ry(1.14π)────XX─────────XX^0.841────Rz(0.8π)─────Ry(0.57π)────XX──────────XX^-0.393───\n",
              "                             │                             │                                                              │                         │                                                             │                                                │\n",
              "(0, 3): ───H───Rz(-0.381π)───X────────────────Rz(0.115π)───X───@───────────────────────────@───H────────────Rz(-0.381π)───X────────────Rz(0.115π)───X───@───────────────────────────@───Rz(1.19π)────Ry(1.63π)────XX^-0.95───XX──────────Rz(1.69π)────Ry(0.823π)───XX^-0.079───XX──────────\n",
              "                                                               │                           │                                                            │                           │                                        │                                                 │\n",
              "(0, 4): ───H───Rz(-0.33π)──────────────────────────────────────X──────────────Rz(0.059π)───X───H────────────Rz(-0.33π)──────────────────────────────────X──────────────Rz(0.059π)───X───Rz(1.91π)────Ry(1.5π)────────────────XX^-0.453───Rz(1.08π)────Ry(1.25π)────────────────XX^0.838────"
            ]
          },
          "metadata": {
            "tags": []
          },
          "execution_count": 32
        }
      ]
    },
    {
      "cell_type": "code",
      "metadata": {
        "colab": {
          "base_uri": "https://localhost:8080/"
        },
        "id": "cb9x8QVUgHJt",
        "outputId": "02396593-8c93-419c-d3a9-b0ac18e9d601"
      },
      "source": [
        "# the difference is due to the fact that \"get_expectation\" uses sampling whereas PQC by default use analytic method\n",
        "print(\"result from validation: \")\n",
        "print(combined_circuits[0].get_expectation(operators=readout, repetitions=1000000))\n",
        "print()\n",
        "print(\"result from PQC: \")\n",
        "print(output[0])"
      ],
      "execution_count": null,
      "outputs": [
        {
          "output_type": "stream",
          "text": [
            "result from validation: \n",
            "[[ 0.275906  0.520178  0.019066 -0.141302  0.170986]]\n",
            "\n",
            "result from PQC: \n",
            "tf.Tensor([ 0.27678746  0.5200558   0.01959522 -0.14102076  0.17118864], shape=(5,), dtype=float32)\n"
          ],
          "name": "stdout"
        }
      ]
    },
    {
      "cell_type": "code",
      "metadata": {
        "colab": {
          "base_uri": "https://localhost:8080/"
        },
        "id": "lv1Vnt2NgWya",
        "outputId": "589852fe-382e-4348-ef27-9e9c2d01a530"
      },
      "source": [
        "print(\"result from validation: \")\n",
        "print(combined_circuits[1].get_expectation(operators=readout, repetitions=1000000))\n",
        "print()\n",
        "print(\"result from PQC: \")\n",
        "print(output[1])"
      ],
      "execution_count": null,
      "outputs": [
        {
          "output_type": "stream",
          "text": [
            "result from validation: \n",
            "[[ 0.009552  0.665274  0.14919  -0.28005  -0.20802 ]]\n",
            "\n",
            "result from PQC: \n",
            "tf.Tensor([ 0.00913363  0.6656975   0.14828914 -0.27971178 -0.20858736], shape=(5,), dtype=float32)\n"
          ],
          "name": "stdout"
        }
      ]
    },
    {
      "cell_type": "code",
      "metadata": {
        "colab": {
          "base_uri": "https://localhost:8080/"
        },
        "id": "UUEWpmc9gtc5",
        "outputId": "cdac74b4-4733-4423-bceb-a73c4d343c01"
      },
      "source": [
        "print(\"result from validation: \")\n",
        "print(combined_circuits[2].get_expectation(operators=readout, repetitions=1000000))\n",
        "print()\n",
        "print(\"result from PQC: \")\n",
        "print(output[2])"
      ],
      "execution_count": null,
      "outputs": [
        {
          "output_type": "stream",
          "text": [
            "result from validation: \n",
            "[[-0.391368  0.175924 -0.378638 -0.274302  0.02673 ]]\n",
            "\n",
            "result from PQC: \n",
            "tf.Tensor([-0.39217895  0.17759456 -0.37867796 -0.27535462  0.02611235], shape=(5,), dtype=float32)\n"
          ],
          "name": "stdout"
        }
      ]
    },
    {
      "cell_type": "markdown",
      "metadata": {
        "id": "-_CKIqgqhENQ"
      },
      "source": [
        "## Another way to validate"
      ]
    },
    {
      "cell_type": "code",
      "metadata": {
        "colab": {
          "base_uri": "https://localhost:8080/",
          "height": 187
        },
        "id": "-eXZgV3dhF6Z",
        "outputId": "cb5a4277-3708-4c7a-fc05-6da2b7295f62"
      },
      "source": [
        "unresolved_combined_circuit = ParameterisedCircuit.from_cirq(data_circuit_ + model_circuit)\n",
        "unresolved_combined_circuit.flatten()\n",
        "unresolved_combined_circuit"
      ],
      "execution_count": null,
      "outputs": [
        {
          "output_type": "execute_result",
          "data": {
            "text/html": [
              "<pre style=\"overflow: auto; white-space: pre;\">(0, 0): ───H───Rz(pi*&lt;0.318309886183791*x_0&gt;)───@──────────────────────────────────────────────────@────────────────────────────────────────────────────────────────────────────────────────────────────────────────────────────────────────────────────H───Rz(pi*&lt;0.318309886183791*x_0&gt;)───@───────────────────────────────────────────────────────────────────────────────@────────────────────────────────────────────────────────────────────────────────────────────────────────────────────────────────────────────────────────Rz(pi*&lt;θ_0/pi&gt;)───Ry(pi*&lt;θ_5/pi&gt;)───XX──────────Rz(pi*&lt;θ_14/pi&gt;)───Ry(pi*&lt;θ_19/pi&gt;)──────────────────────XX──────────────────────\n",
              "                                                │                                                  │                                                                                                                                                                                         │                                                                               │                                                                                                                                                                                            │                                                                    │\n",
              "(0, 1): ───H───Rz(pi*&lt;0.318309886183791*x_1&gt;)───X───Rz(pi*&lt;0.318309886183791*cos(x_0)*cos(x_1)&gt;)───X──────────────────────────────────────────────────@──────────────────────────────────────────────────@──────────────────────────────────────────────H───Rz(pi*&lt;0.318309886183791*x_1&gt;)───X────────────────────────────────Rz(pi*&lt;0.318309886183791*cos(x_0)*cos(x_1)&gt;)───X──────────────────────────────────────────────────@──────────────────────────────────────────────────@──────────────────────────────────────────────────Rz(pi*&lt;θ_1/pi&gt;)───Ry(pi*&lt;θ_6/pi&gt;)───XX^(θ_10)───XX─────────────────Rz(pi*&lt;θ_15/pi&gt;)───Ry(pi*&lt;θ_20/pi&gt;)───XX^(θ_24)───XX──────────\n",
              "                                                                                                                                                      │                                                  │                                                                                                                                                                                                                      │                                                  │                                                                                                  │                                                                    │\n",
              "(0, 2): ───H───Rz(pi*&lt;0.318309886183791*x_2&gt;)───@─────────────────────────────────────────────────────────────────────────────────────────────────@───X───Rz(pi*&lt;0.318309886183791*cos(x_1)*cos(x_2)&gt;)───X──────────────────────────────────────────────H───Rz(pi*&lt;0.318309886183791*x_2&gt;)────────────────────────────────────@─────────────────────────────────────────────────────────────────────────────────────────────@───X───Rz(pi*&lt;0.318309886183791*cos(x_1)*cos(x_2)&gt;)───X──────────────────────────────────────────────────Rz(pi*&lt;θ_2/pi&gt;)───Ry(pi*&lt;θ_7/pi&gt;)───XX──────────XX^(θ_12)──────────Rz(pi*&lt;θ_16/pi&gt;)───Ry(pi*&lt;θ_21/pi&gt;)───XX──────────XX^(θ_26)───\n",
              "                                                │                                                                                                 │                                                                                                                                                                           │                                                                                             │                                                                                                                                             │                                                                    │\n",
              "(0, 3): ───H───Rz(pi*&lt;0.318309886183791*x_3&gt;)───X──────────────────────────────────────────────────Rz(pi*&lt;0.318309886183791*cos(x_2)*cos(x_3)&gt;)───X───@─────────────────────────────────────────────────────────────────────────────────────────────────@───H────────────────────────────────Rz(pi*&lt;0.318309886183791*x_3&gt;)───X──────────────────────────────────────────────Rz(pi*&lt;0.318309886183791*cos(x_2)*cos(x_3)&gt;)───X───@─────────────────────────────────────────────────────────────────────────────────────────────────@───Rz(pi*&lt;θ_3/pi&gt;)───Ry(pi*&lt;θ_8/pi&gt;)───XX^(θ_11)───XX─────────────────Rz(pi*&lt;θ_17/pi&gt;)───Ry(pi*&lt;θ_22/pi&gt;)───XX^(θ_25)───XX──────────\n",
              "                                                                                                                                                      │                                                                                                 │                                                                                                                                                                       │                                                                                                 │                                                   │                                                                    │\n",
              "(0, 4): ───H───Rz(pi*&lt;0.318309886183791*x_4&gt;)─────────────────────────────────────────────────────────────────────────────────────────────────────────X──────────────────────────────────────────────────Rz(pi*&lt;0.318309886183791*cos(x_3)*cos(x_4)&gt;)───X───H────────────────────────────────Rz(pi*&lt;0.318309886183791*x_4&gt;)─────────────────────────────────────────────────────────────────────────────────────────────────────X──────────────────────────────────────────────────Rz(pi*&lt;0.318309886183791*cos(x_3)*cos(x_4)&gt;)───X───Rz(pi*&lt;θ_4/pi&gt;)───Ry(pi*&lt;θ_9/pi&gt;)───────────────XX^(θ_13)──────────Rz(pi*&lt;θ_18/pi&gt;)───Ry(pi*&lt;θ_23/pi&gt;)───────────────XX^(θ_27)───</pre>"
            ],
            "text/plain": [
              "(0, 0): ───H───Rz(pi*<0.318309886183791*x_0>)───@──────────────────────────────────────────────────@────────────────────────────────────────────────────────────────────────────────────────────────────────────────────────────────────────────────────H───Rz(pi*<0.318309886183791*x_0>)───@───────────────────────────────────────────────────────────────────────────────@────────────────────────────────────────────────────────────────────────────────────────────────────────────────────────────────────────────────────────Rz(pi*<θ_0/pi>)───Ry(pi*<θ_5/pi>)───XX──────────Rz(pi*<θ_14/pi>)───Ry(pi*<θ_19/pi>)──────────────────────XX──────────────────────\n",
              "                                                │                                                  │                                                                                                                                                                                         │                                                                               │                                                                                                                                                                                            │                                                                    │\n",
              "(0, 1): ───H───Rz(pi*<0.318309886183791*x_1>)───X───Rz(pi*<0.318309886183791*cos(x_0)*cos(x_1)>)───X──────────────────────────────────────────────────@──────────────────────────────────────────────────@──────────────────────────────────────────────H───Rz(pi*<0.318309886183791*x_1>)───X────────────────────────────────Rz(pi*<0.318309886183791*cos(x_0)*cos(x_1)>)───X──────────────────────────────────────────────────@──────────────────────────────────────────────────@──────────────────────────────────────────────────Rz(pi*<θ_1/pi>)───Ry(pi*<θ_6/pi>)───XX^(θ_10)───XX─────────────────Rz(pi*<θ_15/pi>)───Ry(pi*<θ_20/pi>)───XX^(θ_24)───XX──────────\n",
              "                                                                                                                                                      │                                                  │                                                                                                                                                                                                                      │                                                  │                                                                                                  │                                                                    │\n",
              "(0, 2): ───H───Rz(pi*<0.318309886183791*x_2>)───@─────────────────────────────────────────────────────────────────────────────────────────────────@───X───Rz(pi*<0.318309886183791*cos(x_1)*cos(x_2)>)───X──────────────────────────────────────────────H───Rz(pi*<0.318309886183791*x_2>)────────────────────────────────────@─────────────────────────────────────────────────────────────────────────────────────────────@───X───Rz(pi*<0.318309886183791*cos(x_1)*cos(x_2)>)───X──────────────────────────────────────────────────Rz(pi*<θ_2/pi>)───Ry(pi*<θ_7/pi>)───XX──────────XX^(θ_12)──────────Rz(pi*<θ_16/pi>)───Ry(pi*<θ_21/pi>)───XX──────────XX^(θ_26)───\n",
              "                                                │                                                                                                 │                                                                                                                                                                           │                                                                                             │                                                                                                                                             │                                                                    │\n",
              "(0, 3): ───H───Rz(pi*<0.318309886183791*x_3>)───X──────────────────────────────────────────────────Rz(pi*<0.318309886183791*cos(x_2)*cos(x_3)>)───X───@─────────────────────────────────────────────────────────────────────────────────────────────────@───H────────────────────────────────Rz(pi*<0.318309886183791*x_3>)───X──────────────────────────────────────────────Rz(pi*<0.318309886183791*cos(x_2)*cos(x_3)>)───X───@─────────────────────────────────────────────────────────────────────────────────────────────────@───Rz(pi*<θ_3/pi>)───Ry(pi*<θ_8/pi>)───XX^(θ_11)───XX─────────────────Rz(pi*<θ_17/pi>)───Ry(pi*<θ_22/pi>)───XX^(θ_25)───XX──────────\n",
              "                                                                                                                                                      │                                                                                                 │                                                                                                                                                                       │                                                                                                 │                                                   │                                                                    │\n",
              "(0, 4): ───H───Rz(pi*<0.318309886183791*x_4>)─────────────────────────────────────────────────────────────────────────────────────────────────────────X──────────────────────────────────────────────────Rz(pi*<0.318309886183791*cos(x_3)*cos(x_4)>)───X───H────────────────────────────────Rz(pi*<0.318309886183791*x_4>)─────────────────────────────────────────────────────────────────────────────────────────────────────X──────────────────────────────────────────────────Rz(pi*<0.318309886183791*cos(x_3)*cos(x_4)>)───X───Rz(pi*<θ_4/pi>)───Ry(pi*<θ_9/pi>)───────────────XX^(θ_13)──────────Rz(pi*<θ_18/pi>)───Ry(pi*<θ_23/pi>)───────────────XX^(θ_27)───"
            ]
          },
          "metadata": {
            "tags": []
          },
          "execution_count": 54
        }
      ]
    },
    {
      "cell_type": "code",
      "metadata": {
        "colab": {
          "base_uri": "https://localhost:8080/"
        },
        "id": "T9KcAXRRhYY5",
        "outputId": "e8b84924-083c-4715-af40-3abf4541118a"
      },
      "source": [
        "symbols_names = unresolved_combined_circuit.raw_symbols\n",
        "symbols_names"
      ],
      "execution_count": null,
      "outputs": [
        {
          "output_type": "execute_result",
          "data": {
            "text/plain": [
              "['x_0',\n",
              " 'x_1',\n",
              " 'x_2',\n",
              " 'x_3',\n",
              " 'x_4',\n",
              " 'θ_0',\n",
              " 'θ_1',\n",
              " 'θ_2',\n",
              " 'θ_3',\n",
              " 'θ_4',\n",
              " 'θ_5',\n",
              " 'θ_6',\n",
              " 'θ_7',\n",
              " 'θ_8',\n",
              " 'θ_9',\n",
              " 'θ_10',\n",
              " 'θ_11',\n",
              " 'θ_12',\n",
              " 'θ_13',\n",
              " 'θ_14',\n",
              " 'θ_15',\n",
              " 'θ_16',\n",
              " 'θ_17',\n",
              " 'θ_18',\n",
              " 'θ_19',\n",
              " 'θ_20',\n",
              " 'θ_21',\n",
              " 'θ_22',\n",
              " 'θ_23',\n",
              " 'θ_24',\n",
              " 'θ_25',\n",
              " 'θ_26',\n",
              " 'θ_27']"
            ]
          },
          "metadata": {
            "tags": []
          },
          "execution_count": 63
        }
      ]
    },
    {
      "cell_type": "code",
      "metadata": {
        "colab": {
          "base_uri": "https://localhost:8080/"
        },
        "id": "u-AghCWIhdRg",
        "outputId": "109f3d8c-2513-4caa-f0f3-39158c3588f6"
      },
      "source": [
        "tiled_up_weights = tf.tile([pqc_layer.weights[0]], [x.shape[0], 1])\n",
        "tiled_up_parameters = tf.concat([x, tiled_up_weights], 1)\n",
        "tiled_up_parameters"
      ],
      "execution_count": null,
      "outputs": [
        {
          "output_type": "execute_result",
          "data": {
            "text/plain": [
              "<tf.Tensor: shape=(10, 33), dtype=float32, numpy=\n",
              "array([[-9.3632050e-02,  2.9914796e-01,  1.6890572e-01, -1.1966337e+00,\n",
              "        -1.0382104e+00,  3.3875728e+00,  6.8188596e-01,  5.1163220e+00,\n",
              "         3.7489159e+00,  5.9924626e+00,  5.4934864e+00,  2.7548647e+00,\n",
              "         3.5951791e+00,  5.1244545e+00,  4.7064180e+00,  4.9888592e+00,\n",
              "         5.0504436e+00,  4.8406892e+00,  1.5465403e+00,  4.1891580e+00,\n",
              "         3.0228755e+00,  2.5119655e+00,  5.2999606e+00,  3.3889329e+00,\n",
              "         5.2732410e+00,  5.1352916e+00,  1.7893504e+00,  2.5858903e+00,\n",
              "         3.9274418e+00,  8.2111120e-01,  3.9211733e+00,  5.6067863e+00,\n",
              "         8.3763891e-01],\n",
              "       [ 5.2182311e-01,  1.9274540e-01, -8.6801529e-01, -1.7262475e-01,\n",
              "        -4.6653348e-01,  3.3875728e+00,  6.8188596e-01,  5.1163220e+00,\n",
              "         3.7489159e+00,  5.9924626e+00,  5.4934864e+00,  2.7548647e+00,\n",
              "         3.5951791e+00,  5.1244545e+00,  4.7064180e+00,  4.9888592e+00,\n",
              "         5.0504436e+00,  4.8406892e+00,  1.5465403e+00,  4.1891580e+00,\n",
              "         3.0228755e+00,  2.5119655e+00,  5.2999606e+00,  3.3889329e+00,\n",
              "         5.2732410e+00,  5.1352916e+00,  1.7893504e+00,  2.5858903e+00,\n",
              "         3.9274418e+00,  8.2111120e-01,  3.9211733e+00,  5.6067863e+00,\n",
              "         8.3763891e-01],\n",
              "       [-6.6967779e-01, -9.7916144e-01, -1.0292242e+00,  7.1102995e-01,\n",
              "        -2.3553939e+00,  3.3875728e+00,  6.8188596e-01,  5.1163220e+00,\n",
              "         3.7489159e+00,  5.9924626e+00,  5.4934864e+00,  2.7548647e+00,\n",
              "         3.5951791e+00,  5.1244545e+00,  4.7064180e+00,  4.9888592e+00,\n",
              "         5.0504436e+00,  4.8406892e+00,  1.5465403e+00,  4.1891580e+00,\n",
              "         3.0228755e+00,  2.5119655e+00,  5.2999606e+00,  3.3889329e+00,\n",
              "         5.2732410e+00,  5.1352916e+00,  1.7893504e+00,  2.5858903e+00,\n",
              "         3.9274418e+00,  8.2111120e-01,  3.9211733e+00,  5.6067863e+00,\n",
              "         8.3763891e-01],\n",
              "       [ 6.4344579e-01,  2.1956827e-01, -6.1166137e-01,  2.5051403e-01,\n",
              "         1.1958758e+00,  3.3875728e+00,  6.8188596e-01,  5.1163220e+00,\n",
              "         3.7489159e+00,  5.9924626e+00,  5.4934864e+00,  2.7548647e+00,\n",
              "         3.5951791e+00,  5.1244545e+00,  4.7064180e+00,  4.9888592e+00,\n",
              "         5.0504436e+00,  4.8406892e+00,  1.5465403e+00,  4.1891580e+00,\n",
              "         3.0228755e+00,  2.5119655e+00,  5.2999606e+00,  3.3889329e+00,\n",
              "         5.2732410e+00,  5.1352916e+00,  1.7893504e+00,  2.5858903e+00,\n",
              "         3.9274418e+00,  8.2111120e-01,  3.9211733e+00,  5.6067863e+00,\n",
              "         8.3763891e-01],\n",
              "       [ 2.3135383e+00, -3.0369711e-01, -7.4233544e-01, -1.7374161e+00,\n",
              "        -1.7361453e+00,  3.3875728e+00,  6.8188596e-01,  5.1163220e+00,\n",
              "         3.7489159e+00,  5.9924626e+00,  5.4934864e+00,  2.7548647e+00,\n",
              "         3.5951791e+00,  5.1244545e+00,  4.7064180e+00,  4.9888592e+00,\n",
              "         5.0504436e+00,  4.8406892e+00,  1.5465403e+00,  4.1891580e+00,\n",
              "         3.0228755e+00,  2.5119655e+00,  5.2999606e+00,  3.3889329e+00,\n",
              "         5.2732410e+00,  5.1352916e+00,  1.7893504e+00,  2.5858903e+00,\n",
              "         3.9274418e+00,  8.2111120e-01,  3.9211733e+00,  5.6067863e+00,\n",
              "         8.3763891e-01],\n",
              "       [-1.8142778e+00, -4.1953722e-01, -6.6658831e-01,  9.5897996e-01,\n",
              "        -8.5748389e-02,  3.3875728e+00,  6.8188596e-01,  5.1163220e+00,\n",
              "         3.7489159e+00,  5.9924626e+00,  5.4934864e+00,  2.7548647e+00,\n",
              "         3.5951791e+00,  5.1244545e+00,  4.7064180e+00,  4.9888592e+00,\n",
              "         5.0504436e+00,  4.8406892e+00,  1.5465403e+00,  4.1891580e+00,\n",
              "         3.0228755e+00,  2.5119655e+00,  5.2999606e+00,  3.3889329e+00,\n",
              "         5.2732410e+00,  5.1352916e+00,  1.7893504e+00,  2.5858903e+00,\n",
              "         3.9274418e+00,  8.2111120e-01,  3.9211733e+00,  5.6067863e+00,\n",
              "         8.3763891e-01],\n",
              "       [ 1.1445282e+00, -8.3559584e-03, -4.3328735e-01,  2.0173693e+00,\n",
              "        -6.4580333e-01,  3.3875728e+00,  6.8188596e-01,  5.1163220e+00,\n",
              "         3.7489159e+00,  5.9924626e+00,  5.4934864e+00,  2.7548647e+00,\n",
              "         3.5951791e+00,  5.1244545e+00,  4.7064180e+00,  4.9888592e+00,\n",
              "         5.0504436e+00,  4.8406892e+00,  1.5465403e+00,  4.1891580e+00,\n",
              "         3.0228755e+00,  2.5119655e+00,  5.2999606e+00,  3.3889329e+00,\n",
              "         5.2732410e+00,  5.1352916e+00,  1.7893504e+00,  2.5858903e+00,\n",
              "         3.9274418e+00,  8.2111120e-01,  3.9211733e+00,  5.6067863e+00,\n",
              "         8.3763891e-01],\n",
              "       [ 1.4597206e-01, -9.5946395e-01, -9.6604639e-01, -4.1195285e-01,\n",
              "         5.1562851e-03,  3.3875728e+00,  6.8188596e-01,  5.1163220e+00,\n",
              "         3.7489159e+00,  5.9924626e+00,  5.4934864e+00,  2.7548647e+00,\n",
              "         3.5951791e+00,  5.1244545e+00,  4.7064180e+00,  4.9888592e+00,\n",
              "         5.0504436e+00,  4.8406892e+00,  1.5465403e+00,  4.1891580e+00,\n",
              "         3.0228755e+00,  2.5119655e+00,  5.2999606e+00,  3.3889329e+00,\n",
              "         5.2732410e+00,  5.1352916e+00,  1.7893504e+00,  2.5858903e+00,\n",
              "         3.9274418e+00,  8.2111120e-01,  3.9211733e+00,  5.6067863e+00,\n",
              "         8.3763891e-01],\n",
              "       [ 8.7476397e-01,  3.2455504e-01,  1.1728586e+00,  9.5252472e-01,\n",
              "        -1.5883294e+00,  3.3875728e+00,  6.8188596e-01,  5.1163220e+00,\n",
              "         3.7489159e+00,  5.9924626e+00,  5.4934864e+00,  2.7548647e+00,\n",
              "         3.5951791e+00,  5.1244545e+00,  4.7064180e+00,  4.9888592e+00,\n",
              "         5.0504436e+00,  4.8406892e+00,  1.5465403e+00,  4.1891580e+00,\n",
              "         3.0228755e+00,  2.5119655e+00,  5.2999606e+00,  3.3889329e+00,\n",
              "         5.2732410e+00,  5.1352916e+00,  1.7893504e+00,  2.5858903e+00,\n",
              "         3.9274418e+00,  8.2111120e-01,  3.9211733e+00,  5.6067863e+00,\n",
              "         8.3763891e-01],\n",
              "       [-5.3596729e-01,  1.7027296e+00, -1.1664546e+00, -1.5597633e+00,\n",
              "        -1.1124749e-01,  3.3875728e+00,  6.8188596e-01,  5.1163220e+00,\n",
              "         3.7489159e+00,  5.9924626e+00,  5.4934864e+00,  2.7548647e+00,\n",
              "         3.5951791e+00,  5.1244545e+00,  4.7064180e+00,  4.9888592e+00,\n",
              "         5.0504436e+00,  4.8406892e+00,  1.5465403e+00,  4.1891580e+00,\n",
              "         3.0228755e+00,  2.5119655e+00,  5.2999606e+00,  3.3889329e+00,\n",
              "         5.2732410e+00,  5.1352916e+00,  1.7893504e+00,  2.5858903e+00,\n",
              "         3.9274418e+00,  8.2111120e-01,  3.9211733e+00,  5.6067863e+00,\n",
              "         8.3763891e-01]], dtype=float32)>"
            ]
          },
          "metadata": {
            "tags": []
          },
          "execution_count": 58
        }
      ]
    },
    {
      "cell_type": "code",
      "metadata": {
        "id": "w29EBKLikaPV"
      },
      "source": [
        "_combined_circuits = unresolved_combined_circuit.resolve_parameters(tiled_up_parameters.numpy())"
      ],
      "execution_count": null,
      "outputs": []
    },
    {
      "cell_type": "code",
      "metadata": {
        "colab": {
          "base_uri": "https://localhost:8080/",
          "height": 187
        },
        "id": "i7IyqjemlxrQ",
        "outputId": "10416e31-ce2c-411b-b570-b03e32eac2a8"
      },
      "source": [
        "_combined_circuits[0]"
      ],
      "execution_count": null,
      "outputs": [
        {
          "output_type": "execute_result",
          "data": {
            "text/html": [
              "<pre style=\"overflow: auto; white-space: pre;\">(0, 0): ───H───Rz(-0.03π)────@────────────────@────────────────────────────────────────────H───Rz(-0.03π)───@──────────────────────────@────────────────────────────────────────────────Rz(1.08π)────Ry(1.75π)────XX─────────Rz(1.33π)───Ry(1.68π)─────────────────XX──────────────────────\n",
              "                             │                │                                                             │                          │                                                                          │                                                │\n",
              "(0, 1): ───H───Rz(0.095π)────X───Rz(0.303π)───X────────────────@──────────────@────────────H───Rz(0.095π)───X─────────────Rz(0.303π)───X────────────────@──────────────@────────────────Rz(0.217π)───Ry(0.877π)───XX^0.989───XX──────────Rz(0.962π)───Ry(1.64π)────XX^0.821────XX──────────\n",
              "                                                               │              │                                                                         │              │                                                     │                                                 │\n",
              "(0, 2): ───H───Rz(0.054π)────@─────────────────────────────@───X───Rz(0.3π)───X────────────H───Rz(0.054π)─────────────────@─────────────────────────@───X───Rz(0.3π)───X────────────────Rz(1.63π)────Ry(1.14π)────XX─────────XX^0.841────Rz(0.8π)─────Ry(0.57π)────XX──────────XX^-0.393───\n",
              "                             │                             │                                                              │                         │                                                             │                                                │\n",
              "(0, 3): ───H───Rz(-0.381π)───X────────────────Rz(0.115π)───X───@───────────────────────────@───H────────────Rz(-0.381π)───X────────────Rz(0.115π)───X───@───────────────────────────@───Rz(1.19π)────Ry(1.63π)────XX^-0.95───XX──────────Rz(1.69π)────Ry(0.823π)───XX^-0.079───XX──────────\n",
              "                                                               │                           │                                                            │                           │                                        │                                                 │\n",
              "(0, 4): ───H───Rz(-0.33π)──────────────────────────────────────X──────────────Rz(0.059π)───X───H────────────Rz(-0.33π)──────────────────────────────────X──────────────Rz(0.059π)───X───Rz(1.91π)────Ry(1.5π)────────────────XX^-0.453───Rz(1.08π)────Ry(1.25π)────────────────XX^0.838────</pre>"
            ],
            "text/plain": [
              "(0, 0): ───H───Rz(-0.03π)────@────────────────@────────────────────────────────────────────H───Rz(-0.03π)───@──────────────────────────@────────────────────────────────────────────────Rz(1.08π)────Ry(1.75π)────XX─────────Rz(1.33π)───Ry(1.68π)─────────────────XX──────────────────────\n",
              "                             │                │                                                             │                          │                                                                          │                                                │\n",
              "(0, 1): ───H───Rz(0.095π)────X───Rz(0.303π)───X────────────────@──────────────@────────────H───Rz(0.095π)───X─────────────Rz(0.303π)───X────────────────@──────────────@────────────────Rz(0.217π)───Ry(0.877π)───XX^0.989───XX──────────Rz(0.962π)───Ry(1.64π)────XX^0.821────XX──────────\n",
              "                                                               │              │                                                                         │              │                                                     │                                                 │\n",
              "(0, 2): ───H───Rz(0.054π)────@─────────────────────────────@───X───Rz(0.3π)───X────────────H───Rz(0.054π)─────────────────@─────────────────────────@───X───Rz(0.3π)───X────────────────Rz(1.63π)────Ry(1.14π)────XX─────────XX^0.841────Rz(0.8π)─────Ry(0.57π)────XX──────────XX^-0.393───\n",
              "                             │                             │                                                              │                         │                                                             │                                                │\n",
              "(0, 3): ───H───Rz(-0.381π)───X────────────────Rz(0.115π)───X───@───────────────────────────@───H────────────Rz(-0.381π)───X────────────Rz(0.115π)───X───@───────────────────────────@───Rz(1.19π)────Ry(1.63π)────XX^-0.95───XX──────────Rz(1.69π)────Ry(0.823π)───XX^-0.079───XX──────────\n",
              "                                                               │                           │                                                            │                           │                                        │                                                 │\n",
              "(0, 4): ───H───Rz(-0.33π)──────────────────────────────────────X──────────────Rz(0.059π)───X───H────────────Rz(-0.33π)──────────────────────────────────X──────────────Rz(0.059π)───X───Rz(1.91π)────Ry(1.5π)────────────────XX^-0.453───Rz(1.08π)────Ry(1.25π)────────────────XX^0.838────"
            ]
          },
          "metadata": {
            "tags": []
          },
          "execution_count": 61
        }
      ]
    },
    {
      "cell_type": "code",
      "metadata": {
        "colab": {
          "base_uri": "https://localhost:8080/"
        },
        "id": "uD3SKJVylzAx",
        "outputId": "eb1ff18c-d59a-45e2-bb70-bc2342fe7817"
      },
      "source": [
        "import tensorflow_quantum as tfq\n",
        "expactation_layer = tfq.layers.SampledExpectation(backend=None)\n",
        "results = expactation_layer(_combined_circuits, symbol_names=symbols_names, symbol_values=tiled_up_parameters, operators=readout, repetitions=1000000)\n",
        "expectation = [result.numpy() for result in results]\n",
        "expectation"
      ],
      "execution_count": null,
      "outputs": [
        {
          "output_type": "execute_result",
          "data": {
            "text/plain": [
              "[array([ 0.277612,  0.522318,  0.019718, -0.141122,  0.172258],\n",
              "       dtype=float32),\n",
              " array([ 0.00938 ,  0.666714,  0.148524, -0.281518, -0.20737 ],\n",
              "       dtype=float32),\n",
              " array([-0.392812,  0.176424, -0.37901 , -0.274292,  0.02502 ],\n",
              "       dtype=float32),\n",
              " array([-0.025704,  0.671768,  0.21585 , -0.332944,  0.006172],\n",
              "       dtype=float32),\n",
              " array([-0.133938,  0.203236, -0.11126 ,  0.268108,  0.47639 ],\n",
              "       dtype=float32),\n",
              " array([-0.487624,  0.253796, -0.215434, -0.020086, -0.548782],\n",
              "       dtype=float32),\n",
              " array([-0.39909 ,  0.431772, -0.02836 , -0.023788, -0.498424],\n",
              "       dtype=float32),\n",
              " array([ 0.09802 ,  0.25085 , -0.394758, -0.09911 , -0.467404],\n",
              "       dtype=float32),\n",
              " array([-0.06588 ,  0.00899 , -0.4552  , -0.010148,  0.349658],\n",
              "       dtype=float32),\n",
              " array([-0.226212, -0.341538, -0.450216,  0.239512, -0.443626],\n",
              "       dtype=float32)]"
            ]
          },
          "metadata": {
            "tags": []
          },
          "execution_count": 66
        }
      ]
    },
    {
      "cell_type": "code",
      "metadata": {
        "colab": {
          "base_uri": "https://localhost:8080/"
        },
        "id": "0L3KAz3cl6Wx",
        "outputId": "0d3901ed-16dd-43e6-f2b2-05e334d01aff"
      },
      "source": [
        "# compared to \n",
        "output"
      ],
      "execution_count": null,
      "outputs": [
        {
          "output_type": "execute_result",
          "data": {
            "text/plain": [
              "<tf.Tensor: shape=(10, 5), dtype=float32, numpy=\n",
              "array([[ 0.27678746,  0.5200558 ,  0.01959522, -0.14102076,  0.17118864],\n",
              "       [ 0.00913363,  0.6656975 ,  0.14828914, -0.27971178, -0.20858736],\n",
              "       [-0.39217895,  0.17759456, -0.37867796, -0.27535462,  0.02611235],\n",
              "       [-0.02902753,  0.6732651 ,  0.21796784, -0.33425954,  0.0056381 ],\n",
              "       [-0.13300319,  0.20217375, -0.11104707,  0.26674023,  0.47732952],\n",
              "       [-0.48761177,  0.25493357, -0.21529172, -0.0192354 , -0.5494061 ],\n",
              "       [-0.39816177,  0.4321662 , -0.02633118, -0.02426801, -0.4981192 ],\n",
              "       [ 0.09813245,  0.25100654, -0.3940597 , -0.10004365, -0.46641397],\n",
              "       [-0.06610939,  0.00961988, -0.45314544, -0.00989364,  0.34783724],\n",
              "       [-0.2253911 , -0.34409267, -0.45005468,  0.23739319, -0.4435135 ]],\n",
              "      dtype=float32)>"
            ]
          },
          "metadata": {
            "tags": []
          },
          "execution_count": 67
        }
      ]
    },
    {
      "cell_type": "code",
      "metadata": {
        "id": "_4rX6BKam1NC"
      },
      "source": [
        ""
      ],
      "execution_count": null,
      "outputs": []
    }
  ]
}