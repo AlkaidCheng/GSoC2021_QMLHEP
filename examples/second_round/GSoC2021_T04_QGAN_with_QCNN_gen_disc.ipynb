{
  "nbformat": 4,
  "nbformat_minor": 5,
  "metadata": {
    "colab": {
      "name": "GSoC2021_T04_QGAN_with_QCNN-gen_disc.ipynb",
      "provenance": [],
      "include_colab_link": true
    },
    "kernelspec": {
      "display_name": "Python 3",
      "language": "python",
      "name": "python3"
    },
    "language_info": {
      "codemirror_mode": {
        "name": "ipython",
        "version": 3
      },
      "file_extension": ".py",
      "mimetype": "text/x-python",
      "name": "python",
      "nbconvert_exporter": "python",
      "pygments_lexer": "ipython3",
      "version": "3.7.10"
    }
  },
  "cells": [
    {
      "cell_type": "markdown",
      "metadata": {
        "id": "view-in-github",
        "colab_type": "text"
      },
      "source": [
        "<a href=\"https://colab.research.google.com/github/AlkaidCheng/GSoC2021_QMLHEP/blob/main/examples/second_round/GSoC2021_T04_QGAN_with_QCNN_gen_disc.ipynb\" target=\"_parent\"><img src=\"https://colab.research.google.com/assets/colab-badge.svg\" alt=\"Open In Colab\"/></a>"
      ]
    },
    {
      "cell_type": "code",
      "metadata": {
        "id": "13rxe3B4vcvC"
      },
      "source": [
        "import sys\n",
        "IN_COLAB = 'google.colab' in sys.modules\n",
        "if IN_COLAB:\n",
        "    !pip install tensorflow==2.4.1\n",
        "    !pip install tensorflow-quantum\n",
        "    !pip install quple"
      ],
      "id": "13rxe3B4vcvC",
      "execution_count": null,
      "outputs": []
    },
    {
      "cell_type": "code",
      "metadata": {
        "id": "prerequisite-yellow"
      },
      "source": [
        "import os\n",
        "import glob\n",
        "import operator\n",
        "import numpy as np\n",
        "import pandas\n",
        "import h5py\n",
        "import tensorflow as tf\n",
        "import tensorflow_quantum as tfq"
      ],
      "id": "prerequisite-yellow",
      "execution_count": null,
      "outputs": []
    },
    {
      "cell_type": "code",
      "metadata": {
        "id": "rough-killing"
      },
      "source": [
        "# for reproducibility\n",
        "tf.random.set_seed(2021)\n",
        "np.random.seed(2021) "
      ],
      "id": "rough-killing",
      "execution_count": null,
      "outputs": []
    },
    {
      "cell_type": "markdown",
      "metadata": {
        "id": "working-protection"
      },
      "source": [
        "# Section 1 - Data Preprocessing"
      ],
      "id": "working-protection"
    },
    {
      "cell_type": "markdown",
      "metadata": {
        "id": "suffering-acceptance"
      },
      "source": [
        "## 1.1 Load Photon-Electron data"
      ],
      "id": "suffering-acceptance"
    },
    {
      "cell_type": "code",
      "metadata": {
        "id": "sexual-coordination"
      },
      "source": [
        "# use the cern afs public path or your own path containing the training data\n",
        "data_dir = \"/afs/cern.ch/work/c/chlcheng/public/GSoC2021/data\"\n",
        "photon_path = os.path.join(data_dir, \"photon.hdf5\")\n",
        "electron_path = os.path.join(data_dir, \"electron.hdf5\")"
      ],
      "id": "sexual-coordination",
      "execution_count": null,
      "outputs": []
    },
    {
      "cell_type": "code",
      "metadata": {
        "id": "vertical-chess"
      },
      "source": [
        "# load photon data\n",
        "with h5py.File(photon_path, \"r\") as f:\n",
        "    px = np.asarray(f['X'][()], dtype=np.float32)[:,:,:,0]\n",
        "    py = np.asarray(f['y'][()], dtype=np.float32)\n",
        "\n",
        "# load electron data\n",
        "with h5py.File(electron_path, \"r\") as f:\n",
        "    ex = np.asarray(f['X'][()], dtype=np.float32)[:,:,:,0]\n",
        "    ey = np.asarray(f['y'][()], dtype=np.float32)"
      ],
      "id": "vertical-chess",
      "execution_count": null,
      "outputs": []
    },
    {
      "cell_type": "markdown",
      "metadata": {
        "id": "proud-amendment"
      },
      "source": [
        "## 1.2 Image Visualization"
      ],
      "id": "proud-amendment"
    },
    {
      "cell_type": "code",
      "metadata": {
        "id": "compound-certification"
      },
      "source": [
        "particle_label_map = {\n",
        "    0: 'photon',\n",
        "    1: 'electron'\n",
        "}\n",
        "import matplotlib.pyplot as plt\n",
        "def vitualize_image(img, labels, name=None):\n",
        "    columns = 8\n",
        "    size = img.shape[0]\n",
        "    rows = ( size // columns ) + 1\n",
        "    fig = plt.figure(figsize=(20, rows*3))\n",
        "    plt.subplots_adjust(hspace=0.3)\n",
        "    for i in range(img.shape[0]):\n",
        "        ax = fig.add_subplot(rows, columns, i+1)\n",
        "        ax.set_title('Image {}: {}'.format(i+1, particle_label_map[labels[i]]))\n",
        "        plt.imshow(img[i])\n",
        "    if name is not None:\n",
        "        plt.savefig(name, bbox_inches=\"tight\")\n",
        "    return plt"
      ],
      "id": "compound-certification",
      "execution_count": null,
      "outputs": []
    },
    {
      "cell_type": "code",
      "metadata": {
        "id": "white-sugar",
        "outputId": "f1c933c2-cf3a-4b27-b75c-a149eca081f9"
      },
      "source": [
        "# let's just visualize the photon image\n",
        "vitualize_image(px[:16], py[:16], name=\"images/cnn_raw_image_photon.pdf\")"
      ],
      "id": "white-sugar",
      "execution_count": null,
      "outputs": [
        {
          "output_type": "execute_result",
          "data": {
            "text/plain": [
              "<module 'matplotlib.pyplot' from '/afs/cern.ch/work/c/chlcheng/public/local/conda/miniconda/envs/ml-base/lib/python3.7/site-packages/matplotlib/pyplot.py'>"
            ]
          },
          "metadata": {
            "tags": []
          },
          "execution_count": 7
        },
        {
          "output_type": "display_data",
          "data": {
            "image/png": "[encoded data removed]",
            "text/plain": [
              "<Figure size 1440x648 with 16 Axes>"
            ]
          },
          "metadata": {
            "tags": [],
            "needs_background": "light"
          }
        }
      ]
    },
    {
      "cell_type": "markdown",
      "metadata": {
        "id": "promotional-capacity"
      },
      "source": [
        "## 1.3 Prepare Training Dataset\n",
        "\n",
        "- Let's just train on the photon data first and split the data into 75% train and 25% test"
      ],
      "id": "promotional-capacity"
    },
    {
      "cell_type": "code",
      "metadata": {
        "id": "lovely-stations"
      },
      "source": [
        "from sklearn.model_selection import train_test_split\n",
        "x_train, x_test, y_train, y_test = train_test_split(px, py, train_size=0.75, test_size=0.25, random_state=2021)"
      ],
      "id": "lovely-stations",
      "execution_count": null,
      "outputs": []
    },
    {
      "cell_type": "markdown",
      "metadata": {
        "id": "damaged-dutch"
      },
      "source": [
        "## 1.4 Image Cropping\n",
        "\n",
        "Note that the image is\n",
        "1. Mostly empty except at the center\n",
        "2. All jets are centered and aligned in the same direction (horizontally)\n",
        "\n",
        "That means we can crop out the central region of the image without losing much information about the jet. And we don't need to rotate the image.\n",
        "\n",
        "So by inspection, it should be safe to **crop out the central (8x8) grid**."
      ],
      "id": "damaged-dutch"
    },
    {
      "cell_type": "code",
      "metadata": {
        "id": "eastern-prefix"
      },
      "source": [
        "def crop_image(img, dimension):\n",
        "    start = tuple(map(lambda a, da: a//2-da//2, img.shape, dimension))\n",
        "    end = tuple(map(operator.add, start, dimension))\n",
        "    slices = tuple(map(slice, start, end))\n",
        "    return img[slices]"
      ],
      "id": "eastern-prefix",
      "execution_count": null,
      "outputs": []
    },
    {
      "cell_type": "code",
      "metadata": {
        "id": "combined-hierarchy"
      },
      "source": [
        "crop_size = (8, 8)\n",
        "x_train_cropped = np.array([crop_image(i, crop_size) for i in x_train])\n",
        "x_test_cropped = np.array([crop_image(i, crop_size) for i in x_test])"
      ],
      "id": "combined-hierarchy",
      "execution_count": null,
      "outputs": []
    },
    {
      "cell_type": "code",
      "metadata": {
        "id": "random-commissioner",
        "outputId": "dec5a045-fb63-41ba-8a51-8bd87f9feb49"
      },
      "source": [
        "vitualize_image(x_train_cropped[:16], y_train[:16],  name=\"images/cnn_cropped_image_photon.pdf\")"
      ],
      "id": "random-commissioner",
      "execution_count": null,
      "outputs": [
        {
          "output_type": "execute_result",
          "data": {
            "text/plain": [
              "<module 'matplotlib.pyplot' from '/afs/cern.ch/work/c/chlcheng/public/local/conda/miniconda/envs/ml-base/lib/python3.7/site-packages/matplotlib/pyplot.py'>"
            ]
          },
          "metadata": {
            "tags": []
          },
          "execution_count": 11
        },
        {
          "output_type": "display_data",
          "data": {
            "image/png": "[encoded data removed]",
            "text/plain": [
              "<Figure size 1440x648 with 16 Axes>"
            ]
          },
          "metadata": {
            "tags": [],
            "needs_background": "light"
          }
        }
      ]
    },
    {
      "cell_type": "markdown",
      "metadata": {
        "id": "stock-operator"
      },
      "source": [
        "## 1.6 Rescale data to the range appropriate for quantum data encoding\n",
        "\n",
        "- Usually classical data is encoded as the rotation angle of a gate operation in a quantum circuit which has a valid range of $[-\\pi,+\\pi]$. However, from past experience a smaller range will suffice and even show better performance than the valid range itself. So for this task, we will be **rescaling our data to a unit range (i.e. $[0, +1]$)** following the range used by  the`tensorflow_quantum` tutorial for MNIST classification (https://www.tensorflow.org/quantum/tutorials/mnist). Alternative, one may also use another common range $[-1, +1]$ for example from https://arxiv.org/abs/1906.10467."
      ],
      "id": "stock-operator"
    },
    {
      "cell_type": "code",
      "metadata": {
        "id": "accepting-shield"
      },
      "source": [
        "def rescale_data(*data, val_range = (0, 1.)):\n",
        "    min_value = np.min([np.min(d) for d in data])\n",
        "    max_value = np.max([np.max(d) for d in data])\n",
        "    range_min = val_range[0]\n",
        "    range_max = val_range[1]\n",
        "    rescaled_data = tuple([(((d-min_value)/(max_value-min_value))*(range_max-range_min))+range_min for d in data])\n",
        "    return rescaled_data\n",
        "x_train_rescaled, x_test_rescaled = rescale_data(x_train_cropped, x_test_cropped, val_range=(-1, 1))"
      ],
      "id": "accepting-shield",
      "execution_count": null,
      "outputs": []
    },
    {
      "cell_type": "code",
      "metadata": {
        "id": "hired-alert",
        "outputId": "68d34ba6-bff3-4da1-e076-16f1acd88c59"
      },
      "source": [
        "vitualize_image(x_train_rescaled[:16], y_train[:16],  name=\"images/cnn_rescaled_image_photon.pdf\")"
      ],
      "id": "hired-alert",
      "execution_count": null,
      "outputs": [
        {
          "output_type": "execute_result",
          "data": {
            "text/plain": [
              "<module 'matplotlib.pyplot' from '/afs/cern.ch/work/c/chlcheng/public/local/conda/miniconda/envs/ml-base/lib/python3.7/site-packages/matplotlib/pyplot.py'>"
            ]
          },
          "metadata": {
            "tags": []
          },
          "execution_count": 13
        },
        {
          "output_type": "display_data",
          "data": {
            "image/png": "[encoded data removed]",
            "text/plain": [
              "<Figure size 1440x648 with 16 Axes>"
            ]
          },
          "metadata": {
            "tags": [],
            "needs_background": "light"
          }
        }
      ]
    },
    {
      "cell_type": "code",
      "metadata": {
        "id": "whole-mouth",
        "outputId": "2a533cc2-6ca8-46d6-bf92-0ff2661959a5"
      },
      "source": [
        "image_shape = x_train_rescaled.shape[1:]\n",
        "image_shape"
      ],
      "id": "whole-mouth",
      "execution_count": null,
      "outputs": [
        {
          "output_type": "execute_result",
          "data": {
            "text/plain": [
              "(8, 8)"
            ]
          },
          "metadata": {
            "tags": []
          },
          "execution_count": 14
        }
      ]
    },
    {
      "cell_type": "markdown",
      "metadata": {
        "id": "prompt-equipment"
      },
      "source": [
        "# Section 2 - QGAN with Classical Generator and QCNN Discriminator"
      ],
      "id": "prompt-equipment"
    },
    {
      "cell_type": "markdown",
      "metadata": {
        "id": "awful-jacket"
      },
      "source": [
        "## 2.1 Create classical generator model"
      ],
      "id": "awful-jacket"
    },
    {
      "cell_type": "code",
      "metadata": {
        "id": "hybrid-championship"
      },
      "source": [
        "def create_classical_generator():\n",
        "    model = tf.keras.Sequential()\n",
        "    # foundation for 2x2 image\n",
        "    n_nodes = 16 * 2 * 2\n",
        "    model.add(tf.keras.layers.Dense(n_nodes, use_bias=False, input_shape=(100,)))\n",
        "    model.add(tf.keras.layers.BatchNormalization())\n",
        "    model.add(tf.keras.layers.LeakyReLU())\n",
        "    model.add(tf.keras.layers.Reshape((2, 2, 16)))\n",
        "\n",
        "    model.add(tf.keras.layers.Conv2DTranspose(8, (2,2), strides=(1,1), padding=\"same\", use_bias=False))\n",
        "    model.add(tf.keras.layers.BatchNormalization())\n",
        "    model.add(tf.keras.layers.LeakyReLU())\n",
        "    # upsample to 4x4\n",
        "    model.add(tf.keras.layers.Conv2DTranspose(4, (2,2), strides=(2,2), padding=\"same\", use_bias=False))\n",
        "    model.add(tf.keras.layers.BatchNormalization())\n",
        "    model.add(tf.keras.layers.LeakyReLU())    \n",
        "    # upsample to 8x8\n",
        "    model.add(tf.keras.layers.Conv2DTranspose(1, (3,3), strides=(2,2), padding=\"same\", use_bias=False, activation='tanh'))\n",
        "    model.add(tf.keras.layers.Reshape((8, 8)))\n",
        "    return model"
      ],
      "id": "hybrid-championship",
      "execution_count": null,
      "outputs": []
    },
    {
      "cell_type": "code",
      "metadata": {
        "id": "alternate-electron"
      },
      "source": [
        "classical_generator = create_classical_generator()"
      ],
      "id": "alternate-electron",
      "execution_count": null,
      "outputs": []
    },
    {
      "cell_type": "markdown",
      "metadata": {
        "id": "thick-punishment"
      },
      "source": [
        "## 2.2 Create QCNN discriminator\n",
        "\n",
        "- We will use a 3x3 quantum filter in terms of a 9 qubit PQC"
      ],
      "id": "thick-punishment"
    },
    {
      "cell_type": "code",
      "metadata": {
        "id": "fewer-uganda"
      },
      "source": [
        "n_qubit = feature_dimension = 9"
      ],
      "id": "fewer-uganda",
      "execution_count": null,
      "outputs": []
    },
    {
      "cell_type": "markdown",
      "metadata": {
        "id": "insured-landscape"
      },
      "source": [
        "### Data Encoding Circuit for the 3 x 3 data window\n",
        "\n",
        "- Just some normal circuit choice taken from the QSVM paper I involved in\n",
        "- qubit (0, 0) represents top left pixel and qubit (0, 9) represents bottom right pixel"
      ],
      "id": "insured-landscape"
    },
    {
      "cell_type": "code",
      "metadata": {
        "id": "vital-catalyst",
        "outputId": "c90519ce-4024-49e7-b91f-08a20c5369ea"
      },
      "source": [
        "## deprecated\n",
        "#from quple.data_encoding import  EncodingCircuit\n",
        "#from quple import PauliBlock\n",
        "#from quple.data_encoding import polynomial\n",
        "#degree = 3\n",
        "\n",
        "from quple.data_encoding import FirstOrderPauliZEncoding\n",
        "# create a data circuit for encoding the 3x3 data window\n",
        "'''\n",
        "data_circuit = EncodingCircuit(feature_dimension=n_qubit, \n",
        "                                copies=2,\n",
        "                                rotation_blocks=['H',PauliBlock('Z', polynomial(1)),\n",
        "                                                   PauliBlock('Y',polynomial(degree))],\n",
        "                                entanglement_blocks=[PauliBlock('ZZ',polynomial(degree))],\n",
        "                                entangle_strategy='alternate_linear')\n",
        "'''\n",
        "data_circuit_2x2 = FirstOrderPauliZEncoding(feature_dimension=4, copies=2, parameter_scale=1)\n",
        "data_circuit_2x2"
      ],
      "id": "vital-catalyst",
      "execution_count": null,
      "outputs": [
        {
          "output_type": "execute_result",
          "data": {
            "text/html": [
              "<pre style=\"overflow: auto; white-space: pre;\">(0, 0): ───H───Rz(pi*&lt;x_0/pi&gt;)───H───Rz(pi*&lt;x_0/pi&gt;)───\n",
              "\n",
              "(0, 1): ───H───Rz(pi*&lt;x_1/pi&gt;)───H───Rz(pi*&lt;x_1/pi&gt;)───\n",
              "\n",
              "(0, 2): ───H───Rz(pi*&lt;x_2/pi&gt;)───H───Rz(pi*&lt;x_2/pi&gt;)───\n",
              "\n",
              "(0, 3): ───H───Rz(pi*&lt;x_3/pi&gt;)───H───Rz(pi*&lt;x_3/pi&gt;)───</pre>"
            ],
            "text/plain": [
              "(0, 0): ───H───Rz(pi*<x_0/pi>)───H───Rz(pi*<x_0/pi>)───\n",
              "\n",
              "(0, 1): ───H───Rz(pi*<x_1/pi>)───H───Rz(pi*<x_1/pi>)───\n",
              "\n",
              "(0, 2): ───H───Rz(pi*<x_2/pi>)───H───Rz(pi*<x_2/pi>)───\n",
              "\n",
              "(0, 3): ───H───Rz(pi*<x_3/pi>)───H───Rz(pi*<x_3/pi>)───"
            ]
          },
          "metadata": {
            "tags": []
          },
          "execution_count": 18
        }
      ]
    },
    {
      "cell_type": "markdown",
      "metadata": {
        "id": "scheduled-double"
      },
      "source": [
        "### Kernel Circuit for the Quantum Filter\n",
        "\n",
        "- Just some random 3x3 = 9 qubit PQC with entanglement"
      ],
      "id": "scheduled-double"
    },
    {
      "cell_type": "code",
      "metadata": {
        "id": "missing-carrier"
      },
      "source": [
        "from quple import ParameterisedCircuit"
      ],
      "id": "missing-carrier",
      "execution_count": null,
      "outputs": []
    },
    {
      "cell_type": "code",
      "metadata": {
        "id": "8260ef94",
        "outputId": "17b757f7-fc4f-400e-f1ce-c32f5a3ca533"
      },
      "source": [
        "kernel_circuit_2x2 = ParameterisedCircuit(n_qubit=4, copies=2, \n",
        "                                      rotation_blocks=[\"RY\", \"RZ\"],\n",
        "                                      entanglement_blocks=[\"CX\"],\n",
        "                                      entangle_strategy=\"alternate_linear\")\n",
        "kernel_circuit_2x2"
      ],
      "id": "8260ef94",
      "execution_count": null,
      "outputs": [
        {
          "output_type": "execute_result",
          "data": {
            "text/html": [
              "<pre style=\"overflow: auto; white-space: pre;\">(0, 0): ───Ry(θ_0)───Rz(θ_4)───@───Ry(θ_8)───Rz(θ_12)──────────────@───Ry(θ_16)───Rz(θ_20)──────────────@───────\n",
              "                               │                                   │                                    │\n",
              "(0, 1): ───Ry(θ_1)───Rz(θ_5)───X───@─────────Ry(θ_9)────Rz(θ_13)───X───@──────────Ry(θ_17)───Rz(θ_21)───X───@───\n",
              "                                   │                                   │                                    │\n",
              "(0, 2): ───Ry(θ_2)───Rz(θ_6)───@───X─────────Ry(θ_10)───Rz(θ_14)───@───X──────────Ry(θ_18)───Rz(θ_22)───@───X───\n",
              "                               │                                   │                                    │\n",
              "(0, 3): ───Ry(θ_3)───Rz(θ_7)───X─────────────Ry(θ_11)───Rz(θ_15)───X──────────────Ry(θ_19)───Rz(θ_23)───X───────</pre>"
            ],
            "text/plain": [
              "(0, 0): ───Ry(θ_0)───Rz(θ_4)───@───Ry(θ_8)───Rz(θ_12)──────────────@───Ry(θ_16)───Rz(θ_20)──────────────@───────\n",
              "                               │                                   │                                    │\n",
              "(0, 1): ───Ry(θ_1)───Rz(θ_5)───X───@─────────Ry(θ_9)────Rz(θ_13)───X───@──────────Ry(θ_17)───Rz(θ_21)───X───@───\n",
              "                                   │                                   │                                    │\n",
              "(0, 2): ───Ry(θ_2)───Rz(θ_6)───@───X─────────Ry(θ_10)───Rz(θ_14)───@───X──────────Ry(θ_18)───Rz(θ_22)───@───X───\n",
              "                               │                                   │                                    │\n",
              "(0, 3): ───Ry(θ_3)───Rz(θ_7)───X─────────────Ry(θ_11)───Rz(θ_15)───X──────────────Ry(θ_19)───Rz(θ_23)───X───────"
            ]
          },
          "metadata": {
            "tags": []
          },
          "execution_count": 20
        }
      ]
    },
    {
      "cell_type": "code",
      "metadata": {
        "id": "3665ed4c",
        "outputId": "f85b4b47-f541-4c77-9b37-f89d262f69b6"
      },
      "source": [
        "data_circuit_3x3 = FirstOrderPauliZEncoding(feature_dimension=9, copies=2, parameter_scale=1)\n",
        "data_circuit_3x3"
      ],
      "id": "3665ed4c",
      "execution_count": null,
      "outputs": [
        {
          "output_type": "execute_result",
          "data": {
            "text/html": [
              "<pre style=\"overflow: auto; white-space: pre;\">(0, 0): ───H───Rz(pi*&lt;x_0/pi&gt;)───H───Rz(pi*&lt;x_0/pi&gt;)───\n",
              "\n",
              "(0, 1): ───H───Rz(pi*&lt;x_1/pi&gt;)───H───Rz(pi*&lt;x_1/pi&gt;)───\n",
              "\n",
              "(0, 2): ───H───Rz(pi*&lt;x_2/pi&gt;)───H───Rz(pi*&lt;x_2/pi&gt;)───\n",
              "\n",
              "(0, 3): ───H───Rz(pi*&lt;x_3/pi&gt;)───H───Rz(pi*&lt;x_3/pi&gt;)───\n",
              "\n",
              "(0, 4): ───H───Rz(pi*&lt;x_4/pi&gt;)───H───Rz(pi*&lt;x_4/pi&gt;)───\n",
              "\n",
              "(0, 5): ───H───Rz(pi*&lt;x_5/pi&gt;)───H───Rz(pi*&lt;x_5/pi&gt;)───\n",
              "\n",
              "(0, 6): ───H───Rz(pi*&lt;x_6/pi&gt;)───H───Rz(pi*&lt;x_6/pi&gt;)───\n",
              "\n",
              "(0, 7): ───H───Rz(pi*&lt;x_7/pi&gt;)───H───Rz(pi*&lt;x_7/pi&gt;)───\n",
              "\n",
              "(0, 8): ───H───Rz(pi*&lt;x_8/pi&gt;)───H───Rz(pi*&lt;x_8/pi&gt;)───</pre>"
            ],
            "text/plain": [
              "(0, 0): ───H───Rz(pi*<x_0/pi>)───H───Rz(pi*<x_0/pi>)───\n",
              "\n",
              "(0, 1): ───H───Rz(pi*<x_1/pi>)───H───Rz(pi*<x_1/pi>)───\n",
              "\n",
              "(0, 2): ───H───Rz(pi*<x_2/pi>)───H───Rz(pi*<x_2/pi>)───\n",
              "\n",
              "(0, 3): ───H───Rz(pi*<x_3/pi>)───H───Rz(pi*<x_3/pi>)───\n",
              "\n",
              "(0, 4): ───H───Rz(pi*<x_4/pi>)───H───Rz(pi*<x_4/pi>)───\n",
              "\n",
              "(0, 5): ───H───Rz(pi*<x_5/pi>)───H───Rz(pi*<x_5/pi>)───\n",
              "\n",
              "(0, 6): ───H───Rz(pi*<x_6/pi>)───H───Rz(pi*<x_6/pi>)───\n",
              "\n",
              "(0, 7): ───H───Rz(pi*<x_7/pi>)───H───Rz(pi*<x_7/pi>)───\n",
              "\n",
              "(0, 8): ───H───Rz(pi*<x_8/pi>)───H───Rz(pi*<x_8/pi>)───"
            ]
          },
          "metadata": {
            "tags": []
          },
          "execution_count": 24
        }
      ]
    },
    {
      "cell_type": "code",
      "metadata": {
        "id": "6cec891e",
        "outputId": "78607d18-b64f-4df9-895b-6a5dae4207cb"
      },
      "source": [
        "kernel_circuit_3x3 = ParameterisedCircuit(n_qubit=9, copies=2, \n",
        "                                      rotation_blocks=[\"RY\", \"RZ\"],\n",
        "                                      entanglement_blocks=[\"ZZ\"],\n",
        "                                      entangle_strategy=\"alternate_linear\")\n",
        "kernel_circuit_3x3"
      ],
      "id": "6cec891e",
      "execution_count": null,
      "outputs": [
        {
          "output_type": "execute_result",
          "data": {
            "text/html": [
              "<pre style=\"overflow: auto; white-space: pre;\">(0, 0): ───Ry(θ_0)───Rz(θ_9)────ZZ──────────Ry(θ_26)────Rz(θ_35)──────────────ZZ──────────────────────\n",
              "                                │                                             │\n",
              "(0, 1): ───Ry(θ_1)───Rz(θ_10)───ZZ^(θ_18)───ZZ──────────Ry(θ_27)───Rz(θ_36)───ZZ^(θ_44)───ZZ──────────\n",
              "                                            │                                             │\n",
              "(0, 2): ───Ry(θ_2)───Rz(θ_11)───ZZ──────────ZZ^(θ_22)───Ry(θ_28)───Rz(θ_37)───ZZ──────────ZZ^(θ_48)───\n",
              "                                │                                             │\n",
              "(0, 3): ───Ry(θ_3)───Rz(θ_12)───ZZ^(θ_19)───ZZ──────────Ry(θ_29)───Rz(θ_38)───ZZ^(θ_45)───ZZ──────────\n",
              "                                            │                                             │\n",
              "(0, 4): ───Ry(θ_4)───Rz(θ_13)───ZZ──────────ZZ^(θ_23)───Ry(θ_30)───Rz(θ_39)───ZZ──────────ZZ^(θ_49)───\n",
              "                                │                                             │\n",
              "(0, 5): ───Ry(θ_5)───Rz(θ_14)───ZZ^(θ_20)───ZZ──────────Ry(θ_31)───Rz(θ_40)───ZZ^(θ_46)───ZZ──────────\n",
              "                                            │                                             │\n",
              "(0, 6): ───Ry(θ_6)───Rz(θ_15)───ZZ──────────ZZ^(θ_24)───Ry(θ_32)───Rz(θ_41)───ZZ──────────ZZ^(θ_50)───\n",
              "                                │                                             │\n",
              "(0, 7): ───Ry(θ_7)───Rz(θ_16)───ZZ^(θ_21)───ZZ──────────Ry(θ_33)───Rz(θ_42)───ZZ^(θ_47)───ZZ──────────\n",
              "                                            │                                             │\n",
              "(0, 8): ───Ry(θ_8)───Rz(θ_17)───────────────ZZ^(θ_25)───Ry(θ_34)───Rz(θ_43)───────────────ZZ^(θ_51)───</pre>"
            ],
            "text/plain": [
              "(0, 0): ───Ry(θ_0)───Rz(θ_9)────ZZ──────────Ry(θ_26)────Rz(θ_35)──────────────ZZ──────────────────────\n",
              "                                │                                             │\n",
              "(0, 1): ───Ry(θ_1)───Rz(θ_10)───ZZ^(θ_18)───ZZ──────────Ry(θ_27)───Rz(θ_36)───ZZ^(θ_44)───ZZ──────────\n",
              "                                            │                                             │\n",
              "(0, 2): ───Ry(θ_2)───Rz(θ_11)───ZZ──────────ZZ^(θ_22)───Ry(θ_28)───Rz(θ_37)───ZZ──────────ZZ^(θ_48)───\n",
              "                                │                                             │\n",
              "(0, 3): ───Ry(θ_3)───Rz(θ_12)───ZZ^(θ_19)───ZZ──────────Ry(θ_29)───Rz(θ_38)───ZZ^(θ_45)───ZZ──────────\n",
              "                                            │                                             │\n",
              "(0, 4): ───Ry(θ_4)───Rz(θ_13)───ZZ──────────ZZ^(θ_23)───Ry(θ_30)───Rz(θ_39)───ZZ──────────ZZ^(θ_49)───\n",
              "                                │                                             │\n",
              "(0, 5): ───Ry(θ_5)───Rz(θ_14)───ZZ^(θ_20)───ZZ──────────Ry(θ_31)───Rz(θ_40)───ZZ^(θ_46)───ZZ──────────\n",
              "                                            │                                             │\n",
              "(0, 6): ───Ry(θ_6)───Rz(θ_15)───ZZ──────────ZZ^(θ_24)───Ry(θ_32)───Rz(θ_41)───ZZ──────────ZZ^(θ_50)───\n",
              "                                │                                             │\n",
              "(0, 7): ───Ry(θ_7)───Rz(θ_16)───ZZ^(θ_21)───ZZ──────────Ry(θ_33)───Rz(θ_42)───ZZ^(θ_47)───ZZ──────────\n",
              "                                            │                                             │\n",
              "(0, 8): ───Ry(θ_8)───Rz(θ_17)───────────────ZZ^(θ_25)───Ry(θ_34)───Rz(θ_43)───────────────ZZ^(θ_51)───"
            ]
          },
          "metadata": {
            "tags": []
          },
          "execution_count": 25
        }
      ]
    },
    {
      "cell_type": "markdown",
      "metadata": {
        "id": "conditional-affair"
      },
      "source": [
        "- after 2 convolution with strides = (2, 2), the image dimension will be (2, 2) so we can just use a 4 qubit PQC for the final output"
      ],
      "id": "conditional-affair"
    },
    {
      "cell_type": "code",
      "metadata": {
        "id": "pressing-delay",
        "outputId": "afe36ef3-5ad9-48c1-a423-aeeb8721b3d5"
      },
      "source": [
        "from quple.data_encoding import  EncodingCircuit\n",
        "from quple import PauliBlock\n",
        "from quple.data_encoding.encoding_maps import polynomial\n",
        "output_data_circuit = FirstOrderPauliZEncoding(feature_dimension=4, copies=2, parameter_scale=1)\n",
        "output_data_circuit"
      ],
      "id": "pressing-delay",
      "execution_count": null,
      "outputs": [
        {
          "output_type": "execute_result",
          "data": {
            "text/html": [
              "<pre style=\"overflow: auto; white-space: pre;\">(0, 0): ───H───Rz(pi*&lt;x_0/pi&gt;)───H───Rz(pi*&lt;x_0/pi&gt;)───\n",
              "\n",
              "(0, 1): ───H───Rz(pi*&lt;x_1/pi&gt;)───H───Rz(pi*&lt;x_1/pi&gt;)───\n",
              "\n",
              "(0, 2): ───H───Rz(pi*&lt;x_2/pi&gt;)───H───Rz(pi*&lt;x_2/pi&gt;)───\n",
              "\n",
              "(0, 3): ───H───Rz(pi*&lt;x_3/pi&gt;)───H───Rz(pi*&lt;x_3/pi&gt;)───</pre>"
            ],
            "text/plain": [
              "(0, 0): ───H───Rz(pi*<x_0/pi>)───H───Rz(pi*<x_0/pi>)───\n",
              "\n",
              "(0, 1): ───H───Rz(pi*<x_1/pi>)───H───Rz(pi*<x_1/pi>)───\n",
              "\n",
              "(0, 2): ───H───Rz(pi*<x_2/pi>)───H───Rz(pi*<x_2/pi>)───\n",
              "\n",
              "(0, 3): ───H───Rz(pi*<x_3/pi>)───H───Rz(pi*<x_3/pi>)───"
            ]
          },
          "metadata": {
            "tags": []
          },
          "execution_count": 26
        }
      ]
    },
    {
      "cell_type": "code",
      "metadata": {
        "id": "hired-television",
        "outputId": "d801869f-37d5-4974-bb05-7a047c8c27ad"
      },
      "source": [
        "output_model_circuit = ParameterisedCircuit(n_qubit=4, copies=4, \n",
        "                                      rotation_blocks=[\"RY\", \"RZ\"],\n",
        "                                      entanglement_blocks=[\"ZZ\", \"XX\"])\n",
        "output_model_circuit"
      ],
      "id": "hired-television",
      "execution_count": null,
      "outputs": [
        {
          "output_type": "execute_result",
          "data": {
            "text/html": [
              "<pre style=\"overflow: auto; white-space: pre;\">                                                     ┌──────────────────┐                                       ┌──────────────────┐                                                              ┌──────────────────┐                                       ┌──────────────────┐                                                              ┌──────────────────┐                                       ┌──────────────────┐                                                              ┌──────────────────┐                                       ┌──────────────────┐\n",
              "(0, 0): ───Ry(θ_0)───Rz(θ_4)───ZZ─────────ZZ──────────ZZ────────────────────────────────XX──────────XX───────────XX────────────────────────────────Ry(θ_20)────Rz(θ_24)───ZZ──────────ZZ───────────ZZ────────────────────────────────XX──────────XX───────────XX────────────────────────────────Ry(θ_40)────Rz(θ_44)───ZZ──────────ZZ───────────ZZ────────────────────────────────XX──────────XX───────────XX────────────────────────────────Ry(θ_60)────Rz(θ_64)───ZZ──────────ZZ───────────ZZ────────────────────────────────XX──────────XX───────────XX────────────────────────────────────────────\n",
              "                               │          │           │                                 │           │            │                                                        │           │            │                                 │           │            │                                                        │           │            │                                 │           │            │                                                        │           │            │                                 │           │            │\n",
              "(0, 1): ───Ry(θ_1)───Rz(θ_5)───ZZ^(θ_8)───┼───────────┼────────ZZ───────────ZZ──────────XX^(θ_14)───┼────────────┼────────XX───────────XX──────────Ry(θ_21)────Rz(θ_25)───ZZ^(θ_28)───┼────────────┼────────ZZ───────────ZZ──────────XX^(θ_34)───┼────────────┼────────XX───────────XX──────────Ry(θ_41)────Rz(θ_45)───ZZ^(θ_48)───┼────────────┼────────ZZ───────────ZZ──────────XX^(θ_54)───┼────────────┼────────XX───────────XX──────────Ry(θ_61)────Rz(θ_65)───ZZ^(θ_68)───┼────────────┼────────ZZ───────────ZZ──────────XX^(θ_74)───┼────────────┼────────XX───────────XX──────────────────────\n",
              "                                          │           │        │            │                       │            │        │            │                                              │            │        │            │                       │            │        │            │                                              │            │        │            │                       │            │        │            │                                              │            │        │            │                       │            │        │            │\n",
              "(0, 2): ───Ry(θ_2)───Rz(θ_6)──────────────ZZ^(θ_9)────┼────────ZZ^(θ_11)────┼───────────ZZ──────────XX^(θ_15)────┼────────XX^(θ_17)────┼───────────XX──────────Ry(θ_22)───Rz(θ_26)────ZZ^(θ_29)────┼────────ZZ^(θ_31)────┼───────────ZZ──────────XX^(θ_35)────┼────────XX^(θ_37)────┼───────────XX──────────Ry(θ_42)───Rz(θ_46)────ZZ^(θ_49)────┼────────ZZ^(θ_51)────┼───────────ZZ──────────XX^(θ_55)────┼────────XX^(θ_57)────┼───────────XX──────────Ry(θ_62)───Rz(θ_66)────ZZ^(θ_69)────┼────────ZZ^(θ_71)────┼───────────ZZ──────────XX^(θ_75)────┼────────XX^(θ_77)────┼───────────XX──────────\n",
              "                                                      │                     │           │                        │                     │           │                                               │                     │           │                        │                     │           │                                               │                     │           │                        │                     │           │                                               │                     │           │                        │                     │           │\n",
              "(0, 3): ───Ry(θ_3)───Rz(θ_7)──────────────────────────ZZ^(θ_10)─────────────ZZ^(θ_12)───ZZ^(θ_13)────────────────XX^(θ_16)─────────────XX^(θ_18)───XX^(θ_19)───Ry(θ_23)───Rz(θ_27)─────────────────ZZ^(θ_30)─────────────ZZ^(θ_32)───ZZ^(θ_33)────────────────XX^(θ_36)─────────────XX^(θ_38)───XX^(θ_39)───Ry(θ_43)───Rz(θ_47)─────────────────ZZ^(θ_50)─────────────ZZ^(θ_52)───ZZ^(θ_53)────────────────XX^(θ_56)─────────────XX^(θ_58)───XX^(θ_59)───Ry(θ_63)───Rz(θ_67)─────────────────ZZ^(θ_70)─────────────ZZ^(θ_72)───ZZ^(θ_73)────────────────XX^(θ_76)─────────────XX^(θ_78)───XX^(θ_79)───\n",
              "                                                     └──────────────────┘                                       └──────────────────┘                                                              └──────────────────┘                                       └──────────────────┘                                                              └──────────────────┘                                       └──────────────────┘                                                              └──────────────────┘                                       └──────────────────┘</pre>"
            ],
            "text/plain": [
              "                                                     ┌──────────────────┐                                       ┌──────────────────┐                                                              ┌──────────────────┐                                       ┌──────────────────┐                                                              ┌──────────────────┐                                       ┌──────────────────┐                                                              ┌──────────────────┐                                       ┌──────────────────┐\n",
              "(0, 0): ───Ry(θ_0)───Rz(θ_4)───ZZ─────────ZZ──────────ZZ────────────────────────────────XX──────────XX───────────XX────────────────────────────────Ry(θ_20)────Rz(θ_24)───ZZ──────────ZZ───────────ZZ────────────────────────────────XX──────────XX───────────XX────────────────────────────────Ry(θ_40)────Rz(θ_44)───ZZ──────────ZZ───────────ZZ────────────────────────────────XX──────────XX───────────XX────────────────────────────────Ry(θ_60)────Rz(θ_64)───ZZ──────────ZZ───────────ZZ────────────────────────────────XX──────────XX───────────XX────────────────────────────────────────────\n",
              "                               │          │           │                                 │           │            │                                                        │           │            │                                 │           │            │                                                        │           │            │                                 │           │            │                                                        │           │            │                                 │           │            │\n",
              "(0, 1): ───Ry(θ_1)───Rz(θ_5)───ZZ^(θ_8)───┼───────────┼────────ZZ───────────ZZ──────────XX^(θ_14)───┼────────────┼────────XX───────────XX──────────Ry(θ_21)────Rz(θ_25)───ZZ^(θ_28)───┼────────────┼────────ZZ───────────ZZ──────────XX^(θ_34)───┼────────────┼────────XX───────────XX──────────Ry(θ_41)────Rz(θ_45)───ZZ^(θ_48)───┼────────────┼────────ZZ───────────ZZ──────────XX^(θ_54)───┼────────────┼────────XX───────────XX──────────Ry(θ_61)────Rz(θ_65)───ZZ^(θ_68)───┼────────────┼────────ZZ───────────ZZ──────────XX^(θ_74)───┼────────────┼────────XX───────────XX──────────────────────\n",
              "                                          │           │        │            │                       │            │        │            │                                              │            │        │            │                       │            │        │            │                                              │            │        │            │                       │            │        │            │                                              │            │        │            │                       │            │        │            │\n",
              "(0, 2): ───Ry(θ_2)───Rz(θ_6)──────────────ZZ^(θ_9)────┼────────ZZ^(θ_11)────┼───────────ZZ──────────XX^(θ_15)────┼────────XX^(θ_17)────┼───────────XX──────────Ry(θ_22)───Rz(θ_26)────ZZ^(θ_29)────┼────────ZZ^(θ_31)────┼───────────ZZ──────────XX^(θ_35)────┼────────XX^(θ_37)────┼───────────XX──────────Ry(θ_42)───Rz(θ_46)────ZZ^(θ_49)────┼────────ZZ^(θ_51)────┼───────────ZZ──────────XX^(θ_55)────┼────────XX^(θ_57)────┼───────────XX──────────Ry(θ_62)───Rz(θ_66)────ZZ^(θ_69)────┼────────ZZ^(θ_71)────┼───────────ZZ──────────XX^(θ_75)────┼────────XX^(θ_77)────┼───────────XX──────────\n",
              "                                                      │                     │           │                        │                     │           │                                               │                     │           │                        │                     │           │                                               │                     │           │                        │                     │           │                                               │                     │           │                        │                     │           │\n",
              "(0, 3): ───Ry(θ_3)───Rz(θ_7)──────────────────────────ZZ^(θ_10)─────────────ZZ^(θ_12)───ZZ^(θ_13)────────────────XX^(θ_16)─────────────XX^(θ_18)───XX^(θ_19)───Ry(θ_23)───Rz(θ_27)─────────────────ZZ^(θ_30)─────────────ZZ^(θ_32)───ZZ^(θ_33)────────────────XX^(θ_36)─────────────XX^(θ_38)───XX^(θ_39)───Ry(θ_43)───Rz(θ_47)─────────────────ZZ^(θ_50)─────────────ZZ^(θ_52)───ZZ^(θ_53)────────────────XX^(θ_56)─────────────XX^(θ_58)───XX^(θ_59)───Ry(θ_63)───Rz(θ_67)─────────────────ZZ^(θ_70)─────────────ZZ^(θ_72)───ZZ^(θ_73)────────────────XX^(θ_76)─────────────XX^(θ_78)───XX^(θ_79)───\n",
              "                                                     └──────────────────┘                                       └──────────────────┘                                                              └──────────────────┘                                       └──────────────────┘                                                              └──────────────────┘                                       └──────────────────┘                                                              └──────────────────┘                                       └──────────────────┘"
            ]
          },
          "metadata": {
            "tags": []
          },
          "execution_count": 30
        }
      ]
    },
    {
      "cell_type": "code",
      "metadata": {
        "id": "b8b9c3fe"
      },
      "source": [
        "from quple.interface.tfq.layers import QConv2D, PQC, QConv2DEx\n",
        "import cirq\n",
        "import tensorflow as tf\n",
        "\n",
        "#let's measure the last qubit\n",
        "readout_3x3 = [cirq.Z(kernel_circuit_2x2.qubits[-1])]\n",
        "readout_2x2 = [cirq.Z(kernel_circuit_2x2.qubits[-1])]\n",
        "PQC_readout = [cirq.Z(output_model_circuit.qubits[-1])]\n",
        "\n",
        "def create_quantum_generator():\n",
        "    model = tf.keras.Sequential()\n",
        "    model.add(tf.keras.layers.Input(shape=(64), dtype=tf.float32))\n",
        "    model.add(tf.keras.layers.Reshape((8, 8, 1)))\n",
        "    \n",
        "    model.add(QConv2DEx(kernel_circuit_3x3, data_circuit_3x3, readout_3x3, kernel_size=(3, 3), \n",
        "                        filters=1, strides=(1, 1), padding=\"same\", parameter_sharing=False)) \n",
        "    #model.add(tf.keras.layers.BatchNormalization())\n",
        "    model.add(QConv2DEx(kernel_circuit_2x2, data_circuit_2x2, readout_2x2, kernel_size=(2, 2), \n",
        "                        filters=1, strides=(1, 1), padding=\"same\", parameter_sharing=True))\n",
        "    return model\n",
        "\n",
        "def create_quantum_discriminator():\n",
        "    model = tf.keras.Sequential()\n",
        "    model.add(tf.keras.layers.Input(shape=(8, 8, 1), dtype=tf.float32))\n",
        "    model.add(QConv2DEx(kernel_circuit_2x2, data_circuit_2x2, readout_2x2, kernel_size=(2, 2), \n",
        "                        filters=1, strides=(1, 1), padding=\"same\", parameter_sharing=True))   \n",
        "    model.add(tf.keras.layers.MaxPooling2D((2,2)))\n",
        "    model.add(QConv2DEx(kernel_circuit_2x2, data_circuit_2x2, readout_2x2, kernel_size=(2, 2), \n",
        "                        filters=1, strides=(1, 1), padding=\"same\", parameter_sharing=True))\n",
        "    model.add(tf.keras.layers.MaxPooling2D((2,2)))\n",
        "    model.add(tf.keras.layers.Flatten())\n",
        "    model.add(PQC(output_model_circuit, output_data_circuit, PQC_readout))\n",
        "    return model"
      ],
      "id": "b8b9c3fe",
      "execution_count": null,
      "outputs": []
    },
    {
      "cell_type": "markdown",
      "metadata": {
        "id": "advised-hollywood"
      },
      "source": [
        "## Create QGAN model"
      ],
      "id": "advised-hollywood"
    },
    {
      "cell_type": "code",
      "metadata": {
        "id": "rotary-practice",
        "outputId": "bdf1a23b-62c3-4f0d-baeb-ec1bdb9a3da3"
      },
      "source": [
        "from quple.models import QGAN\n",
        "generator = create_quantum_generator()\n",
        "discriminator = create_quantum_discriminator()\n",
        "qgan = QGAN(generator, discriminator, encoding_circuit=None,\n",
        "            latent_dim=64,\n",
        "            epochs=50, d_lr=1e-3, g_lr=1e-3, random_state=2021, batch_size=16,\n",
        "            checkpoint_dir=\"./training_checkpoints/qgan_with_cnn/image8x8_pure_quantum\")\n",
        "qgan.enable_visualization(image_shape, n_image=16)"
      ],
      "id": "rotary-practice",
      "execution_count": null,
      "outputs": [
        {
          "output_type": "stream",
          "text": [
            "Summary of Generator\n",
            "Model: \"sequential_6\"\n",
            "_________________________________________________________________\n",
            "Layer (type)                 Output Shape              Param #   \n",
            "=================================================================\n",
            "reshape_3 (Reshape)          (None, 8, 8, 1)           0         \n",
            "_________________________________________________________________\n",
            "q_conv2d_ex_12 (QConv2DEx)   (None, 8, 8, 1)           3328      \n",
            "_________________________________________________________________\n",
            "q_conv2d_ex_13 (QConv2DEx)   (None, 8, 8, 1)           24        \n",
            "=================================================================\n",
            "Total params: 3,352\n",
            "Trainable params: 3,352\n",
            "Non-trainable params: 0\n",
            "_________________________________________________________________\n",
            "Summary of Discriminator\n",
            "Model: \"sequential_7\"\n",
            "_________________________________________________________________\n",
            "Layer (type)                 Output Shape              Param #   \n",
            "=================================================================\n",
            "q_conv2d_ex_14 (QConv2DEx)   (None, 8, 8, 1)           24        \n",
            "_________________________________________________________________\n",
            "max_pooling2d_6 (MaxPooling2 (None, 4, 4, 1)           0         \n",
            "_________________________________________________________________\n",
            "q_conv2d_ex_15 (QConv2DEx)   (None, 4, 4, 1)           24        \n",
            "_________________________________________________________________\n",
            "max_pooling2d_7 (MaxPooling2 (None, 2, 2, 1)           0         \n",
            "_________________________________________________________________\n",
            "flatten_3 (Flatten)          (None, 4)                 0         \n",
            "_________________________________________________________________\n",
            "pqc_3 (PQC)                  (None, 1)                 80        \n",
            "=================================================================\n",
            "Total params: 128\n",
            "Trainable params: 128\n",
            "Non-trainable params: 0\n",
            "_________________________________________________________________\n"
          ],
          "name": "stdout"
        }
      ]
    },
    {
      "cell_type": "code",
      "metadata": {
        "id": "corrected-country"
      },
      "source": [
        "qgan.enable_visualization(image_shape, n_image=16)"
      ],
      "id": "corrected-country",
      "execution_count": null,
      "outputs": []
    },
    {
      "cell_type": "code",
      "metadata": {
        "id": "ed9a0017"
      },
      "source": [
        "new_x_train = np.reshape(x_train_rescaled, [x_train_rescaled.shape[0], 8, 8, 1])"
      ],
      "id": "ed9a0017",
      "execution_count": null,
      "outputs": []
    },
    {
      "cell_type": "code",
      "metadata": {
        "id": "extraordinary-cause",
        "outputId": "ad6a4f2f-e66d-48a5-87ec-4c3f7e3b8c9b"
      },
      "source": [
        "g_loss, d_loss = qgan.train(new_x_train[:200])"
      ],
      "id": "extraordinary-cause",
      "execution_count": null,
      "outputs": [
        {
          "output_type": "display_data",
          "data": {
            "image/png": "[encoded data removed]",
            "text/plain": [
              "<Figure size 1152x648 with 17 Axes>"
            ]
          },
          "metadata": {
            "tags": [],
            "needs_background": "light"
          }
        }
      ]
    },
    {
      "cell_type": "code",
      "metadata": {
        "id": "saved-grove"
      },
      "source": [
        ""
      ],
      "id": "saved-grove",
      "execution_count": null,
      "outputs": []
    }
  ]
}