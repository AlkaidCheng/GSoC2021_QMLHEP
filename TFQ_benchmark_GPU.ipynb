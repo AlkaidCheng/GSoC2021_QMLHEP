{
  "nbformat": 4,
  "nbformat_minor": 0,
  "metadata": {
    "colab": {
      "name": "TFQ_benchmark_GPU.ipynb",
      "provenance": [],
      "authorship_tag": "ABX9TyO8oAXSw6fm1NjHoNfbjOE5",
      "include_colab_link": true
    },
    "kernelspec": {
      "name": "python3",
      "display_name": "Python 3"
    },
    "language_info": {
      "name": "python"
    },
    "accelerator": "GPU"
  },
  "cells": [
    {
      "cell_type": "markdown",
      "metadata": {
        "id": "view-in-github",
        "colab_type": "text"
      },
      "source": [
        "<a href=\"https://colab.research.google.com/github/AlkaidCheng/GSoC2021_QMLHEP/blob/main/TFQ_benchmark_GPU.ipynb\" target=\"_parent\"><img src=\"https://colab.research.google.com/assets/colab-badge.svg\" alt=\"Open In Colab\"/></a>"
      ]
    },
    {
      "cell_type": "code",
      "metadata": {
        "colab": {
          "base_uri": "https://localhost:8080/",
          "height": 1000
        },
        "id": "5iTT3N_XO1N7",
        "outputId": "2bf158df-491f-4e6f-90b8-560e7da6ff80"
      },
      "source": [
        "!pip install tensorflow==2.4.1\n",
        "!pip install tensorflow-quantum\n",
        "!pip install quple"
      ],
      "execution_count": 1,
      "outputs": [
        {
          "output_type": "stream",
          "text": [
            "Collecting tensorflow==2.4.1\n",
            "\u001b[?25l  Downloading https://files.pythonhosted.org/packages/70/dc/e8c5e7983866fa4ef3fd619faa35f660b95b01a2ab62b3884f038ccab542/tensorflow-2.4.1-cp37-cp37m-manylinux2010_x86_64.whl (394.3MB)\n",
            "\u001b[K     |████████████████████████████████| 394.3MB 44kB/s \n",
            "\u001b[?25hRequirement already satisfied: numpy~=1.19.2 in /usr/local/lib/python3.7/dist-packages (from tensorflow==2.4.1) (1.19.5)\n",
            "Requirement already satisfied: protobuf>=3.9.2 in /usr/local/lib/python3.7/dist-packages (from tensorflow==2.4.1) (3.17.3)\n",
            "Requirement already satisfied: typing-extensions~=3.7.4 in /usr/local/lib/python3.7/dist-packages (from tensorflow==2.4.1) (3.7.4.3)\n",
            "Collecting grpcio~=1.32.0\n",
            "\u001b[?25l  Downloading https://files.pythonhosted.org/packages/06/54/1c8be62beafe7fb1548d2968e518ca040556b46b0275399d4f3186c56d79/grpcio-1.32.0-cp37-cp37m-manylinux2014_x86_64.whl (3.8MB)\n",
            "\u001b[K     |████████████████████████████████| 3.8MB 29.8MB/s \n",
            "\u001b[?25hRequirement already satisfied: keras-preprocessing~=1.1.2 in /usr/local/lib/python3.7/dist-packages (from tensorflow==2.4.1) (1.1.2)\n",
            "Collecting tensorflow-estimator<2.5.0,>=2.4.0\n",
            "\u001b[?25l  Downloading https://files.pythonhosted.org/packages/74/7e/622d9849abf3afb81e482ffc170758742e392ee129ce1540611199a59237/tensorflow_estimator-2.4.0-py2.py3-none-any.whl (462kB)\n",
            "\u001b[K     |████████████████████████████████| 471kB 56.3MB/s \n",
            "\u001b[?25hRequirement already satisfied: google-pasta~=0.2 in /usr/local/lib/python3.7/dist-packages (from tensorflow==2.4.1) (0.2.0)\n",
            "Requirement already satisfied: termcolor~=1.1.0 in /usr/local/lib/python3.7/dist-packages (from tensorflow==2.4.1) (1.1.0)\n",
            "Requirement already satisfied: flatbuffers~=1.12.0 in /usr/local/lib/python3.7/dist-packages (from tensorflow==2.4.1) (1.12)\n",
            "Requirement already satisfied: opt-einsum~=3.3.0 in /usr/local/lib/python3.7/dist-packages (from tensorflow==2.4.1) (3.3.0)\n",
            "Requirement already satisfied: wheel~=0.35 in /usr/local/lib/python3.7/dist-packages (from tensorflow==2.4.1) (0.36.2)\n",
            "Requirement already satisfied: tensorboard~=2.4 in /usr/local/lib/python3.7/dist-packages (from tensorflow==2.4.1) (2.5.0)\n",
            "Requirement already satisfied: absl-py~=0.10 in /usr/local/lib/python3.7/dist-packages (from tensorflow==2.4.1) (0.12.0)\n",
            "Requirement already satisfied: six~=1.15.0 in /usr/local/lib/python3.7/dist-packages (from tensorflow==2.4.1) (1.15.0)\n",
            "Requirement already satisfied: astunparse~=1.6.3 in /usr/local/lib/python3.7/dist-packages (from tensorflow==2.4.1) (1.6.3)\n",
            "Collecting gast==0.3.3\n",
            "  Downloading https://files.pythonhosted.org/packages/d6/84/759f5dd23fec8ba71952d97bcc7e2c9d7d63bdc582421f3cd4be845f0c98/gast-0.3.3-py2.py3-none-any.whl\n",
            "Requirement already satisfied: wrapt~=1.12.1 in /usr/local/lib/python3.7/dist-packages (from tensorflow==2.4.1) (1.12.1)\n",
            "Collecting h5py~=2.10.0\n",
            "\u001b[?25l  Downloading https://files.pythonhosted.org/packages/3f/c0/abde58b837e066bca19a3f7332d9d0493521d7dd6b48248451a9e3fe2214/h5py-2.10.0-cp37-cp37m-manylinux1_x86_64.whl (2.9MB)\n",
            "\u001b[K     |████████████████████████████████| 2.9MB 38.9MB/s \n",
            "\u001b[?25hRequirement already satisfied: setuptools>=41.0.0 in /usr/local/lib/python3.7/dist-packages (from tensorboard~=2.4->tensorflow==2.4.1) (57.0.0)\n",
            "Requirement already satisfied: werkzeug>=0.11.15 in /usr/local/lib/python3.7/dist-packages (from tensorboard~=2.4->tensorflow==2.4.1) (1.0.1)\n",
            "Requirement already satisfied: google-auth<2,>=1.6.3 in /usr/local/lib/python3.7/dist-packages (from tensorboard~=2.4->tensorflow==2.4.1) (1.32.1)\n",
            "Requirement already satisfied: tensorboard-plugin-wit>=1.6.0 in /usr/local/lib/python3.7/dist-packages (from tensorboard~=2.4->tensorflow==2.4.1) (1.8.0)\n",
            "Requirement already satisfied: google-auth-oauthlib<0.5,>=0.4.1 in /usr/local/lib/python3.7/dist-packages (from tensorboard~=2.4->tensorflow==2.4.1) (0.4.4)\n",
            "Requirement already satisfied: requests<3,>=2.21.0 in /usr/local/lib/python3.7/dist-packages (from tensorboard~=2.4->tensorflow==2.4.1) (2.23.0)\n",
            "Requirement already satisfied: tensorboard-data-server<0.7.0,>=0.6.0 in /usr/local/lib/python3.7/dist-packages (from tensorboard~=2.4->tensorflow==2.4.1) (0.6.1)\n",
            "Requirement already satisfied: markdown>=2.6.8 in /usr/local/lib/python3.7/dist-packages (from tensorboard~=2.4->tensorflow==2.4.1) (3.3.4)\n",
            "Requirement already satisfied: rsa<5,>=3.1.4; python_version >= \"3.6\" in /usr/local/lib/python3.7/dist-packages (from google-auth<2,>=1.6.3->tensorboard~=2.4->tensorflow==2.4.1) (4.7.2)\n",
            "Requirement already satisfied: cachetools<5.0,>=2.0.0 in /usr/local/lib/python3.7/dist-packages (from google-auth<2,>=1.6.3->tensorboard~=2.4->tensorflow==2.4.1) (4.2.2)\n",
            "Requirement already satisfied: pyasn1-modules>=0.2.1 in /usr/local/lib/python3.7/dist-packages (from google-auth<2,>=1.6.3->tensorboard~=2.4->tensorflow==2.4.1) (0.2.8)\n",
            "Requirement already satisfied: requests-oauthlib>=0.7.0 in /usr/local/lib/python3.7/dist-packages (from google-auth-oauthlib<0.5,>=0.4.1->tensorboard~=2.4->tensorflow==2.4.1) (1.3.0)\n",
            "Requirement already satisfied: certifi>=2017.4.17 in /usr/local/lib/python3.7/dist-packages (from requests<3,>=2.21.0->tensorboard~=2.4->tensorflow==2.4.1) (2021.5.30)\n",
            "Requirement already satisfied: urllib3!=1.25.0,!=1.25.1,<1.26,>=1.21.1 in /usr/local/lib/python3.7/dist-packages (from requests<3,>=2.21.0->tensorboard~=2.4->tensorflow==2.4.1) (1.24.3)\n",
            "Requirement already satisfied: chardet<4,>=3.0.2 in /usr/local/lib/python3.7/dist-packages (from requests<3,>=2.21.0->tensorboard~=2.4->tensorflow==2.4.1) (3.0.4)\n",
            "Requirement already satisfied: idna<3,>=2.5 in /usr/local/lib/python3.7/dist-packages (from requests<3,>=2.21.0->tensorboard~=2.4->tensorflow==2.4.1) (2.10)\n",
            "Requirement already satisfied: importlib-metadata; python_version < \"3.8\" in /usr/local/lib/python3.7/dist-packages (from markdown>=2.6.8->tensorboard~=2.4->tensorflow==2.4.1) (4.6.0)\n",
            "Requirement already satisfied: pyasn1>=0.1.3 in /usr/local/lib/python3.7/dist-packages (from rsa<5,>=3.1.4; python_version >= \"3.6\"->google-auth<2,>=1.6.3->tensorboard~=2.4->tensorflow==2.4.1) (0.4.8)\n",
            "Requirement already satisfied: oauthlib>=3.0.0 in /usr/local/lib/python3.7/dist-packages (from requests-oauthlib>=0.7.0->google-auth-oauthlib<0.5,>=0.4.1->tensorboard~=2.4->tensorflow==2.4.1) (3.1.1)\n",
            "Requirement already satisfied: zipp>=0.5 in /usr/local/lib/python3.7/dist-packages (from importlib-metadata; python_version < \"3.8\"->markdown>=2.6.8->tensorboard~=2.4->tensorflow==2.4.1) (3.4.1)\n",
            "Installing collected packages: grpcio, tensorflow-estimator, gast, h5py, tensorflow\n",
            "  Found existing installation: grpcio 1.34.1\n",
            "    Uninstalling grpcio-1.34.1:\n",
            "      Successfully uninstalled grpcio-1.34.1\n",
            "  Found existing installation: tensorflow-estimator 2.5.0\n",
            "    Uninstalling tensorflow-estimator-2.5.0:\n",
            "      Successfully uninstalled tensorflow-estimator-2.5.0\n",
            "  Found existing installation: gast 0.4.0\n",
            "    Uninstalling gast-0.4.0:\n",
            "      Successfully uninstalled gast-0.4.0\n",
            "  Found existing installation: h5py 3.1.0\n",
            "    Uninstalling h5py-3.1.0:\n",
            "      Successfully uninstalled h5py-3.1.0\n",
            "  Found existing installation: tensorflow 2.5.0\n",
            "    Uninstalling tensorflow-2.5.0:\n",
            "      Successfully uninstalled tensorflow-2.5.0\n",
            "Successfully installed gast-0.3.3 grpcio-1.32.0 h5py-2.10.0 tensorflow-2.4.1 tensorflow-estimator-2.4.0\n",
            "Collecting tensorflow-quantum\n",
            "\u001b[?25l  Downloading https://files.pythonhosted.org/packages/67/24/43c21d3af4c68198fe1d9cdd3233b94210e384e4861c69aab24d89015336/tensorflow_quantum-0.5.1-cp37-cp37m-manylinux_2_12_x86_64.manylinux2010_x86_64.whl (7.8MB)\n",
            "\u001b[K     |████████████████████████████████| 7.8MB 15.0MB/s \n",
            "\u001b[?25hCollecting googleapis-common-protos==1.52.0\n",
            "\u001b[?25l  Downloading https://files.pythonhosted.org/packages/03/74/3956721ea1eb4bcf7502a311fdaa60b85bd751de4e57d1943afe9b334141/googleapis_common_protos-1.52.0-py2.py3-none-any.whl (100kB)\n",
            "\u001b[K     |████████████████████████████████| 102kB 13.4MB/s \n",
            "\u001b[?25hCollecting cirq==0.11.0\n",
            "  Downloading https://files.pythonhosted.org/packages/eb/a1/3458cb4981e648e0167ea160f536d6a0f32d95e9340c7b1a081b9ef79189/cirq-0.11.0-py3-none-any.whl\n",
            "Collecting google-api-core==1.21.0\n",
            "\u001b[?25l  Downloading https://files.pythonhosted.org/packages/48/76/bd5e3ebd571b9f688ae123a2bd84b2dc9f75e1214a83b8a759bc16e2fc35/google_api_core-1.21.0-py2.py3-none-any.whl (90kB)\n",
            "\u001b[K     |████████████████████████████████| 92kB 12.2MB/s \n",
            "\u001b[?25hCollecting protobuf==3.13.0\n",
            "\u001b[?25l  Downloading https://files.pythonhosted.org/packages/71/dc/5ba56eab7440c62c5f808b4267e2a1d6c136e90293b43fefb1b493c6d704/protobuf-3.13.0-cp37-cp37m-manylinux1_x86_64.whl (1.3MB)\n",
            "\u001b[K     |████████████████████████████████| 1.3MB 49.5MB/s \n",
            "\u001b[?25hCollecting sympy==1.5\n",
            "\u001b[?25l  Downloading https://files.pythonhosted.org/packages/4d/a7/25d5d6b3295537ab90bdbcd21e464633fb4a0684dd9a065da404487625bb/sympy-1.5-py2.py3-none-any.whl (5.6MB)\n",
            "\u001b[K     |████████████████████████████████| 5.6MB 21.8MB/s \n",
            "\u001b[?25hCollecting google-auth==1.18.0\n",
            "\u001b[?25l  Downloading https://files.pythonhosted.org/packages/21/57/d706964a7e4056f3f2244e16705388c11631fbb53d3e2d2a2d0fbc24d470/google_auth-1.18.0-py2.py3-none-any.whl (90kB)\n",
            "\u001b[K     |████████████████████████████████| 92kB 12.5MB/s \n",
            "\u001b[?25hCollecting cirq-google==0.11.0\n",
            "\u001b[?25l  Downloading https://files.pythonhosted.org/packages/1e/e5/72b14d2ab702184335884f05e0726f7d824483ebee2d9055b01d1f69841f/cirq_google-0.11.0-py3-none-any.whl (380kB)\n",
            "\u001b[K     |████████████████████████████████| 389kB 51.4MB/s \n",
            "\u001b[?25hCollecting cirq-core==0.11.0\n",
            "\u001b[?25l  Downloading https://files.pythonhosted.org/packages/2f/e1/e1d174f037b3019979114155dcd9257883316bfc105a5fab360e3349d9e7/cirq_core-0.11.0-py3-none-any.whl (1.5MB)\n",
            "\u001b[K     |████████████████████████████████| 1.5MB 43.8MB/s \n",
            "\u001b[?25hRequirement already satisfied: six>=1.10.0 in /usr/local/lib/python3.7/dist-packages (from google-api-core==1.21.0->tensorflow-quantum) (1.15.0)\n",
            "Requirement already satisfied: setuptools>=34.0.0 in /usr/local/lib/python3.7/dist-packages (from google-api-core==1.21.0->tensorflow-quantum) (57.0.0)\n",
            "Requirement already satisfied: pytz in /usr/local/lib/python3.7/dist-packages (from google-api-core==1.21.0->tensorflow-quantum) (2018.9)\n",
            "Requirement already satisfied: requests<3.0.0dev,>=2.18.0 in /usr/local/lib/python3.7/dist-packages (from google-api-core==1.21.0->tensorflow-quantum) (2.23.0)\n",
            "Requirement already satisfied: mpmath>=0.19 in /usr/local/lib/python3.7/dist-packages (from sympy==1.5->tensorflow-quantum) (1.2.1)\n",
            "Requirement already satisfied: rsa<5,>=3.1.4; python_version >= \"3\" in /usr/local/lib/python3.7/dist-packages (from google-auth==1.18.0->tensorflow-quantum) (4.7.2)\n",
            "Requirement already satisfied: pyasn1-modules>=0.2.1 in /usr/local/lib/python3.7/dist-packages (from google-auth==1.18.0->tensorflow-quantum) (0.2.8)\n",
            "Requirement already satisfied: cachetools<5.0,>=2.0.0 in /usr/local/lib/python3.7/dist-packages (from google-auth==1.18.0->tensorflow-quantum) (4.2.2)\n",
            "Requirement already satisfied: pandas in /usr/local/lib/python3.7/dist-packages (from cirq-core==0.11.0->cirq==0.11.0->tensorflow-quantum) (1.1.5)\n",
            "Requirement already satisfied: networkx~=2.4 in /usr/local/lib/python3.7/dist-packages (from cirq-core==0.11.0->cirq==0.11.0->tensorflow-quantum) (2.5.1)\n",
            "Requirement already satisfied: sortedcontainers~=2.0 in /usr/local/lib/python3.7/dist-packages (from cirq-core==0.11.0->cirq==0.11.0->tensorflow-quantum) (2.4.0)\n",
            "Requirement already satisfied: tqdm in /usr/local/lib/python3.7/dist-packages (from cirq-core==0.11.0->cirq==0.11.0->tensorflow-quantum) (4.41.1)\n",
            "Requirement already satisfied: typing-extensions in /usr/local/lib/python3.7/dist-packages (from cirq-core==0.11.0->cirq==0.11.0->tensorflow-quantum) (3.7.4.3)\n",
            "Requirement already satisfied: matplotlib~=3.0 in /usr/local/lib/python3.7/dist-packages (from cirq-core==0.11.0->cirq==0.11.0->tensorflow-quantum) (3.2.2)\n",
            "Requirement already satisfied: numpy~=1.16 in /usr/local/lib/python3.7/dist-packages (from cirq-core==0.11.0->cirq==0.11.0->tensorflow-quantum) (1.19.5)\n",
            "Requirement already satisfied: scipy in /usr/local/lib/python3.7/dist-packages (from cirq-core==0.11.0->cirq==0.11.0->tensorflow-quantum) (1.4.1)\n",
            "Requirement already satisfied: urllib3!=1.25.0,!=1.25.1,<1.26,>=1.21.1 in /usr/local/lib/python3.7/dist-packages (from requests<3.0.0dev,>=2.18.0->google-api-core==1.21.0->tensorflow-quantum) (1.24.3)\n",
            "Requirement already satisfied: certifi>=2017.4.17 in /usr/local/lib/python3.7/dist-packages (from requests<3.0.0dev,>=2.18.0->google-api-core==1.21.0->tensorflow-quantum) (2021.5.30)\n",
            "Requirement already satisfied: chardet<4,>=3.0.2 in /usr/local/lib/python3.7/dist-packages (from requests<3.0.0dev,>=2.18.0->google-api-core==1.21.0->tensorflow-quantum) (3.0.4)\n",
            "Requirement already satisfied: idna<3,>=2.5 in /usr/local/lib/python3.7/dist-packages (from requests<3.0.0dev,>=2.18.0->google-api-core==1.21.0->tensorflow-quantum) (2.10)\n",
            "Requirement already satisfied: pyasn1>=0.1.3 in /usr/local/lib/python3.7/dist-packages (from rsa<5,>=3.1.4; python_version >= \"3\"->google-auth==1.18.0->tensorflow-quantum) (0.4.8)\n",
            "Requirement already satisfied: python-dateutil>=2.7.3 in /usr/local/lib/python3.7/dist-packages (from pandas->cirq-core==0.11.0->cirq==0.11.0->tensorflow-quantum) (2.8.1)\n",
            "Requirement already satisfied: decorator<5,>=4.3 in /usr/local/lib/python3.7/dist-packages (from networkx~=2.4->cirq-core==0.11.0->cirq==0.11.0->tensorflow-quantum) (4.4.2)\n",
            "Requirement already satisfied: pyparsing!=2.0.4,!=2.1.2,!=2.1.6,>=2.0.1 in /usr/local/lib/python3.7/dist-packages (from matplotlib~=3.0->cirq-core==0.11.0->cirq==0.11.0->tensorflow-quantum) (2.4.7)\n",
            "Requirement already satisfied: cycler>=0.10 in /usr/local/lib/python3.7/dist-packages (from matplotlib~=3.0->cirq-core==0.11.0->cirq==0.11.0->tensorflow-quantum) (0.10.0)\n",
            "Requirement already satisfied: kiwisolver>=1.0.1 in /usr/local/lib/python3.7/dist-packages (from matplotlib~=3.0->cirq-core==0.11.0->cirq==0.11.0->tensorflow-quantum) (1.3.1)\n",
            "Installing collected packages: protobuf, googleapis-common-protos, sympy, cirq-core, google-auth, google-api-core, cirq-google, cirq, tensorflow-quantum\n",
            "  Found existing installation: protobuf 3.17.3\n",
            "    Uninstalling protobuf-3.17.3:\n",
            "      Successfully uninstalled protobuf-3.17.3\n",
            "  Found existing installation: googleapis-common-protos 1.53.0\n",
            "    Uninstalling googleapis-common-protos-1.53.0:\n",
            "      Successfully uninstalled googleapis-common-protos-1.53.0\n",
            "  Found existing installation: sympy 1.7.1\n",
            "    Uninstalling sympy-1.7.1:\n",
            "      Successfully uninstalled sympy-1.7.1\n",
            "  Found existing installation: google-auth 1.32.1\n",
            "    Uninstalling google-auth-1.32.1:\n",
            "      Successfully uninstalled google-auth-1.32.1\n",
            "  Found existing installation: google-api-core 1.26.3\n",
            "    Uninstalling google-api-core-1.26.3:\n",
            "      Successfully uninstalled google-api-core-1.26.3\n",
            "Successfully installed cirq-0.11.0 cirq-core-0.11.0 cirq-google-0.11.0 google-api-core-1.21.0 google-auth-1.18.0 googleapis-common-protos-1.52.0 protobuf-3.13.0 sympy-1.5 tensorflow-quantum-0.5.1\n"
          ],
          "name": "stdout"
        },
        {
          "output_type": "display_data",
          "data": {
            "application/vnd.colab-display-data+json": {
              "pip_warning": {
                "packages": [
                  "google"
                ]
              }
            }
          },
          "metadata": {
            "tags": []
          }
        },
        {
          "output_type": "stream",
          "text": [
            "Collecting quple\n",
            "\u001b[?25l  Downloading https://files.pythonhosted.org/packages/61/78/bcde73cccf69ab430331de3a2166feaeca1cdb0834ef93ef30c48e28bffd/quple-0.8.1-py3-none-any.whl (95kB)\n",
            "\r\u001b[K     |███▌                            | 10kB 18.1MB/s eta 0:00:01\r\u001b[K     |███████                         | 20kB 24.7MB/s eta 0:00:01\r\u001b[K     |██████████▍                     | 30kB 28.8MB/s eta 0:00:01\r\u001b[K     |█████████████▉                  | 40kB 30.4MB/s eta 0:00:01\r\u001b[K     |█████████████████▎              | 51kB 31.6MB/s eta 0:00:01\r\u001b[K     |████████████████████▊           | 61kB 34.2MB/s eta 0:00:01\r\u001b[K     |████████████████████████▏       | 71kB 34.3MB/s eta 0:00:01\r\u001b[K     |███████████████████████████▋    | 81kB 35.5MB/s eta 0:00:01\r\u001b[K     |███████████████████████████████ | 92kB 37.0MB/s eta 0:00:01\r\u001b[K     |████████████████████████████████| 102kB 11.8MB/s \n",
            "\u001b[?25hRequirement already satisfied: tensorflow in /usr/local/lib/python3.7/dist-packages (from quple) (2.4.1)\n",
            "Requirement already satisfied: tensorflow-quantum in /usr/local/lib/python3.7/dist-packages (from quple) (0.5.1)\n",
            "Requirement already satisfied: numpy in /usr/local/lib/python3.7/dist-packages (from quple) (1.19.5)\n",
            "Requirement already satisfied: cirq in /usr/local/lib/python3.7/dist-packages (from quple) (0.11.0)\n",
            "Requirement already satisfied: h5py~=2.10.0 in /usr/local/lib/python3.7/dist-packages (from tensorflow->quple) (2.10.0)\n",
            "Requirement already satisfied: termcolor~=1.1.0 in /usr/local/lib/python3.7/dist-packages (from tensorflow->quple) (1.1.0)\n",
            "Requirement already satisfied: google-pasta~=0.2 in /usr/local/lib/python3.7/dist-packages (from tensorflow->quple) (0.2.0)\n",
            "Requirement already satisfied: flatbuffers~=1.12.0 in /usr/local/lib/python3.7/dist-packages (from tensorflow->quple) (1.12)\n",
            "Requirement already satisfied: gast==0.3.3 in /usr/local/lib/python3.7/dist-packages (from tensorflow->quple) (0.3.3)\n",
            "Requirement already satisfied: tensorflow-estimator<2.5.0,>=2.4.0 in /usr/local/lib/python3.7/dist-packages (from tensorflow->quple) (2.4.0)\n",
            "Requirement already satisfied: typing-extensions~=3.7.4 in /usr/local/lib/python3.7/dist-packages (from tensorflow->quple) (3.7.4.3)\n",
            "Requirement already satisfied: grpcio~=1.32.0 in /usr/local/lib/python3.7/dist-packages (from tensorflow->quple) (1.32.0)\n",
            "Requirement already satisfied: opt-einsum~=3.3.0 in /usr/local/lib/python3.7/dist-packages (from tensorflow->quple) (3.3.0)\n",
            "Requirement already satisfied: absl-py~=0.10 in /usr/local/lib/python3.7/dist-packages (from tensorflow->quple) (0.12.0)\n",
            "Requirement already satisfied: tensorboard~=2.4 in /usr/local/lib/python3.7/dist-packages (from tensorflow->quple) (2.5.0)\n",
            "Requirement already satisfied: protobuf>=3.9.2 in /usr/local/lib/python3.7/dist-packages (from tensorflow->quple) (3.13.0)\n",
            "Requirement already satisfied: six~=1.15.0 in /usr/local/lib/python3.7/dist-packages (from tensorflow->quple) (1.15.0)\n",
            "Requirement already satisfied: wheel~=0.35 in /usr/local/lib/python3.7/dist-packages (from tensorflow->quple) (0.36.2)\n",
            "Requirement already satisfied: astunparse~=1.6.3 in /usr/local/lib/python3.7/dist-packages (from tensorflow->quple) (1.6.3)\n",
            "Requirement already satisfied: wrapt~=1.12.1 in /usr/local/lib/python3.7/dist-packages (from tensorflow->quple) (1.12.1)\n",
            "Requirement already satisfied: keras-preprocessing~=1.1.2 in /usr/local/lib/python3.7/dist-packages (from tensorflow->quple) (1.1.2)\n",
            "Requirement already satisfied: google-api-core==1.21.0 in /usr/local/lib/python3.7/dist-packages (from tensorflow-quantum->quple) (1.21.0)\n",
            "Requirement already satisfied: sympy==1.5 in /usr/local/lib/python3.7/dist-packages (from tensorflow-quantum->quple) (1.5)\n",
            "Requirement already satisfied: google-auth==1.18.0 in /usr/local/lib/python3.7/dist-packages (from tensorflow-quantum->quple) (1.18.0)\n",
            "Requirement already satisfied: googleapis-common-protos==1.52.0 in /usr/local/lib/python3.7/dist-packages (from tensorflow-quantum->quple) (1.52.0)\n",
            "Requirement already satisfied: cirq-google==0.11.0 in /usr/local/lib/python3.7/dist-packages (from cirq->quple) (0.11.0)\n",
            "Requirement already satisfied: cirq-core==0.11.0 in /usr/local/lib/python3.7/dist-packages (from cirq->quple) (0.11.0)\n",
            "Requirement already satisfied: tensorboard-plugin-wit>=1.6.0 in /usr/local/lib/python3.7/dist-packages (from tensorboard~=2.4->tensorflow->quple) (1.8.0)\n",
            "Requirement already satisfied: requests<3,>=2.21.0 in /usr/local/lib/python3.7/dist-packages (from tensorboard~=2.4->tensorflow->quple) (2.23.0)\n",
            "Requirement already satisfied: tensorboard-data-server<0.7.0,>=0.6.0 in /usr/local/lib/python3.7/dist-packages (from tensorboard~=2.4->tensorflow->quple) (0.6.1)\n",
            "Requirement already satisfied: google-auth-oauthlib<0.5,>=0.4.1 in /usr/local/lib/python3.7/dist-packages (from tensorboard~=2.4->tensorflow->quple) (0.4.4)\n",
            "Requirement already satisfied: setuptools>=41.0.0 in /usr/local/lib/python3.7/dist-packages (from tensorboard~=2.4->tensorflow->quple) (57.0.0)\n",
            "Requirement already satisfied: werkzeug>=0.11.15 in /usr/local/lib/python3.7/dist-packages (from tensorboard~=2.4->tensorflow->quple) (1.0.1)\n",
            "Requirement already satisfied: markdown>=2.6.8 in /usr/local/lib/python3.7/dist-packages (from tensorboard~=2.4->tensorflow->quple) (3.3.4)\n",
            "Requirement already satisfied: pytz in /usr/local/lib/python3.7/dist-packages (from google-api-core==1.21.0->tensorflow-quantum->quple) (2018.9)\n",
            "Requirement already satisfied: mpmath>=0.19 in /usr/local/lib/python3.7/dist-packages (from sympy==1.5->tensorflow-quantum->quple) (1.2.1)\n",
            "Requirement already satisfied: rsa<5,>=3.1.4; python_version >= \"3\" in /usr/local/lib/python3.7/dist-packages (from google-auth==1.18.0->tensorflow-quantum->quple) (4.7.2)\n",
            "Requirement already satisfied: cachetools<5.0,>=2.0.0 in /usr/local/lib/python3.7/dist-packages (from google-auth==1.18.0->tensorflow-quantum->quple) (4.2.2)\n",
            "Requirement already satisfied: pyasn1-modules>=0.2.1 in /usr/local/lib/python3.7/dist-packages (from google-auth==1.18.0->tensorflow-quantum->quple) (0.2.8)\n",
            "Requirement already satisfied: networkx~=2.4 in /usr/local/lib/python3.7/dist-packages (from cirq-core==0.11.0->cirq->quple) (2.5.1)\n",
            "Requirement already satisfied: scipy in /usr/local/lib/python3.7/dist-packages (from cirq-core==0.11.0->cirq->quple) (1.4.1)\n",
            "Requirement already satisfied: sortedcontainers~=2.0 in /usr/local/lib/python3.7/dist-packages (from cirq-core==0.11.0->cirq->quple) (2.4.0)\n",
            "Requirement already satisfied: tqdm in /usr/local/lib/python3.7/dist-packages (from cirq-core==0.11.0->cirq->quple) (4.41.1)\n",
            "Requirement already satisfied: pandas in /usr/local/lib/python3.7/dist-packages (from cirq-core==0.11.0->cirq->quple) (1.1.5)\n",
            "Requirement already satisfied: matplotlib~=3.0 in /usr/local/lib/python3.7/dist-packages (from cirq-core==0.11.0->cirq->quple) (3.2.2)\n",
            "Requirement already satisfied: certifi>=2017.4.17 in /usr/local/lib/python3.7/dist-packages (from requests<3,>=2.21.0->tensorboard~=2.4->tensorflow->quple) (2021.5.30)\n",
            "Requirement already satisfied: chardet<4,>=3.0.2 in /usr/local/lib/python3.7/dist-packages (from requests<3,>=2.21.0->tensorboard~=2.4->tensorflow->quple) (3.0.4)\n",
            "Requirement already satisfied: urllib3!=1.25.0,!=1.25.1,<1.26,>=1.21.1 in /usr/local/lib/python3.7/dist-packages (from requests<3,>=2.21.0->tensorboard~=2.4->tensorflow->quple) (1.24.3)\n",
            "Requirement already satisfied: idna<3,>=2.5 in /usr/local/lib/python3.7/dist-packages (from requests<3,>=2.21.0->tensorboard~=2.4->tensorflow->quple) (2.10)\n",
            "Requirement already satisfied: requests-oauthlib>=0.7.0 in /usr/local/lib/python3.7/dist-packages (from google-auth-oauthlib<0.5,>=0.4.1->tensorboard~=2.4->tensorflow->quple) (1.3.0)\n",
            "Requirement already satisfied: importlib-metadata; python_version < \"3.8\" in /usr/local/lib/python3.7/dist-packages (from markdown>=2.6.8->tensorboard~=2.4->tensorflow->quple) (4.6.0)\n",
            "Requirement already satisfied: pyasn1>=0.1.3 in /usr/local/lib/python3.7/dist-packages (from rsa<5,>=3.1.4; python_version >= \"3\"->google-auth==1.18.0->tensorflow-quantum->quple) (0.4.8)\n",
            "Requirement already satisfied: decorator<5,>=4.3 in /usr/local/lib/python3.7/dist-packages (from networkx~=2.4->cirq-core==0.11.0->cirq->quple) (4.4.2)\n",
            "Requirement already satisfied: python-dateutil>=2.7.3 in /usr/local/lib/python3.7/dist-packages (from pandas->cirq-core==0.11.0->cirq->quple) (2.8.1)\n",
            "Requirement already satisfied: kiwisolver>=1.0.1 in /usr/local/lib/python3.7/dist-packages (from matplotlib~=3.0->cirq-core==0.11.0->cirq->quple) (1.3.1)\n",
            "Requirement already satisfied: pyparsing!=2.0.4,!=2.1.2,!=2.1.6,>=2.0.1 in /usr/local/lib/python3.7/dist-packages (from matplotlib~=3.0->cirq-core==0.11.0->cirq->quple) (2.4.7)\n",
            "Requirement already satisfied: cycler>=0.10 in /usr/local/lib/python3.7/dist-packages (from matplotlib~=3.0->cirq-core==0.11.0->cirq->quple) (0.10.0)\n",
            "Requirement already satisfied: oauthlib>=3.0.0 in /usr/local/lib/python3.7/dist-packages (from requests-oauthlib>=0.7.0->google-auth-oauthlib<0.5,>=0.4.1->tensorboard~=2.4->tensorflow->quple) (3.1.1)\n",
            "Requirement already satisfied: zipp>=0.5 in /usr/local/lib/python3.7/dist-packages (from importlib-metadata; python_version < \"3.8\"->markdown>=2.6.8->tensorboard~=2.4->tensorflow->quple) (3.4.1)\n",
            "Installing collected packages: quple\n",
            "Successfully installed quple-0.8.1\n"
          ],
          "name": "stdout"
        }
      ]
    },
    {
      "cell_type": "code",
      "metadata": {
        "id": "KT2lxPtNPKhd"
      },
      "source": [
        "import tensorflow as tf\n",
        "import quple\n",
        "import cirq\n",
        "import time\n",
        "from quple.interface.tfq.layers.pqc import PQC"
      ],
      "execution_count": 2,
      "outputs": []
    },
    {
      "cell_type": "code",
      "metadata": {
        "id": "JxzYCFYXPZCj"
      },
      "source": [
        "feature_dimension = n_qubit = 10"
      ],
      "execution_count": 3,
      "outputs": []
    },
    {
      "cell_type": "code",
      "metadata": {
        "colab": {
          "base_uri": "https://localhost:8080/",
          "height": 357
        },
        "id": "VKj0cSBxPZ19",
        "outputId": "57e960e6-1896-447b-ca34-0246cf79d6ff"
      },
      "source": [
        "from quple.data_encoding import EncodingCircuit\n",
        "from quple import PauliBlock\n",
        "data_circuit = EncodingCircuit(feature_dimension=feature_dimension, copies=2, rotation_blocks=['H', 'RZ'], entanglement_blocks=[PauliBlock('ZZ')], entangle_strategy=\"alternate_linear\", \n",
        "                               encoding_map=\"cosine_product\",parameter_scale=1)\n",
        "data_circuit"
      ],
      "execution_count": 4,
      "outputs": [
        {
          "output_type": "execute_result",
          "data": {
            "text/html": [
              "<pre style=\"overflow: auto; white-space: pre;\">(0, 0): ───H───Rz(pi*&lt;x_0/pi&gt;)───@───────────────────────────────────@───────────────────────────────────────────────────────────────────────────────────────────────────────────────────────────────────────────────────────────────────────────────────────────────────────────────────────────────────────────────────────────────H───Rz(pi*&lt;x_0/pi&gt;)───@─────────────────────────────────────────────────@───────────────────────────────────────────────────────────────────────────────────────────────────────────────────────────────────────────────────────────────────────────────────────────────────────────────────────────────────────────────────────────────────\n",
              "                                 │                                   │                                                                                                                                                                                                                                                                                     │                                                 │\n",
              "(0, 1): ───H───Rz(pi*&lt;x_1/pi&gt;)───X───Rz(pi*&lt;cos(x_0)*cos(x_1)/pi&gt;)───X───────────────────────────────────────────────────────────────@───────────────────────────────────────────────────────────────────────────────────────────────@───────────────────────────────────────────────────────────────────────────────────────────────H───Rz(pi*&lt;x_1/pi&gt;)───X─────────────────Rz(pi*&lt;cos(x_0)*cos(x_1)/pi&gt;)───X───────────────────────────────────────────────────────────────@───────────────────────────────────────────────────────────────────────────────────────────────@───────────────────────────────────────────────────────────────────────────────────────────────────\n",
              "                                                                                                                                     │                                                                                               │                                                                                                                                                                                                                                       │                                                                                               │\n",
              "(0, 2): ───H───Rz(pi*&lt;x_2/pi&gt;)───@───────────────────────────────────────────────────────────────────@───────────────────────────────X───────────────────────────────────────────────────────────────Rz(pi*&lt;cos(x_1)*cos(x_2)/pi&gt;)───X───────────────────────────────────────────────────────────────────────────────────────────────H───Rz(pi*&lt;x_2/pi&gt;)───@─────────────────────────────────────────────────────────────────────────────────@───────────────────────────────X───────────────────────────────────────────────────────────────Rz(pi*&lt;cos(x_1)*cos(x_2)/pi&gt;)───X───────────────────────────────────────────────────────────────────────────────────────────────────\n",
              "                                 │                                                                   │                                                                                                                                                                                                                                                     │                                                                                 │\n",
              "(0, 3): ───H───Rz(pi*&lt;x_3/pi&gt;)───X───────────────────────────────────Rz(pi*&lt;cos(x_2)*cos(x_3)/pi&gt;)───X───────────────────────────────────────────────────────────────@───────────────────────────────────────────────────────────────────────────────────────────────@───────────────────────────────────────────────────────────────H───Rz(pi*&lt;x_3/pi&gt;)───X─────────────────────────────────────────────────Rz(pi*&lt;cos(x_2)*cos(x_3)/pi&gt;)───X───────────────────────────────────────────────────────────────@───────────────────────────────────────────────────────────────────────────────────────────────@───────────────────────────────────────────────────────────────────\n",
              "                                                                                                                                                                     │                                                                                               │                                                                                                                                                                                                                                       │                                                                                               │\n",
              "(0, 4): ───H───Rz(pi*&lt;x_4/pi&gt;)───@───────────────────────────────────────────────────────────────────────────────────────────────────@───────────────────────────────X───────────────────────────────────────────────────────────────Rz(pi*&lt;cos(x_3)*cos(x_4)/pi&gt;)───X───────────────────────────────────────────────────────────────H───Rz(pi*&lt;x_4/pi&gt;)───@─────────────────────────────────────────────────────────────────────────────────────────────────────────────────@───────────────────────────────X───────────────────────────────────────────────────────────────Rz(pi*&lt;cos(x_3)*cos(x_4)/pi&gt;)───X───────────────────────────────────────────────────────────────────\n",
              "                                 │                                                                                                   │                                                                                                                                                                                                                     │                                                                                                                 │\n",
              "(0, 5): ───H───Rz(pi*&lt;x_5/pi&gt;)───X───────────────────────────────────────────────────────────────────Rz(pi*&lt;cos(x_4)*cos(x_5)/pi&gt;)───X───────────────────────────────────────────────────────────────@───────────────────────────────────────────────────────────────────────────────────────────────@───────────────────────────────H───Rz(pi*&lt;x_5/pi&gt;)───X─────────────────────────────────────────────────────────────────────────────────Rz(pi*&lt;cos(x_4)*cos(x_5)/pi&gt;)───X───────────────────────────────────────────────────────────────@───────────────────────────────────────────────────────────────────────────────────────────────@───────────────────────────────────\n",
              "                                                                                                                                                                                                     │                                                                                               │                                                                                                                                                                                                                                       │                                                                                               │\n",
              "(0, 6): ───H───Rz(pi*&lt;x_6/pi&gt;)───@───────────────────────────────────────────────────────────────────────────────────────────────────────────────────────────────────@───────────────────────────────X───────────────────────────────────────────────────────────────Rz(pi*&lt;cos(x_5)*cos(x_6)/pi&gt;)───X───────────────────────────────H───Rz(pi*&lt;x_6/pi&gt;)─────────────────────@───────────────────────────────────────────────────────────────────────────────────────────────────────────────────────────────@───────────────────────────────X───────────────────────────────────────────────────────────────Rz(pi*&lt;cos(x_5)*cos(x_6)/pi&gt;)───X───────────────────────────────────\n",
              "                                 │                                                                                                                                   │                                                                                                                                                                                                       │                                                                                                                               │\n",
              "(0, 7): ───H───Rz(pi*&lt;x_7/pi&gt;)───X───────────────────────────────────────────────────────────────────────────────────────────────────Rz(pi*&lt;cos(x_6)*cos(x_7)/pi&gt;)───X───────────────────────────────────────────────────────────────@───────────────────────────────────────────────────────────────────────────────────────────────@───H─────────────────Rz(pi*&lt;x_7/pi&gt;)───X───────────────────────────────────────────────────────────────────────────────────────────────Rz(pi*&lt;cos(x_6)*cos(x_7)/pi&gt;)───X───────────────────────────────────────────────────────────────@───────────────────────────────────────────────────────────────────────────────────────────────@───\n",
              "                                                                                                                                                                                                                                     │                                                                                               │                                                                                                                                                                                                                                       │                                                                                               │\n",
              "(0, 8): ───H───Rz(pi*&lt;x_8/pi&gt;)───@───────────────────────────────────────────────────────────────────────────────────────────────────────────────────────────────────────────────────────────────────@───────────────────────────────X───────────────────────────────────────────────────────────────Rz(pi*&lt;cos(x_7)*cos(x_8)/pi&gt;)───X───H─────────────────Rz(pi*&lt;x_8/pi&gt;)───@───────────────────────────────────────────────────────────────────────────────────────────────────────────────────────────────────────────────────────────────@───────────────────────────────X───────────────────────────────────────────────────────────────Rz(pi*&lt;cos(x_7)*cos(x_8)/pi&gt;)───X───\n",
              "                                 │                                                                                                                                                                   │                                                                                                                                                                       │                                                                                                                                                               │\n",
              "(0, 9): ───H───Rz(pi*&lt;x_9/pi&gt;)───X───────────────────────────────────────────────────────────────────────────────────────────────────────────────────────────────────Rz(pi*&lt;cos(x_8)*cos(x_9)/pi&gt;)───X───────────────────────────────────────────────────────────────────────────────────────────────────────────────────────────────────H─────────────────Rz(pi*&lt;x_9/pi&gt;)───X───────────────────────────────────────────────────────────────────────────────────────────────────────────────────────────────Rz(pi*&lt;cos(x_8)*cos(x_9)/pi&gt;)───X───────────────────────────────────────────────────────────────────────────────────────────────────────────────────────────────────</pre>"
            ],
            "text/plain": [
              "(0, 0): ───H───Rz(pi*<x_0/pi>)───@───────────────────────────────────@───────────────────────────────────────────────────────────────────────────────────────────────────────────────────────────────────────────────────────────────────────────────────────────────────────────────────────────────────────────────────────────────H───Rz(pi*<x_0/pi>)───@─────────────────────────────────────────────────@───────────────────────────────────────────────────────────────────────────────────────────────────────────────────────────────────────────────────────────────────────────────────────────────────────────────────────────────────────────────────────────────────\n",
              "                                 │                                   │                                                                                                                                                                                                                                                                                     │                                                 │\n",
              "(0, 1): ───H───Rz(pi*<x_1/pi>)───X───Rz(pi*<cos(x_0)*cos(x_1)/pi>)───X───────────────────────────────────────────────────────────────@───────────────────────────────────────────────────────────────────────────────────────────────@───────────────────────────────────────────────────────────────────────────────────────────────H───Rz(pi*<x_1/pi>)───X─────────────────Rz(pi*<cos(x_0)*cos(x_1)/pi>)───X───────────────────────────────────────────────────────────────@───────────────────────────────────────────────────────────────────────────────────────────────@───────────────────────────────────────────────────────────────────────────────────────────────────\n",
              "                                                                                                                                     │                                                                                               │                                                                                                                                                                                                                                       │                                                                                               │\n",
              "(0, 2): ───H───Rz(pi*<x_2/pi>)───@───────────────────────────────────────────────────────────────────@───────────────────────────────X───────────────────────────────────────────────────────────────Rz(pi*<cos(x_1)*cos(x_2)/pi>)───X───────────────────────────────────────────────────────────────────────────────────────────────H───Rz(pi*<x_2/pi>)───@─────────────────────────────────────────────────────────────────────────────────@───────────────────────────────X───────────────────────────────────────────────────────────────Rz(pi*<cos(x_1)*cos(x_2)/pi>)───X───────────────────────────────────────────────────────────────────────────────────────────────────\n",
              "                                 │                                                                   │                                                                                                                                                                                                                                                     │                                                                                 │\n",
              "(0, 3): ───H───Rz(pi*<x_3/pi>)───X───────────────────────────────────Rz(pi*<cos(x_2)*cos(x_3)/pi>)───X───────────────────────────────────────────────────────────────@───────────────────────────────────────────────────────────────────────────────────────────────@───────────────────────────────────────────────────────────────H───Rz(pi*<x_3/pi>)───X─────────────────────────────────────────────────Rz(pi*<cos(x_2)*cos(x_3)/pi>)───X───────────────────────────────────────────────────────────────@───────────────────────────────────────────────────────────────────────────────────────────────@───────────────────────────────────────────────────────────────────\n",
              "                                                                                                                                                                     │                                                                                               │                                                                                                                                                                                                                                       │                                                                                               │\n",
              "(0, 4): ───H───Rz(pi*<x_4/pi>)───@───────────────────────────────────────────────────────────────────────────────────────────────────@───────────────────────────────X───────────────────────────────────────────────────────────────Rz(pi*<cos(x_3)*cos(x_4)/pi>)───X───────────────────────────────────────────────────────────────H───Rz(pi*<x_4/pi>)───@─────────────────────────────────────────────────────────────────────────────────────────────────────────────────@───────────────────────────────X───────────────────────────────────────────────────────────────Rz(pi*<cos(x_3)*cos(x_4)/pi>)───X───────────────────────────────────────────────────────────────────\n",
              "                                 │                                                                                                   │                                                                                                                                                                                                                     │                                                                                                                 │\n",
              "(0, 5): ───H───Rz(pi*<x_5/pi>)───X───────────────────────────────────────────────────────────────────Rz(pi*<cos(x_4)*cos(x_5)/pi>)───X───────────────────────────────────────────────────────────────@───────────────────────────────────────────────────────────────────────────────────────────────@───────────────────────────────H───Rz(pi*<x_5/pi>)───X─────────────────────────────────────────────────────────────────────────────────Rz(pi*<cos(x_4)*cos(x_5)/pi>)───X───────────────────────────────────────────────────────────────@───────────────────────────────────────────────────────────────────────────────────────────────@───────────────────────────────────\n",
              "                                                                                                                                                                                                     │                                                                                               │                                                                                                                                                                                                                                       │                                                                                               │\n",
              "(0, 6): ───H───Rz(pi*<x_6/pi>)───@───────────────────────────────────────────────────────────────────────────────────────────────────────────────────────────────────@───────────────────────────────X───────────────────────────────────────────────────────────────Rz(pi*<cos(x_5)*cos(x_6)/pi>)───X───────────────────────────────H───Rz(pi*<x_6/pi>)─────────────────────@───────────────────────────────────────────────────────────────────────────────────────────────────────────────────────────────@───────────────────────────────X───────────────────────────────────────────────────────────────Rz(pi*<cos(x_5)*cos(x_6)/pi>)───X───────────────────────────────────\n",
              "                                 │                                                                                                                                   │                                                                                                                                                                                                       │                                                                                                                               │\n",
              "(0, 7): ───H───Rz(pi*<x_7/pi>)───X───────────────────────────────────────────────────────────────────────────────────────────────────Rz(pi*<cos(x_6)*cos(x_7)/pi>)───X───────────────────────────────────────────────────────────────@───────────────────────────────────────────────────────────────────────────────────────────────@───H─────────────────Rz(pi*<x_7/pi>)───X───────────────────────────────────────────────────────────────────────────────────────────────Rz(pi*<cos(x_6)*cos(x_7)/pi>)───X───────────────────────────────────────────────────────────────@───────────────────────────────────────────────────────────────────────────────────────────────@───\n",
              "                                                                                                                                                                                                                                     │                                                                                               │                                                                                                                                                                                                                                       │                                                                                               │\n",
              "(0, 8): ───H───Rz(pi*<x_8/pi>)───@───────────────────────────────────────────────────────────────────────────────────────────────────────────────────────────────────────────────────────────────────@───────────────────────────────X───────────────────────────────────────────────────────────────Rz(pi*<cos(x_7)*cos(x_8)/pi>)───X───H─────────────────Rz(pi*<x_8/pi>)───@───────────────────────────────────────────────────────────────────────────────────────────────────────────────────────────────────────────────────────────────@───────────────────────────────X───────────────────────────────────────────────────────────────Rz(pi*<cos(x_7)*cos(x_8)/pi>)───X───\n",
              "                                 │                                                                                                                                                                   │                                                                                                                                                                       │                                                                                                                                                               │\n",
              "(0, 9): ───H───Rz(pi*<x_9/pi>)───X───────────────────────────────────────────────────────────────────────────────────────────────────────────────────────────────────Rz(pi*<cos(x_8)*cos(x_9)/pi>)───X───────────────────────────────────────────────────────────────────────────────────────────────────────────────────────────────────H─────────────────Rz(pi*<x_9/pi>)───X───────────────────────────────────────────────────────────────────────────────────────────────────────────────────────────────Rz(pi*<cos(x_8)*cos(x_9)/pi>)───X───────────────────────────────────────────────────────────────────────────────────────────────────────────────────────────────────"
            ]
          },
          "metadata": {
            "tags": []
          },
          "execution_count": 4
        }
      ]
    },
    {
      "cell_type": "code",
      "metadata": {
        "colab": {
          "base_uri": "https://localhost:8080/",
          "height": 340
        },
        "id": "oWVZ91lBPaaF",
        "outputId": "dccf2d3c-61e6-4c8a-f57d-b0dbc94dc703"
      },
      "source": [
        "from quple import ParameterisedCircuit\n",
        "model_circuit = ParameterisedCircuit(n_qubit=n_qubit, copies=2, rotation_blocks=['RZ', 'RY'], entanglement_blocks=['ZZ','XX'], entangle_strategy=\"alternate_linear\")\n",
        "model_circuit"
      ],
      "execution_count": 5,
      "outputs": [
        {
          "output_type": "execute_result",
          "data": {
            "text/html": [
              "<pre style=\"overflow: auto; white-space: pre;\">(0, 0): ───Rz(θ_0)───Ry(θ_10)───ZZ──────────────────────XX──────────Rz(θ_38)────Ry(θ_48)──────────────ZZ──────────────────────XX──────────────────────\n",
              "                                │                       │                                             │                       │\n",
              "(0, 1): ───Rz(θ_1)───Ry(θ_11)───ZZ^(θ_20)───ZZ──────────XX^(θ_29)───XX──────────Rz(θ_39)───Ry(θ_49)───ZZ^(θ_58)───ZZ──────────XX^(θ_67)───XX──────────\n",
              "                                            │                       │                                             │                       │\n",
              "(0, 2): ───Rz(θ_2)───Ry(θ_12)───ZZ──────────ZZ^(θ_25)───XX──────────XX^(θ_34)───Rz(θ_40)───Ry(θ_50)───ZZ──────────ZZ^(θ_63)───XX──────────XX^(θ_72)───\n",
              "                                │                       │                                             │                       │\n",
              "(0, 3): ───Rz(θ_3)───Ry(θ_13)───ZZ^(θ_21)───ZZ──────────XX^(θ_30)───XX──────────Rz(θ_41)───Ry(θ_51)───ZZ^(θ_59)───ZZ──────────XX^(θ_68)───XX──────────\n",
              "                                            │                       │                                             │                       │\n",
              "(0, 4): ───Rz(θ_4)───Ry(θ_14)───ZZ──────────ZZ^(θ_26)───XX──────────XX^(θ_35)───Rz(θ_42)───Ry(θ_52)───ZZ──────────ZZ^(θ_64)───XX──────────XX^(θ_73)───\n",
              "                                │                       │                                             │                       │\n",
              "(0, 5): ───Rz(θ_5)───Ry(θ_15)───ZZ^(θ_22)───ZZ──────────XX^(θ_31)───XX──────────Rz(θ_43)───Ry(θ_53)───ZZ^(θ_60)───ZZ──────────XX^(θ_69)───XX──────────\n",
              "                                            │                       │                                             │                       │\n",
              "(0, 6): ───Rz(θ_6)───Ry(θ_16)───ZZ──────────ZZ^(θ_27)───XX──────────XX^(θ_36)───Rz(θ_44)───Ry(θ_54)───ZZ──────────ZZ^(θ_65)───XX──────────XX^(θ_74)───\n",
              "                                │                       │                                             │                       │\n",
              "(0, 7): ───Rz(θ_7)───Ry(θ_17)───ZZ^(θ_23)───ZZ──────────XX^(θ_32)───XX──────────Rz(θ_45)───Ry(θ_55)───ZZ^(θ_61)───ZZ──────────XX^(θ_70)───XX──────────\n",
              "                                            │                       │                                             │                       │\n",
              "(0, 8): ───Rz(θ_8)───Ry(θ_18)───ZZ──────────ZZ^(θ_28)───XX──────────XX^(θ_37)───Rz(θ_46)───Ry(θ_56)───ZZ──────────ZZ^(θ_66)───XX──────────XX^(θ_75)───\n",
              "                                │                       │                                             │                       │\n",
              "(0, 9): ───Rz(θ_9)───Ry(θ_19)───ZZ^(θ_24)───────────────XX^(θ_33)───────────────Rz(θ_47)───Ry(θ_57)───ZZ^(θ_62)───────────────XX^(θ_71)───────────────</pre>"
            ],
            "text/plain": [
              "(0, 0): ───Rz(θ_0)───Ry(θ_10)───ZZ──────────────────────XX──────────Rz(θ_38)────Ry(θ_48)──────────────ZZ──────────────────────XX──────────────────────\n",
              "                                │                       │                                             │                       │\n",
              "(0, 1): ───Rz(θ_1)───Ry(θ_11)───ZZ^(θ_20)───ZZ──────────XX^(θ_29)───XX──────────Rz(θ_39)───Ry(θ_49)───ZZ^(θ_58)───ZZ──────────XX^(θ_67)───XX──────────\n",
              "                                            │                       │                                             │                       │\n",
              "(0, 2): ───Rz(θ_2)───Ry(θ_12)───ZZ──────────ZZ^(θ_25)───XX──────────XX^(θ_34)───Rz(θ_40)───Ry(θ_50)───ZZ──────────ZZ^(θ_63)───XX──────────XX^(θ_72)───\n",
              "                                │                       │                                             │                       │\n",
              "(0, 3): ───Rz(θ_3)───Ry(θ_13)───ZZ^(θ_21)───ZZ──────────XX^(θ_30)───XX──────────Rz(θ_41)───Ry(θ_51)───ZZ^(θ_59)───ZZ──────────XX^(θ_68)───XX──────────\n",
              "                                            │                       │                                             │                       │\n",
              "(0, 4): ───Rz(θ_4)───Ry(θ_14)───ZZ──────────ZZ^(θ_26)───XX──────────XX^(θ_35)───Rz(θ_42)───Ry(θ_52)───ZZ──────────ZZ^(θ_64)───XX──────────XX^(θ_73)───\n",
              "                                │                       │                                             │                       │\n",
              "(0, 5): ───Rz(θ_5)───Ry(θ_15)───ZZ^(θ_22)───ZZ──────────XX^(θ_31)───XX──────────Rz(θ_43)───Ry(θ_53)───ZZ^(θ_60)───ZZ──────────XX^(θ_69)───XX──────────\n",
              "                                            │                       │                                             │                       │\n",
              "(0, 6): ───Rz(θ_6)───Ry(θ_16)───ZZ──────────ZZ^(θ_27)───XX──────────XX^(θ_36)───Rz(θ_44)───Ry(θ_54)───ZZ──────────ZZ^(θ_65)───XX──────────XX^(θ_74)───\n",
              "                                │                       │                                             │                       │\n",
              "(0, 7): ───Rz(θ_7)───Ry(θ_17)───ZZ^(θ_23)───ZZ──────────XX^(θ_32)───XX──────────Rz(θ_45)───Ry(θ_55)───ZZ^(θ_61)───ZZ──────────XX^(θ_70)───XX──────────\n",
              "                                            │                       │                                             │                       │\n",
              "(0, 8): ───Rz(θ_8)───Ry(θ_18)───ZZ──────────ZZ^(θ_28)───XX──────────XX^(θ_37)───Rz(θ_46)───Ry(θ_56)───ZZ──────────ZZ^(θ_66)───XX──────────XX^(θ_75)───\n",
              "                                │                       │                                             │                       │\n",
              "(0, 9): ───Rz(θ_9)───Ry(θ_19)───ZZ^(θ_24)───────────────XX^(θ_33)───────────────Rz(θ_47)───Ry(θ_57)───ZZ^(θ_62)───────────────XX^(θ_71)───────────────"
            ]
          },
          "metadata": {
            "tags": []
          },
          "execution_count": 5
        }
      ]
    },
    {
      "cell_type": "code",
      "metadata": {
        "id": "CpE3fCXdPbN-"
      },
      "source": [
        "readout = [cirq.Z(qubit) for qubit in data_circuit.qubits]"
      ],
      "execution_count": 6,
      "outputs": []
    },
    {
      "cell_type": "code",
      "metadata": {
        "id": "su78oK7RPcFD"
      },
      "source": [
        "pqc_layer = PQC(model_circuit, data_circuit, readout)\n",
        "batchsize = 10000\n",
        "x = tf.random.normal((batchsize, feature_dimension))"
      ],
      "execution_count": 7,
      "outputs": []
    },
    {
      "cell_type": "code",
      "metadata": {
        "colab": {
          "base_uri": "https://localhost:8080/"
        },
        "id": "_oJtyiWAPcrC",
        "outputId": "aba87225-7669-4f09-e01b-7c41607d2722"
      },
      "source": [
        "start = time.time()\n",
        "y = pqc_layer(x)\n",
        "end = time.time()\n",
        "print(\"Total time taken: {}s\".format(end-start))"
      ],
      "execution_count": 8,
      "outputs": [
        {
          "output_type": "stream",
          "text": [
            "Total time taken: 33.94687843322754s\n"
          ],
          "name": "stdout"
        }
      ]
    },
    {
      "cell_type": "code",
      "metadata": {
        "id": "y9L-s15OPdTb"
      },
      "source": [
        ""
      ],
      "execution_count": null,
      "outputs": []
    }
  ]
}