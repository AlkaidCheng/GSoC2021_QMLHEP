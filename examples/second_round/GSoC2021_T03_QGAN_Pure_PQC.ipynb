{
  "nbformat": 4,
  "nbformat_minor": 5,
  "metadata": {
    "kernelspec": {
      "display_name": "Python 3",
      "language": "python",
      "name": "python3"
    },
    "language_info": {
      "codemirror_mode": {
        "name": "ipython",
        "version": 3
      },
      "file_extension": ".py",
      "mimetype": "text/x-python",
      "name": "python",
      "nbconvert_exporter": "python",
      "pygments_lexer": "ipython3",
      "version": "3.7.10"
    },
    "colab": {
      "name": "GSoC2021_T03_QGAN_Pure_PQC.ipynb",
      "provenance": [],
      "include_colab_link": true
    }
  },
  "cells": [
    {
      "cell_type": "markdown",
      "metadata": {
        "id": "view-in-github",
        "colab_type": "text"
      },
      "source": [
        "<a href=\"https://colab.research.google.com/github/AlkaidCheng/GSoC2021_QMLHEP/blob/main/examples/second_round/GSoC2021_T03_QGAN_Pure_PQC.ipynb\" target=\"_parent\"><img src=\"https://colab.research.google.com/assets/colab-badge.svg\" alt=\"Open In Colab\"/></a>"
      ]
    },
    {
      "cell_type": "code",
      "metadata": {
        "id": "08958f94"
      },
      "source": [
        "import sys\n",
        "IN_COLAB = 'google.colab' in sys.modules\n",
        "if IN_COLAB:\n",
        "    !pip install tensorflow==2.4.1\n",
        "    !pip install tensorflow-quantum\n",
        "    !pip install quple"
      ],
      "id": "08958f94",
      "execution_count": null,
      "outputs": []
    },
    {
      "cell_type": "code",
      "metadata": {
        "id": "722a7530"
      },
      "source": [
        "import os\n",
        "import glob\n",
        "import operator\n",
        "import numpy as np\n",
        "import pandas\n",
        "import h5py\n",
        "import tensorflow as tf\n",
        "import tensorflow_quantum as tfq"
      ],
      "id": "722a7530",
      "execution_count": null,
      "outputs": []
    },
    {
      "cell_type": "code",
      "metadata": {
        "id": "ee69cc2e"
      },
      "source": [
        "# for reproducibility\n",
        "tf.random.set_seed(2021)\n",
        "np.random.seed(2021) "
      ],
      "id": "ee69cc2e",
      "execution_count": null,
      "outputs": []
    },
    {
      "cell_type": "markdown",
      "metadata": {
        "id": "9546c1c8"
      },
      "source": [
        "# Section 1 - Data Preprocessing"
      ],
      "id": "9546c1c8"
    },
    {
      "cell_type": "markdown",
      "metadata": {
        "id": "3db74a54"
      },
      "source": [
        "## 1.1 Load Photon-Electron data"
      ],
      "id": "3db74a54"
    },
    {
      "cell_type": "code",
      "metadata": {
        "id": "cc86ebe5"
      },
      "source": [
        "# use the cern afs public path or your own path containing the training data\n",
        "data_dir = \"/afs/cern.ch/work/c/chlcheng/public/GSoC2021/data\"\n",
        "photon_path = os.path.join(data_dir, \"photon.hdf5\")\n",
        "electron_path = os.path.join(data_dir, \"electron.hdf5\")"
      ],
      "id": "cc86ebe5",
      "execution_count": null,
      "outputs": []
    },
    {
      "cell_type": "code",
      "metadata": {
        "id": "9cddbb96"
      },
      "source": [
        "# load photon data\n",
        "with h5py.File(photon_path, \"r\") as f:\n",
        "    px = np.asarray(f['X'][()], dtype=np.float32)[:,:,:,0]\n",
        "    py = np.asarray(f['y'][()], dtype=np.float32)\n",
        "\n",
        "# load electron data\n",
        "with h5py.File(electron_path, \"r\") as f:\n",
        "    ex = np.asarray(f['X'][()], dtype=np.float32)[:,:,:,0]\n",
        "    ey = np.asarray(f['y'][()], dtype=np.float32)"
      ],
      "id": "9cddbb96",
      "execution_count": null,
      "outputs": []
    },
    {
      "cell_type": "markdown",
      "metadata": {
        "id": "36431dbc"
      },
      "source": [
        "## 1.2 Image Visualization"
      ],
      "id": "36431dbc"
    },
    {
      "cell_type": "code",
      "metadata": {
        "id": "ea790abe"
      },
      "source": [
        "particle_label_map = {\n",
        "    0: 'photon',\n",
        "    1: 'electron'\n",
        "}\n",
        "import matplotlib.pyplot as plt\n",
        "def vitualize_image(img, labels, name=None):\n",
        "    columns = 8\n",
        "    size = img.shape[0]\n",
        "    rows = ( size // columns ) + 1\n",
        "    fig = plt.figure(figsize=(20, rows*3))\n",
        "    plt.subplots_adjust(hspace=0.3)\n",
        "    for i in range(img.shape[0]):\n",
        "        ax = fig.add_subplot(rows, columns, i+1)\n",
        "        ax.set_title('Image {}: {}'.format(i+1, particle_label_map[labels[i]]))\n",
        "        plt.imshow(img[i])\n",
        "    if name is not None:\n",
        "        plt.savefig(name, bbox_inches=\"tight\")\n",
        "    return plt"
      ],
      "id": "ea790abe",
      "execution_count": null,
      "outputs": []
    },
    {
      "cell_type": "code",
      "metadata": {
        "id": "615294aa",
        "outputId": "4b72cb8c-3049-4aba-9b7c-1a35519d58e7"
      },
      "source": [
        "# let's just visualize the photon image\n",
        "vitualize_image(px[:16], py[:16], name=\"images/raw_image_photon.pdf\")"
      ],
      "id": "615294aa",
      "execution_count": null,
      "outputs": [
        {
          "output_type": "execute_result",
          "data": {
            "text/plain": [
              "<module 'matplotlib.pyplot' from '/afs/cern.ch/work/c/chlcheng/public/local/conda/miniconda/envs/ml-base/lib/python3.7/site-packages/matplotlib/pyplot.py'>"
            ]
          },
          "metadata": {
            "tags": []
          },
          "execution_count": 7
        },
        {
          "output_type": "display_data",
          "data": {
            "image/png": "[encoded data removed]",
            "text/plain": [
              "<Figure size 1440x648 with 16 Axes>"
            ]
          },
          "metadata": {
            "tags": [],
            "needs_background": "light"
          }
        }
      ]
    },
    {
      "cell_type": "markdown",
      "metadata": {
        "id": "19fc727f"
      },
      "source": [
        "## 1.3 Prepare Training Dataset\n",
        "\n",
        "- Let's just train on the photon data first and split the data into 75% train and 25% test"
      ],
      "id": "19fc727f"
    },
    {
      "cell_type": "code",
      "metadata": {
        "id": "518bed35"
      },
      "source": [
        "from sklearn.model_selection import train_test_split\n",
        "x_train, x_test, y_train, y_test = train_test_split(px, py, train_size=0.75, test_size=0.25, random_state=2021)"
      ],
      "id": "518bed35",
      "execution_count": null,
      "outputs": []
    },
    {
      "cell_type": "markdown",
      "metadata": {
        "id": "55cc3720"
      },
      "source": [
        "## 1.4 Image Cropping\n",
        "\n",
        "Note that the image is\n",
        "1. Mostly empty except at the center\n",
        "2. All jets are centered and aligned in the same direction (horizontally)\n",
        "\n",
        "That means we can crop out the central region of the image without losing much information about the jet. And we don't need to rotate the image.\n",
        "\n",
        "So by inspection, it should be safe to **crop out the central (8x8) grid**."
      ],
      "id": "55cc3720"
    },
    {
      "cell_type": "code",
      "metadata": {
        "id": "14183192"
      },
      "source": [
        "def crop_image(img, dimension):\n",
        "    start = tuple(map(lambda a, da: a//2-da//2, img.shape, dimension))\n",
        "    end = tuple(map(operator.add, start, dimension))\n",
        "    slices = tuple(map(slice, start, end))\n",
        "    return img[slices]"
      ],
      "id": "14183192",
      "execution_count": null,
      "outputs": []
    },
    {
      "cell_type": "code",
      "metadata": {
        "id": "c5def04a"
      },
      "source": [
        "crop_size = (8, 8)\n",
        "x_train_cropped = np.array([crop_image(i, crop_size) for i in x_train])\n",
        "x_test_cropped = np.array([crop_image(i, crop_size) for i in x_test])"
      ],
      "id": "c5def04a",
      "execution_count": null,
      "outputs": []
    },
    {
      "cell_type": "code",
      "metadata": {
        "id": "0aec6185",
        "outputId": "bc2174a9-45b1-4638-b46d-f7ca459604e6"
      },
      "source": [
        "vitualize_image(x_train_cropped[:16], y_train[:16],  name=\"images/cropped_image_photon.pdf\")"
      ],
      "id": "0aec6185",
      "execution_count": null,
      "outputs": [
        {
          "output_type": "execute_result",
          "data": {
            "text/plain": [
              "<module 'matplotlib.pyplot' from '/afs/cern.ch/work/c/chlcheng/public/local/conda/miniconda/envs/ml-base/lib/python3.7/site-packages/matplotlib/pyplot.py'>"
            ]
          },
          "metadata": {
            "tags": []
          },
          "execution_count": 11
        },
        {
          "output_type": "display_data",
          "data": {
            "image/png": "[encoded data removed]",
            "text/plain": [
              "<Figure size 1440x648 with 16 Axes>"
            ]
          },
          "metadata": {
            "tags": [],
            "needs_background": "light"
          }
        }
      ]
    },
    {
      "cell_type": "markdown",
      "metadata": {
        "id": "c4452f1e"
      },
      "source": [
        "## 1.5 Image Compression\n",
        "\n",
        "Still the image size (8x8) = 64 is too large to be fed to the quantum circuit. \n",
        "\n",
        "A more reasonable size will be (4x4) = 16 which requires 16 qubits to encode the image (if we are using quantum generator, it is easiest to have 1 qubit generating 1 pixel)"
      ],
      "id": "c4452f1e"
    },
    {
      "cell_type": "code",
      "metadata": {
        "id": "9528200b"
      },
      "source": [
        "# add the color channel\n",
        "x_train_ = np.reshape(x_train_cropped, list(x_train_cropped.shape)+[1])\n",
        "x_test_ = np.reshape(x_test_cropped, list(x_test_cropped.shape)+[1])\n",
        "# here we will use the image resize function from tensorflow for compressing the image\n",
        "x_train_small = np.array([tf.image.resize(img, (4,4)).numpy() for img in x_train_])\n",
        "x_test_small = np.array([tf.image.resize(img, (4,4)).numpy() for img in x_test_])\n",
        "x_train_small = np.reshape(x_train_small, x_train_small.shape[:3])\n",
        "x_test_small = np.reshape(x_test_small, x_test_small.shape[:3])"
      ],
      "id": "9528200b",
      "execution_count": null,
      "outputs": []
    },
    {
      "cell_type": "code",
      "metadata": {
        "id": "dbb1126c",
        "outputId": "04df9e55-5f84-47b4-e0e6-119ff9a429f0"
      },
      "source": [
        "image_shape = x_train_small.shape[1:]\n",
        "image_shape"
      ],
      "id": "dbb1126c",
      "execution_count": null,
      "outputs": [
        {
          "output_type": "execute_result",
          "data": {
            "text/plain": [
              "(4, 4)"
            ]
          },
          "metadata": {
            "tags": []
          },
          "execution_count": 13
        }
      ]
    },
    {
      "cell_type": "code",
      "metadata": {
        "id": "29db25e2",
        "outputId": "40151fc7-9052-4db4-b3d3-5e1bec321f18"
      },
      "source": [
        "# let's see how the compressed images look\n",
        "vitualize_image(x_train_small[:16], y_train[:16])"
      ],
      "id": "29db25e2",
      "execution_count": null,
      "outputs": [
        {
          "output_type": "execute_result",
          "data": {
            "text/plain": [
              "<module 'matplotlib.pyplot' from '/afs/cern.ch/work/c/chlcheng/public/local/conda/miniconda/envs/ml-base/lib/python3.7/site-packages/matplotlib/pyplot.py'>"
            ]
          },
          "metadata": {
            "tags": []
          },
          "execution_count": 14
        },
        {
          "output_type": "display_data",
          "data": {
            "image/png": "[encoded data removed]",
            "text/plain": [
              "<Figure size 1440x648 with 16 Axes>"
            ]
          },
          "metadata": {
            "tags": [],
            "needs_background": "light"
          }
        }
      ]
    },
    {
      "cell_type": "markdown",
      "metadata": {
        "id": "ed31168c"
      },
      "source": [
        "## 1.6 Rescale data to the range appropriate for quantum data encoding\n",
        "\n",
        "- Usually classical data is encoded as the rotation angle of a gate operation in a quantum circuit which has a valid range of $[-\\pi,+\\pi]$. However, from past experience a smaller range will suffice and even show better performance than the valid range itself. So for this task, we will be **rescaling our data to a unit range (i.e. $[-1, +1]$)** following the range used by https://arxiv.org/abs/1906.10467. Alternatively, one may also use another common range $[0, +1]$ for example from the`tensorflow_quantum` tutorial for MNIST classification (https://www.tensorflow.org/quantum/tutorials/mnist)"
      ],
      "id": "ed31168c"
    },
    {
      "cell_type": "code",
      "metadata": {
        "id": "ced8f72d",
        "outputId": "427793b0-e132-4904-a766-ba58516d50c5"
      },
      "source": [
        "def rescale_data(*data, val_range = (0, 1.)):\n",
        "    min_value = np.min([np.min(d) for d in data])\n",
        "    max_value = np.max([np.max(d) for d in data])\n",
        "    range_min = val_range[0]\n",
        "    range_max = val_range[1]\n",
        "    rescaled_data = tuple([(((d-min_value)/(max_value-min_value))*(range_max-range_min))+range_min for d in data])\n",
        "    return rescaled_data\n",
        "x_train_rescaled, x_test_rescaled = rescale_data(x_train_small, x_test_small, val_range=(0, 1))\n",
        "x_train_final = np.reshape(x_train_rescaled, (x_train_rescaled.shape[0], 16))\n",
        "x_test_final = np.reshape(x_test_rescaled, (x_test_rescaled.shape[0], 16))"
      ],
      "id": "ced8f72d",
      "execution_count": null,
      "outputs": [
        {
          "output_type": "stream",
          "text": [
            "The history saving thread hit an unexpected error (DatabaseError('database disk image is malformed')).History will not be written to the database.\n"
          ],
          "name": "stdout"
        }
      ]
    },
    {
      "cell_type": "markdown",
      "metadata": {
        "id": "2830318e"
      },
      "source": [
        "# Section 2 - QGAN Model Building"
      ],
      "id": "2830318e"
    },
    {
      "cell_type": "code",
      "metadata": {
        "id": "ab59fa6d"
      },
      "source": [
        "# since the image has 16 pixels, we can use 16 qubits to represent each pixel\n",
        "n_qubit = feature_dimension = 16"
      ],
      "id": "ab59fa6d",
      "execution_count": null,
      "outputs": []
    },
    {
      "cell_type": "markdown",
      "metadata": {
        "id": "a50bbf0a"
      },
      "source": [
        "## 2.1 Create Data Circuit\n",
        "\n",
        "- The data circuit is responsible for encoding classical data into quantum state of a the circuit"
      ],
      "id": "a50bbf0a"
    },
    {
      "cell_type": "code",
      "metadata": {
        "id": "81837355",
        "outputId": "c4ecd850-645e-42a9-b2d9-ae08fe1fa140"
      },
      "source": [
        "from quple.data_encoding import FirstOrderPauliZEncoding\n",
        "\n",
        "# let's just try the simplest form of encoding, \n",
        "# i.e. a layer of H followed by Rz rotation with angle parameterized by the classical input\n",
        "encoding_circuit = FirstOrderPauliZEncoding(feature_dimension=feature_dimension, parameter_scale=1,\n",
        "                                            copies=2)\n",
        "encoding_circuit"
      ],
      "id": "81837355",
      "execution_count": null,
      "outputs": [
        {
          "output_type": "execute_result",
          "data": {
            "text/html": [
              "<pre style=\"overflow: auto; white-space: pre;\">(0, 0): ────H───Rz(pi*&lt;x_0/pi&gt;)────H───Rz(pi*&lt;x_0/pi&gt;)────\n",
              "\n",
              "(0, 1): ────H───Rz(pi*&lt;x_1/pi&gt;)────H───Rz(pi*&lt;x_1/pi&gt;)────\n",
              "\n",
              "(0, 2): ────H───Rz(pi*&lt;x_2/pi&gt;)────H───Rz(pi*&lt;x_2/pi&gt;)────\n",
              "\n",
              "(0, 3): ────H───Rz(pi*&lt;x_3/pi&gt;)────H───Rz(pi*&lt;x_3/pi&gt;)────\n",
              "\n",
              "(0, 4): ────H───Rz(pi*&lt;x_4/pi&gt;)────H───Rz(pi*&lt;x_4/pi&gt;)────\n",
              "\n",
              "(0, 5): ────H───Rz(pi*&lt;x_5/pi&gt;)────H───Rz(pi*&lt;x_5/pi&gt;)────\n",
              "\n",
              "(0, 6): ────H───Rz(pi*&lt;x_6/pi&gt;)────H───Rz(pi*&lt;x_6/pi&gt;)────\n",
              "\n",
              "(0, 7): ────H───Rz(pi*&lt;x_7/pi&gt;)────H───Rz(pi*&lt;x_7/pi&gt;)────\n",
              "\n",
              "(0, 8): ────H───Rz(pi*&lt;x_8/pi&gt;)────H───Rz(pi*&lt;x_8/pi&gt;)────\n",
              "\n",
              "(0, 9): ────H───Rz(pi*&lt;x_9/pi&gt;)────H───Rz(pi*&lt;x_9/pi&gt;)────\n",
              "\n",
              "(0, 10): ───H───Rz(pi*&lt;x_10/pi&gt;)───H───Rz(pi*&lt;x_10/pi&gt;)───\n",
              "\n",
              "(0, 11): ───H───Rz(pi*&lt;x_11/pi&gt;)───H───Rz(pi*&lt;x_11/pi&gt;)───\n",
              "\n",
              "(0, 12): ───H───Rz(pi*&lt;x_12/pi&gt;)───H───Rz(pi*&lt;x_12/pi&gt;)───\n",
              "\n",
              "(0, 13): ───H───Rz(pi*&lt;x_13/pi&gt;)───H───Rz(pi*&lt;x_13/pi&gt;)───\n",
              "\n",
              "(0, 14): ───H───Rz(pi*&lt;x_14/pi&gt;)───H───Rz(pi*&lt;x_14/pi&gt;)───\n",
              "\n",
              "(0, 15): ───H───Rz(pi*&lt;x_15/pi&gt;)───H───Rz(pi*&lt;x_15/pi&gt;)───</pre>"
            ],
            "text/plain": [
              "(0, 0): ────H───Rz(pi*<x_0/pi>)────H───Rz(pi*<x_0/pi>)────\n",
              "\n",
              "(0, 1): ────H───Rz(pi*<x_1/pi>)────H───Rz(pi*<x_1/pi>)────\n",
              "\n",
              "(0, 2): ────H───Rz(pi*<x_2/pi>)────H───Rz(pi*<x_2/pi>)────\n",
              "\n",
              "(0, 3): ────H───Rz(pi*<x_3/pi>)────H───Rz(pi*<x_3/pi>)────\n",
              "\n",
              "(0, 4): ────H───Rz(pi*<x_4/pi>)────H───Rz(pi*<x_4/pi>)────\n",
              "\n",
              "(0, 5): ────H───Rz(pi*<x_5/pi>)────H───Rz(pi*<x_5/pi>)────\n",
              "\n",
              "(0, 6): ────H───Rz(pi*<x_6/pi>)────H───Rz(pi*<x_6/pi>)────\n",
              "\n",
              "(0, 7): ────H───Rz(pi*<x_7/pi>)────H───Rz(pi*<x_7/pi>)────\n",
              "\n",
              "(0, 8): ────H───Rz(pi*<x_8/pi>)────H───Rz(pi*<x_8/pi>)────\n",
              "\n",
              "(0, 9): ────H───Rz(pi*<x_9/pi>)────H───Rz(pi*<x_9/pi>)────\n",
              "\n",
              "(0, 10): ───H───Rz(pi*<x_10/pi>)───H───Rz(pi*<x_10/pi>)───\n",
              "\n",
              "(0, 11): ───H───Rz(pi*<x_11/pi>)───H───Rz(pi*<x_11/pi>)───\n",
              "\n",
              "(0, 12): ───H───Rz(pi*<x_12/pi>)───H───Rz(pi*<x_12/pi>)───\n",
              "\n",
              "(0, 13): ───H───Rz(pi*<x_13/pi>)───H───Rz(pi*<x_13/pi>)───\n",
              "\n",
              "(0, 14): ───H───Rz(pi*<x_14/pi>)───H───Rz(pi*<x_14/pi>)───\n",
              "\n",
              "(0, 15): ───H───Rz(pi*<x_15/pi>)───H───Rz(pi*<x_15/pi>)───"
            ]
          },
          "metadata": {
            "tags": []
          },
          "execution_count": 62
        }
      ]
    },
    {
      "cell_type": "markdown",
      "metadata": {
        "id": "e54e5c73"
      },
      "source": [
        "## 2.2 Create Generator and Discriminator Circuit\n",
        "\n",
        "- We will use parameterised quantum circuits (PQCs) as quantum analog of a neural network\n",
        "- A PQC is made up of a series of parameterized local single-qubit rotations and two-qubit entagling operations in which the circuit parameters represent the weights of a neural network.\n",
        "- The generator circuit $\\mathbf{G}$ takes as input a random Gaussian noise vector $\\mathbf{z}$ (the set of possible values taken by $\\mathbf{z}$ is called the latent space which has the same dimension as a real data vector $\\mathbf{x}$ and outputs a fake data $\\mathbf{x}_{g}=G(\\mathbf{z})$ where $G$ denotes the transformation (i.e. the neural net) made by $\\mathbf{G}$. \n",
        "- The discriminator circuit $\\mathbf{D}$ takes independently as input the real data $\\mathbf{x}$ and the fake data $G(\\mathbf{z})$ and outputs the values $D(\\mathbf{x})$ and $D(G(\\mathbf{z}))$ where $D$ denotes the transformation made by $\\mathbf{D}$. In our case, the value of $D$ represent the probabilty of the input being true. "
      ],
      "id": "e54e5c73"
    },
    {
      "cell_type": "code",
      "metadata": {
        "id": "02668d55",
        "outputId": "3c81585b-98f6-43bd-e9bd-ba63d82dc032"
      },
      "source": [
        "from quple import ParameterisedCircuit\n",
        "# let's make a simple PQC for the generator circuit\n",
        "generator_circuit = ParameterisedCircuit(n_qubit=n_qubit, copies=2,\n",
        "                                         rotation_blocks=['RY', 'RZ'],\n",
        "                                         entanglement_blocks = ['CX'],\n",
        "                                         entangle_strategy='alternate_linear',\n",
        "                                         final_rotation_layer=True)\n",
        "generator_circuit"
      ],
      "id": "02668d55",
      "execution_count": null,
      "outputs": [
        {
          "output_type": "execute_result",
          "data": {
            "text/html": [
              "<pre style=\"overflow: auto; white-space: pre;\">(0, 0): ────Ry(θ_0)────Rz(θ_16)───@───Ry(θ_32)───Rz(θ_48)──────────────@───Ry(θ_64)───Rz(θ_80)──────────────\n",
              "                                  │                                    │\n",
              "(0, 1): ────Ry(θ_1)────Rz(θ_17)───X───@──────────Ry(θ_33)───Rz(θ_49)───X───@──────────Ry(θ_65)───Rz(θ_81)───\n",
              "                                      │                                    │\n",
              "(0, 2): ────Ry(θ_2)────Rz(θ_18)───@───X──────────Ry(θ_34)───Rz(θ_50)───@───X──────────Ry(θ_66)───Rz(θ_82)───\n",
              "                                  │                                    │\n",
              "(0, 3): ────Ry(θ_3)────Rz(θ_19)───X───@──────────Ry(θ_35)───Rz(θ_51)───X───@──────────Ry(θ_67)───Rz(θ_83)───\n",
              "                                      │                                    │\n",
              "(0, 4): ────Ry(θ_4)────Rz(θ_20)───@───X──────────Ry(θ_36)───Rz(θ_52)───@───X──────────Ry(θ_68)───Rz(θ_84)───\n",
              "                                  │                                    │\n",
              "(0, 5): ────Ry(θ_5)────Rz(θ_21)───X───@──────────Ry(θ_37)───Rz(θ_53)───X───@──────────Ry(θ_69)───Rz(θ_85)───\n",
              "                                      │                                    │\n",
              "(0, 6): ────Ry(θ_6)────Rz(θ_22)───@───X──────────Ry(θ_38)───Rz(θ_54)───@───X──────────Ry(θ_70)───Rz(θ_86)───\n",
              "                                  │                                    │\n",
              "(0, 7): ────Ry(θ_7)────Rz(θ_23)───X───@──────────Ry(θ_39)───Rz(θ_55)───X───@──────────Ry(θ_71)───Rz(θ_87)───\n",
              "                                      │                                    │\n",
              "(0, 8): ────Ry(θ_8)────Rz(θ_24)───@───X──────────Ry(θ_40)───Rz(θ_56)───@───X──────────Ry(θ_72)───Rz(θ_88)───\n",
              "                                  │                                    │\n",
              "(0, 9): ────Ry(θ_9)────Rz(θ_25)───X───@──────────Ry(θ_41)───Rz(θ_57)───X───@──────────Ry(θ_73)───Rz(θ_89)───\n",
              "                                      │                                    │\n",
              "(0, 10): ───Ry(θ_10)───Rz(θ_26)───@───X──────────Ry(θ_42)───Rz(θ_58)───@───X──────────Ry(θ_74)───Rz(θ_90)───\n",
              "                                  │                                    │\n",
              "(0, 11): ───Ry(θ_11)───Rz(θ_27)───X───@──────────Ry(θ_43)───Rz(θ_59)───X───@──────────Ry(θ_75)───Rz(θ_91)───\n",
              "                                      │                                    │\n",
              "(0, 12): ───Ry(θ_12)───Rz(θ_28)───@───X──────────Ry(θ_44)───Rz(θ_60)───@───X──────────Ry(θ_76)───Rz(θ_92)───\n",
              "                                  │                                    │\n",
              "(0, 13): ───Ry(θ_13)───Rz(θ_29)───X───@──────────Ry(θ_45)───Rz(θ_61)───X───@──────────Ry(θ_77)───Rz(θ_93)───\n",
              "                                      │                                    │\n",
              "(0, 14): ───Ry(θ_14)───Rz(θ_30)───@───X──────────Ry(θ_46)───Rz(θ_62)───@───X──────────Ry(θ_78)───Rz(θ_94)───\n",
              "                                  │                                    │\n",
              "(0, 15): ───Ry(θ_15)───Rz(θ_31)───X──────────────Ry(θ_47)───Rz(θ_63)───X──────────────Ry(θ_79)───Rz(θ_95)───</pre>"
            ],
            "text/plain": [
              "(0, 0): ────Ry(θ_0)────Rz(θ_16)───@───Ry(θ_32)───Rz(θ_48)──────────────@───Ry(θ_64)───Rz(θ_80)──────────────\n",
              "                                  │                                    │\n",
              "(0, 1): ────Ry(θ_1)────Rz(θ_17)───X───@──────────Ry(θ_33)───Rz(θ_49)───X───@──────────Ry(θ_65)───Rz(θ_81)───\n",
              "                                      │                                    │\n",
              "(0, 2): ────Ry(θ_2)────Rz(θ_18)───@───X──────────Ry(θ_34)───Rz(θ_50)───@───X──────────Ry(θ_66)───Rz(θ_82)───\n",
              "                                  │                                    │\n",
              "(0, 3): ────Ry(θ_3)────Rz(θ_19)───X───@──────────Ry(θ_35)───Rz(θ_51)───X───@──────────Ry(θ_67)───Rz(θ_83)───\n",
              "                                      │                                    │\n",
              "(0, 4): ────Ry(θ_4)────Rz(θ_20)───@───X──────────Ry(θ_36)───Rz(θ_52)───@───X──────────Ry(θ_68)───Rz(θ_84)───\n",
              "                                  │                                    │\n",
              "(0, 5): ────Ry(θ_5)────Rz(θ_21)───X───@──────────Ry(θ_37)───Rz(θ_53)───X───@──────────Ry(θ_69)───Rz(θ_85)───\n",
              "                                      │                                    │\n",
              "(0, 6): ────Ry(θ_6)────Rz(θ_22)───@───X──────────Ry(θ_38)───Rz(θ_54)───@───X──────────Ry(θ_70)───Rz(θ_86)───\n",
              "                                  │                                    │\n",
              "(0, 7): ────Ry(θ_7)────Rz(θ_23)───X───@──────────Ry(θ_39)───Rz(θ_55)───X───@──────────Ry(θ_71)───Rz(θ_87)───\n",
              "                                      │                                    │\n",
              "(0, 8): ────Ry(θ_8)────Rz(θ_24)───@───X──────────Ry(θ_40)───Rz(θ_56)───@───X──────────Ry(θ_72)───Rz(θ_88)───\n",
              "                                  │                                    │\n",
              "(0, 9): ────Ry(θ_9)────Rz(θ_25)───X───@──────────Ry(θ_41)───Rz(θ_57)───X───@──────────Ry(θ_73)───Rz(θ_89)───\n",
              "                                      │                                    │\n",
              "(0, 10): ───Ry(θ_10)───Rz(θ_26)───@───X──────────Ry(θ_42)───Rz(θ_58)───@───X──────────Ry(θ_74)───Rz(θ_90)───\n",
              "                                  │                                    │\n",
              "(0, 11): ───Ry(θ_11)───Rz(θ_27)───X───@──────────Ry(θ_43)───Rz(θ_59)───X───@──────────Ry(θ_75)───Rz(θ_91)───\n",
              "                                      │                                    │\n",
              "(0, 12): ───Ry(θ_12)───Rz(θ_28)───@───X──────────Ry(θ_44)───Rz(θ_60)───@───X──────────Ry(θ_76)───Rz(θ_92)───\n",
              "                                  │                                    │\n",
              "(0, 13): ───Ry(θ_13)───Rz(θ_29)───X───@──────────Ry(θ_45)───Rz(θ_61)───X───@──────────Ry(θ_77)───Rz(θ_93)───\n",
              "                                      │                                    │\n",
              "(0, 14): ───Ry(θ_14)───Rz(θ_30)───@───X──────────Ry(θ_46)───Rz(θ_62)───@───X──────────Ry(θ_78)───Rz(θ_94)───\n",
              "                                  │                                    │\n",
              "(0, 15): ───Ry(θ_15)───Rz(θ_31)───X──────────────Ry(θ_47)───Rz(θ_63)───X──────────────Ry(θ_79)───Rz(θ_95)───"
            ]
          },
          "metadata": {
            "tags": []
          },
          "execution_count": 63
        }
      ]
    },
    {
      "cell_type": "code",
      "metadata": {
        "id": "7d0f25b6",
        "outputId": "58faee50-b954-4c41-adf9-2d5b2a03d349"
      },
      "source": [
        "from quple import ParameterisedCircuit\n",
        "# another arbitrary pqc for discriminator circuit\n",
        "discriminator_circuit = ParameterisedCircuit(n_qubit=n_qubit, copies=2,\n",
        "                                             rotation_blocks=['RZ', 'RY'],\n",
        "                                             entanglement_blocks = ['ZZ'],\n",
        "                                             entangle_strategy='alternate_linear',\n",
        "                                             final_rotation_layer=True)\n",
        "discriminator_circuit"
      ],
      "id": "7d0f25b6",
      "execution_count": null,
      "outputs": [
        {
          "output_type": "execute_result",
          "data": {
            "text/html": [
              "<pre style=\"overflow: auto; white-space: pre;\">(0, 0): ────Rz(θ_0)────Ry(θ_16)───ZZ──────────Rz(θ_47)────Ry(θ_63)──────────────ZZ──────────Rz(θ_94)────Ry(θ_110)───────────────\n",
              "                                  │                                             │\n",
              "(0, 1): ────Rz(θ_1)────Ry(θ_17)───ZZ^(θ_32)───ZZ──────────Rz(θ_48)───Ry(θ_64)───ZZ^(θ_79)───ZZ──────────Rz(θ_95)────Ry(θ_111)───\n",
              "                                              │                                             │\n",
              "(0, 2): ────Rz(θ_2)────Ry(θ_18)───ZZ──────────ZZ^(θ_40)───Rz(θ_49)───Ry(θ_65)───ZZ──────────ZZ^(θ_87)───Rz(θ_96)────Ry(θ_112)───\n",
              "                                  │                                             │\n",
              "(0, 3): ────Rz(θ_3)────Ry(θ_19)───ZZ^(θ_33)───ZZ──────────Rz(θ_50)───Ry(θ_66)───ZZ^(θ_80)───ZZ──────────Rz(θ_97)────Ry(θ_113)───\n",
              "                                              │                                             │\n",
              "(0, 4): ────Rz(θ_4)────Ry(θ_20)───ZZ──────────ZZ^(θ_41)───Rz(θ_51)───Ry(θ_67)───ZZ──────────ZZ^(θ_88)───Rz(θ_98)────Ry(θ_114)───\n",
              "                                  │                                             │\n",
              "(0, 5): ────Rz(θ_5)────Ry(θ_21)───ZZ^(θ_34)───ZZ──────────Rz(θ_52)───Ry(θ_68)───ZZ^(θ_81)───ZZ──────────Rz(θ_99)────Ry(θ_115)───\n",
              "                                              │                                             │\n",
              "(0, 6): ────Rz(θ_6)────Ry(θ_22)───ZZ──────────ZZ^(θ_42)───Rz(θ_53)───Ry(θ_69)───ZZ──────────ZZ^(θ_89)───Rz(θ_100)───Ry(θ_116)───\n",
              "                                  │                                             │\n",
              "(0, 7): ────Rz(θ_7)────Ry(θ_23)───ZZ^(θ_35)───ZZ──────────Rz(θ_54)───Ry(θ_70)───ZZ^(θ_82)───ZZ──────────Rz(θ_101)───Ry(θ_117)───\n",
              "                                              │                                             │\n",
              "(0, 8): ────Rz(θ_8)────Ry(θ_24)───ZZ──────────ZZ^(θ_43)───Rz(θ_55)───Ry(θ_71)───ZZ──────────ZZ^(θ_90)───Rz(θ_102)───Ry(θ_118)───\n",
              "                                  │                                             │\n",
              "(0, 9): ────Rz(θ_9)────Ry(θ_25)───ZZ^(θ_36)───ZZ──────────Rz(θ_56)───Ry(θ_72)───ZZ^(θ_83)───ZZ──────────Rz(θ_103)───Ry(θ_119)───\n",
              "                                              │                                             │\n",
              "(0, 10): ───Rz(θ_10)───Ry(θ_26)───ZZ──────────ZZ^(θ_44)───Rz(θ_57)───Ry(θ_73)───ZZ──────────ZZ^(θ_91)───Rz(θ_104)───Ry(θ_120)───\n",
              "                                  │                                             │\n",
              "(0, 11): ───Rz(θ_11)───Ry(θ_27)───ZZ^(θ_37)───ZZ──────────Rz(θ_58)───Ry(θ_74)───ZZ^(θ_84)───ZZ──────────Rz(θ_105)───Ry(θ_121)───\n",
              "                                              │                                             │\n",
              "(0, 12): ───Rz(θ_12)───Ry(θ_28)───ZZ──────────ZZ^(θ_45)───Rz(θ_59)───Ry(θ_75)───ZZ──────────ZZ^(θ_92)───Rz(θ_106)───Ry(θ_122)───\n",
              "                                  │                                             │\n",
              "(0, 13): ───Rz(θ_13)───Ry(θ_29)───ZZ^(θ_38)───ZZ──────────Rz(θ_60)───Ry(θ_76)───ZZ^(θ_85)───ZZ──────────Rz(θ_107)───Ry(θ_123)───\n",
              "                                              │                                             │\n",
              "(0, 14): ───Rz(θ_14)───Ry(θ_30)───ZZ──────────ZZ^(θ_46)───Rz(θ_61)───Ry(θ_77)───ZZ──────────ZZ^(θ_93)───Rz(θ_108)───Ry(θ_124)───\n",
              "                                  │                                             │\n",
              "(0, 15): ───Rz(θ_15)───Ry(θ_31)───ZZ^(θ_39)───────────────Rz(θ_62)───Ry(θ_78)───ZZ^(θ_86)───────────────Rz(θ_109)───Ry(θ_125)───</pre>"
            ],
            "text/plain": [
              "(0, 0): ────Rz(θ_0)────Ry(θ_16)───ZZ──────────Rz(θ_47)────Ry(θ_63)──────────────ZZ──────────Rz(θ_94)────Ry(θ_110)───────────────\n",
              "                                  │                                             │\n",
              "(0, 1): ────Rz(θ_1)────Ry(θ_17)───ZZ^(θ_32)───ZZ──────────Rz(θ_48)───Ry(θ_64)───ZZ^(θ_79)───ZZ──────────Rz(θ_95)────Ry(θ_111)───\n",
              "                                              │                                             │\n",
              "(0, 2): ────Rz(θ_2)────Ry(θ_18)───ZZ──────────ZZ^(θ_40)───Rz(θ_49)───Ry(θ_65)───ZZ──────────ZZ^(θ_87)───Rz(θ_96)────Ry(θ_112)───\n",
              "                                  │                                             │\n",
              "(0, 3): ────Rz(θ_3)────Ry(θ_19)───ZZ^(θ_33)───ZZ──────────Rz(θ_50)───Ry(θ_66)───ZZ^(θ_80)───ZZ──────────Rz(θ_97)────Ry(θ_113)───\n",
              "                                              │                                             │\n",
              "(0, 4): ────Rz(θ_4)────Ry(θ_20)───ZZ──────────ZZ^(θ_41)───Rz(θ_51)───Ry(θ_67)───ZZ──────────ZZ^(θ_88)───Rz(θ_98)────Ry(θ_114)───\n",
              "                                  │                                             │\n",
              "(0, 5): ────Rz(θ_5)────Ry(θ_21)───ZZ^(θ_34)───ZZ──────────Rz(θ_52)───Ry(θ_68)───ZZ^(θ_81)───ZZ──────────Rz(θ_99)────Ry(θ_115)───\n",
              "                                              │                                             │\n",
              "(0, 6): ────Rz(θ_6)────Ry(θ_22)───ZZ──────────ZZ^(θ_42)───Rz(θ_53)───Ry(θ_69)───ZZ──────────ZZ^(θ_89)───Rz(θ_100)───Ry(θ_116)───\n",
              "                                  │                                             │\n",
              "(0, 7): ────Rz(θ_7)────Ry(θ_23)───ZZ^(θ_35)───ZZ──────────Rz(θ_54)───Ry(θ_70)───ZZ^(θ_82)───ZZ──────────Rz(θ_101)───Ry(θ_117)───\n",
              "                                              │                                             │\n",
              "(0, 8): ────Rz(θ_8)────Ry(θ_24)───ZZ──────────ZZ^(θ_43)───Rz(θ_55)───Ry(θ_71)───ZZ──────────ZZ^(θ_90)───Rz(θ_102)───Ry(θ_118)───\n",
              "                                  │                                             │\n",
              "(0, 9): ────Rz(θ_9)────Ry(θ_25)───ZZ^(θ_36)───ZZ──────────Rz(θ_56)───Ry(θ_72)───ZZ^(θ_83)───ZZ──────────Rz(θ_103)───Ry(θ_119)───\n",
              "                                              │                                             │\n",
              "(0, 10): ───Rz(θ_10)───Ry(θ_26)───ZZ──────────ZZ^(θ_44)───Rz(θ_57)───Ry(θ_73)───ZZ──────────ZZ^(θ_91)───Rz(θ_104)───Ry(θ_120)───\n",
              "                                  │                                             │\n",
              "(0, 11): ───Rz(θ_11)───Ry(θ_27)───ZZ^(θ_37)───ZZ──────────Rz(θ_58)───Ry(θ_74)───ZZ^(θ_84)───ZZ──────────Rz(θ_105)───Ry(θ_121)───\n",
              "                                              │                                             │\n",
              "(0, 12): ───Rz(θ_12)───Ry(θ_28)───ZZ──────────ZZ^(θ_45)───Rz(θ_59)───Ry(θ_75)───ZZ──────────ZZ^(θ_92)───Rz(θ_106)───Ry(θ_122)───\n",
              "                                  │                                             │\n",
              "(0, 13): ───Rz(θ_13)───Ry(θ_29)───ZZ^(θ_38)───ZZ──────────Rz(θ_60)───Ry(θ_76)───ZZ^(θ_85)───ZZ──────────Rz(θ_107)───Ry(θ_123)───\n",
              "                                              │                                             │\n",
              "(0, 14): ───Rz(θ_14)───Ry(θ_30)───ZZ──────────ZZ^(θ_46)───Rz(θ_61)───Ry(θ_77)───ZZ──────────ZZ^(θ_93)───Rz(θ_108)───Ry(θ_124)───\n",
              "                                  │                                             │\n",
              "(0, 15): ───Rz(θ_15)───Ry(θ_31)───ZZ^(θ_39)───────────────Rz(θ_62)───Ry(θ_78)───ZZ^(θ_86)───────────────Rz(θ_109)───Ry(θ_125)───"
            ]
          },
          "metadata": {
            "tags": []
          },
          "execution_count": 67
        }
      ]
    },
    {
      "cell_type": "markdown",
      "metadata": {
        "id": "1809cabe"
      },
      "source": [
        "## 2.3 Create QGAN model\n",
        "\n",
        "- I hide all the black magic for implementing this QGAN class\n",
        "- You may check the source code to see how it is implemented"
      ],
      "id": "1809cabe"
    },
    {
      "cell_type": "code",
      "metadata": {
        "id": "2d74d8cb",
        "outputId": "5a7ecc3b-473f-4652-b306-34aa1d4045b9"
      },
      "source": [
        "from quple.models import QGAN\n",
        "qgan = QGAN(generator_circuit, discriminator_circuit, encoding_circuit=encoding_circuit,\n",
        "            epochs=50, d_lr=1e-3, g_lr=2e-3, random_state=2021, batch_size=16,\n",
        "            checkpoint_interval=10,\n",
        "            checkpoint_dir=\"./training_checkpoints/qgan_pure_pqc/\")"
      ],
      "id": "2d74d8cb",
      "execution_count": null,
      "outputs": [
        {
          "output_type": "stream",
          "text": [
            "Summary of Generator\n",
            "Model: \"sequential_22\"\n",
            "_________________________________________________________________\n",
            "Layer (type)                 Output Shape              Param #   \n",
            "=================================================================\n",
            "pqc_22 (PQC)                 (None, 16)                96        \n",
            "=================================================================\n",
            "Total params: 96\n",
            "Trainable params: 96\n",
            "Non-trainable params: 0\n",
            "_________________________________________________________________\n",
            "Summary of Discriminator\n",
            "Model: \"sequential_23\"\n",
            "_________________________________________________________________\n",
            "Layer (type)                 Output Shape              Param #   \n",
            "=================================================================\n",
            "pqc_23 (PQC)                 (None, 1)                 126       \n",
            "=================================================================\n",
            "Total params: 126\n",
            "Trainable params: 126\n",
            "Non-trainable params: 0\n",
            "_________________________________________________________________\n"
          ],
          "name": "stdout"
        }
      ]
    },
    {
      "cell_type": "code",
      "metadata": {
        "id": "6583a29b"
      },
      "source": [
        "# enable interactive visualization\n",
        "qgan.enable_visualization(image_shape, n_image=16)"
      ],
      "id": "6583a29b",
      "execution_count": null,
      "outputs": []
    },
    {
      "cell_type": "markdown",
      "metadata": {
        "id": "f7632c9c"
      },
      "source": [
        "## 2.4 Begin Training\n",
        "\n",
        "- For the sake of time, use 200 samples only"
      ],
      "id": "f7632c9c"
    },
    {
      "cell_type": "code",
      "metadata": {
        "id": "7097b5dd",
        "outputId": "c3d580d1-8aa9-4452-af08-e803ea88e0a7"
      },
      "source": [
        "g_loss, d_loss = qgan.train(x_train_final[2021:2221])"
      ],
      "id": "7097b5dd",
      "execution_count": null,
      "outputs": [
        {
          "output_type": "display_data",
          "data": {
            "image/png": "[encoded data removed]",
            "text/plain": [
              "<Figure size 1152x648 with 17 Axes>"
            ]
          },
          "metadata": {
            "tags": [],
            "needs_background": "light"
          }
        }
      ]
    },
    {
      "cell_type": "code",
      "metadata": {
        "id": "4ed6de7d"
      },
      "source": [
        ""
      ],
      "id": "4ed6de7d",
      "execution_count": null,
      "outputs": []
    },
    {
      "cell_type": "code",
      "metadata": {
        "id": "4db19abb"
      },
      "source": [
        ""
      ],
      "id": "4db19abb",
      "execution_count": null,
      "outputs": []
    }
  ]
}