{
  "nbformat": 4,
  "nbformat_minor": 5,
  "metadata": {
    "kernelspec": {
      "display_name": "Python 3",
      "language": "python",
      "name": "python3"
    },
    "language_info": {
      "codemirror_mode": {
        "name": "ipython",
        "version": 3
      },
      "file_extension": ".py",
      "mimetype": "text/x-python",
      "name": "python",
      "nbconvert_exporter": "python",
      "pygments_lexer": "ipython3",
      "version": "3.7.10"
    },
    "colab": {
      "name": "GSoC2021-T02-QGAN-with-QCNN.ipynb",
      "provenance": [],
      "include_colab_link": true
    }
  },
  "cells": [
    {
      "cell_type": "markdown",
      "metadata": {
        "id": "view-in-github",
        "colab_type": "text"
      },
      "source": [
        "<a href=\"https://colab.research.google.com/github/AlkaidCheng/GSoC2021_QMLHEP/blob/main/examples/GSoC2021_T02_QGAN_with_QCNN.ipynb\" target=\"_parent\"><img src=\"https://colab.research.google.com/assets/colab-badge.svg\" alt=\"Open In Colab\"/></a>"
      ]
    },
    {
      "cell_type": "code",
      "metadata": {
        "id": "13rxe3B4vcvC",
        "outputId": "c18c259a-ad22-4009-9c9f-3b4a3035a7e0",
        "colab": {
          "base_uri": "https://localhost:8080/"
        }
      },
      "source": [
        "!pip install tensorflow==2.4.1\n",
        "!pip install tensorflow-quantum\n",
        "!pip install quple"
      ],
      "id": "13rxe3B4vcvC",
      "execution_count": null,
      "outputs": [
        {
          "output_type": "stream",
          "text": [
            "Collecting tensorflow==2.4.1\n",
            "\u001b[?25l  Downloading https://files.pythonhosted.org/packages/70/dc/e8c5e7983866fa4ef3fd619faa35f660b95b01a2ab62b3884f038ccab542/tensorflow-2.4.1-cp37-cp37m-manylinux2010_x86_64.whl (394.3MB)\n",
            "\u001b[K     |████████████████████████████████| 394.3MB 34kB/s \n"
          ],
          "name": "stdout"
        }
      ]
    },
    {
      "cell_type": "code",
      "metadata": {
        "id": "prerequisite-yellow"
      },
      "source": [
        "import os\n",
        "import glob\n",
        "import operator\n",
        "import numpy as np\n",
        "import pandas\n",
        "import h5py\n",
        "import tensorflow as tf\n",
        "import tensorflow_quantum as tfq"
      ],
      "id": "prerequisite-yellow",
      "execution_count": null,
      "outputs": []
    },
    {
      "cell_type": "code",
      "metadata": {
        "id": "rough-killing"
      },
      "source": [
        "# for reproducibility\n",
        "tf.random.set_seed(2021)\n",
        "np.random.seed(2021) "
      ],
      "id": "rough-killing",
      "execution_count": null,
      "outputs": []
    },
    {
      "cell_type": "markdown",
      "metadata": {
        "id": "working-protection"
      },
      "source": [
        "# Section 1 - Data Preprocessing"
      ],
      "id": "working-protection"
    },
    {
      "cell_type": "markdown",
      "metadata": {
        "id": "suffering-acceptance"
      },
      "source": [
        "## 1.1 Load Photon-Electron data"
      ],
      "id": "suffering-acceptance"
    },
    {
      "cell_type": "code",
      "metadata": {
        "id": "sexual-coordination"
      },
      "source": [
        "# use the cern afs public path or your own path containing the training data\n",
        "data_dir = \"/afs/cern.ch/work/c/chlcheng/public/GSoC2021/data\"\n",
        "photon_path = os.path.join(data_dir, \"photon.hdf5\")\n",
        "electron_path = os.path.join(data_dir, \"electron.hdf5\")"
      ],
      "id": "sexual-coordination",
      "execution_count": null,
      "outputs": []
    },
    {
      "cell_type": "code",
      "metadata": {
        "id": "vertical-chess"
      },
      "source": [
        "# load photon data\n",
        "with h5py.File(photon_path, \"r\") as f:\n",
        "    px = np.asarray(f['X'][()], dtype=np.float32)[:,:,:,0]\n",
        "    py = np.asarray(f['y'][()], dtype=np.float32)\n",
        "\n",
        "# load electron data\n",
        "with h5py.File(electron_path, \"r\") as f:\n",
        "    ex = np.asarray(f['X'][()], dtype=np.float32)[:,:,:,0]\n",
        "    ey = np.asarray(f['y'][()], dtype=np.float32)"
      ],
      "id": "vertical-chess",
      "execution_count": null,
      "outputs": []
    },
    {
      "cell_type": "markdown",
      "metadata": {
        "id": "proud-amendment"
      },
      "source": [
        "## 1.2 Image Visualization"
      ],
      "id": "proud-amendment"
    },
    {
      "cell_type": "code",
      "metadata": {
        "id": "compound-certification"
      },
      "source": [
        "particle_label_map = {\n",
        "    0: 'photon',\n",
        "    1: 'electron'\n",
        "}\n",
        "import matplotlib.pyplot as plt\n",
        "def vitualize_image(img, labels, name=None):\n",
        "    columns = 8\n",
        "    size = img.shape[0]\n",
        "    rows = ( size // columns ) + 1\n",
        "    fig = plt.figure(figsize=(20, rows*3))\n",
        "    plt.subplots_adjust(hspace=0.3)\n",
        "    for i in range(img.shape[0]):\n",
        "        ax = fig.add_subplot(rows, columns, i+1)\n",
        "        ax.set_title('Image {}: {}'.format(i+1, particle_label_map[labels[i]]))\n",
        "        plt.imshow(img[i])\n",
        "    if name is not None:\n",
        "        plt.savefig(name, bbox_inches=\"tight\")\n",
        "    return plt"
      ],
      "id": "compound-certification",
      "execution_count": null,
      "outputs": []
    },
    {
      "cell_type": "code",
      "metadata": {
        "id": "white-sugar",
        "outputId": "f1c933c2-cf3a-4b27-b75c-a149eca081f9"
      },
      "source": [
        "# let's just visualize the photon image\n",
        "vitualize_image(px[:16], py[:16], name=\"images/cnn_raw_image_photon.pdf\")"
      ],
      "id": "white-sugar",
      "execution_count": null,
      "outputs": [
        {
          "output_type": "execute_result",
          "data": {
            "text/plain": [
              "<module 'matplotlib.pyplot' from '/afs/cern.ch/work/c/chlcheng/public/local/conda/miniconda/envs/ml-base/lib/python3.7/site-packages/matplotlib/pyplot.py'>"
            ]
          },
          "metadata": {
            "tags": []
          },
          "execution_count": 6
        },
        {
          "output_type": "display_data",
          "data": {
            "image/png": "[encoded data removed]",
            "text/plain": [
              "<Figure size 1440x648 with 16 Axes>"
            ]
          },
          "metadata": {
            "tags": [],
            "needs_background": "light"
          }
        }
      ]
    },
    {
      "cell_type": "markdown",
      "metadata": {
        "id": "promotional-capacity"
      },
      "source": [
        "## 1.3 Prepare Training Dataset\n",
        "\n",
        "- Let's just train on the photon data first and split the data into 75% train and 25% test"
      ],
      "id": "promotional-capacity"
    },
    {
      "cell_type": "code",
      "metadata": {
        "id": "lovely-stations"
      },
      "source": [
        "from sklearn.model_selection import train_test_split\n",
        "x_train, x_test, y_train, y_test = train_test_split(px, py, train_size=0.75, test_size=0.25, random_state=2021)"
      ],
      "id": "lovely-stations",
      "execution_count": null,
      "outputs": []
    },
    {
      "cell_type": "markdown",
      "metadata": {
        "id": "damaged-dutch"
      },
      "source": [
        "## 1.4 Image Cropping\n",
        "\n",
        "Note that the image is\n",
        "1. Mostly empty except at the center\n",
        "2. All jets are centered and aligned in the same direction (horizontally)\n",
        "\n",
        "That means we can crop out the central region of the image without losing much information about the jet. And we don't need to rotate the image.\n",
        "\n",
        "So by inspection, it should be safe to **crop out the central (8x8) grid**."
      ],
      "id": "damaged-dutch"
    },
    {
      "cell_type": "code",
      "metadata": {
        "id": "eastern-prefix"
      },
      "source": [
        "def crop_image(img, dimension):\n",
        "    start = tuple(map(lambda a, da: a//2-da//2, img.shape, dimension))\n",
        "    end = tuple(map(operator.add, start, dimension))\n",
        "    slices = tuple(map(slice, start, end))\n",
        "    return img[slices]"
      ],
      "id": "eastern-prefix",
      "execution_count": null,
      "outputs": []
    },
    {
      "cell_type": "code",
      "metadata": {
        "id": "combined-hierarchy"
      },
      "source": [
        "crop_size = (8, 8)\n",
        "x_train_cropped = np.array([crop_image(i, crop_size) for i in x_train])\n",
        "x_test_cropped = np.array([crop_image(i, crop_size) for i in x_test])"
      ],
      "id": "combined-hierarchy",
      "execution_count": null,
      "outputs": []
    },
    {
      "cell_type": "code",
      "metadata": {
        "id": "random-commissioner",
        "outputId": "dec5a045-fb63-41ba-8a51-8bd87f9feb49"
      },
      "source": [
        "vitualize_image(x_train_cropped[:16], y_train[:16],  name=\"images/cnn_cropped_image_photon.pdf\")"
      ],
      "id": "random-commissioner",
      "execution_count": null,
      "outputs": [
        {
          "output_type": "execute_result",
          "data": {
            "text/plain": [
              "<module 'matplotlib.pyplot' from '/afs/cern.ch/work/c/chlcheng/public/local/conda/miniconda/envs/ml-base/lib/python3.7/site-packages/matplotlib/pyplot.py'>"
            ]
          },
          "metadata": {
            "tags": []
          },
          "execution_count": 10
        },
        {
          "output_type": "display_data",
          "data": {
            "image/png": "[encoded data removed]",
            "text/plain": [
              "<Figure size 1440x648 with 16 Axes>"
            ]
          },
          "metadata": {
            "tags": [],
            "needs_background": "light"
          }
        }
      ]
    },
    {
      "cell_type": "markdown",
      "metadata": {
        "id": "stock-operator"
      },
      "source": [
        "## 1.6 Rescale data to the range appropriate for quantum data encoding\n",
        "\n",
        "- Usually classical data is encoded as the rotation angle of a gate operation in a quantum circuit which has a valid range of $[-\\pi,+\\pi]$. However, from past experience a smaller range will suffice and even show better performance than the valid range itself. So for this task, we will be **rescaling our data to a unit range (i.e. $[0, +1]$)** following the range used by  the`tensorflow_quantum` tutorial for MNIST classification (https://www.tensorflow.org/quantum/tutorials/mnist). Alternative, one may also use another common range $[-1, +1]$ for example from https://arxiv.org/abs/1906.10467."
      ],
      "id": "stock-operator"
    },
    {
      "cell_type": "code",
      "metadata": {
        "id": "accepting-shield"
      },
      "source": [
        "def rescale_data(*data, val_range = (0, 1.)):\n",
        "    min_value = np.min([np.min(d) for d in data])\n",
        "    max_value = np.max([np.max(d) for d in data])\n",
        "    range_min = val_range[0]\n",
        "    range_max = val_range[1]\n",
        "    rescaled_data = tuple([(((d-min_value)/(max_value-min_value))*(range_max-range_min))+range_min for d in data])\n",
        "    return rescaled_data\n",
        "x_train_rescaled, x_test_rescaled = rescale_data(x_train_cropped, x_test_cropped, val_range=(0, 1))"
      ],
      "id": "accepting-shield",
      "execution_count": null,
      "outputs": []
    },
    {
      "cell_type": "code",
      "metadata": {
        "id": "hired-alert",
        "outputId": "68d34ba6-bff3-4da1-e076-16f1acd88c59"
      },
      "source": [
        "vitualize_image(x_train_rescaled[:16], y_train[:16],  name=\"images/cnn_rescaled_image_photon.pdf\")"
      ],
      "id": "hired-alert",
      "execution_count": null,
      "outputs": [
        {
          "output_type": "execute_result",
          "data": {
            "text/plain": [
              "<module 'matplotlib.pyplot' from '/afs/cern.ch/work/c/chlcheng/public/local/conda/miniconda/envs/ml-base/lib/python3.7/site-packages/matplotlib/pyplot.py'>"
            ]
          },
          "metadata": {
            "tags": []
          },
          "execution_count": 12
        },
        {
          "output_type": "display_data",
          "data": {
            "image/png": "[encoded data removed]",
            "text/plain": [
              "<Figure size 1440x648 with 16 Axes>"
            ]
          },
          "metadata": {
            "tags": [],
            "needs_background": "light"
          }
        }
      ]
    },
    {
      "cell_type": "code",
      "metadata": {
        "id": "whole-mouth",
        "outputId": "2a533cc2-6ca8-46d6-bf92-0ff2661959a5"
      },
      "source": [
        "image_shape = x_train_rescaled.shape[1:]\n",
        "image_shape"
      ],
      "id": "whole-mouth",
      "execution_count": null,
      "outputs": [
        {
          "output_type": "execute_result",
          "data": {
            "text/plain": [
              "(8, 8)"
            ]
          },
          "metadata": {
            "tags": []
          },
          "execution_count": 13
        }
      ]
    },
    {
      "cell_type": "markdown",
      "metadata": {
        "id": "prompt-equipment"
      },
      "source": [
        "# Section 2 - QGAN with Classical Generator and QCNN Discriminator"
      ],
      "id": "prompt-equipment"
    },
    {
      "cell_type": "markdown",
      "metadata": {
        "id": "awful-jacket"
      },
      "source": [
        "## 2.1 Create classical generator model"
      ],
      "id": "awful-jacket"
    },
    {
      "cell_type": "code",
      "metadata": {
        "id": "hybrid-championship"
      },
      "source": [
        "def create_classical_generator():\n",
        "    model = tf.keras.Sequential()\n",
        "    # foundation for 2x2 image\n",
        "    n_nodes = 32 * 2 * 2\n",
        "    model.add(tf.keras.layers.Dense(n_nodes, use_bias=False, input_shape=(100,)))\n",
        "    model.add(tf.keras.layers.BatchNormalization())\n",
        "    model.add(tf.keras.layers.LeakyReLU())\n",
        "    model.add(tf.keras.layers.Reshape((2, 2, 32)))\n",
        "\n",
        "    model.add(tf.keras.layers.Conv2DTranspose(32, (2,2), strides=(1,1), padding=\"same\", use_bias=False))\n",
        "    model.add(tf.keras.layers.BatchNormalization())\n",
        "    model.add(tf.keras.layers.LeakyReLU())\n",
        "    # upsample to 4x4\n",
        "    model.add(tf.keras.layers.Conv2DTranspose(16, (2,2), strides=(2,2), padding=\"same\", use_bias=False))\n",
        "    model.add(tf.keras.layers.BatchNormalization())\n",
        "    model.add(tf.keras.layers.LeakyReLU())    \n",
        "    # upsample to 8x8\n",
        "    model.add(tf.keras.layers.Conv2DTranspose(1, (3,3), strides=(2,2), padding=\"same\", use_bias=False, activation='tanh'))\n",
        "    model.add(tf.keras.layers.Reshape((8, 8)))\n",
        "    return model"
      ],
      "id": "hybrid-championship",
      "execution_count": null,
      "outputs": []
    },
    {
      "cell_type": "code",
      "metadata": {
        "id": "alternate-electron"
      },
      "source": [
        "classical_generator = create_classical_generator()"
      ],
      "id": "alternate-electron",
      "execution_count": null,
      "outputs": []
    },
    {
      "cell_type": "markdown",
      "metadata": {
        "id": "thick-punishment"
      },
      "source": [
        "## 2.2 Create QCNN discriminator\n",
        "\n",
        "- We will use a 3x3 quantum filter in terms of a 9 qubit PQC"
      ],
      "id": "thick-punishment"
    },
    {
      "cell_type": "code",
      "metadata": {
        "id": "fewer-uganda"
      },
      "source": [
        "n_qubit = feature_dimension = 9"
      ],
      "id": "fewer-uganda",
      "execution_count": null,
      "outputs": []
    },
    {
      "cell_type": "markdown",
      "metadata": {
        "id": "insured-landscape"
      },
      "source": [
        "### Data Encoding Circuit for the 3 x 3 data window\n",
        "\n",
        "- Just some normal circuit choice taken from the QSVM paper I involved in\n",
        "- qubit (0, 0) represents top left pixel and qubit (0, 9) represents bottom right pixel"
      ],
      "id": "insured-landscape"
    },
    {
      "cell_type": "code",
      "metadata": {
        "id": "vital-catalyst",
        "outputId": "c90519ce-4024-49e7-b91f-08a20c5369ea"
      },
      "source": [
        "## deprecated\n",
        "#from quple.data_encoding import  EncodingCircuit\n",
        "#from quple import PauliBlock\n",
        "#from quple.data_encoding import polynomial\n",
        "#degree = 3\n",
        "\n",
        "from quple.data_encoding import FirstOrderPauliZEncoding\n",
        "# create a data circuit for encoding the 3x3 data window\n",
        "'''\n",
        "data_circuit = EncodingCircuit(feature_dimension=n_qubit, \n",
        "                                copies=2,\n",
        "                                rotation_blocks=['H',PauliBlock('Z', polynomial(1)),\n",
        "                                                   PauliBlock('Y',polynomial(degree))],\n",
        "                                entanglement_blocks=[PauliBlock('ZZ',polynomial(degree))],\n",
        "                                entangle_strategy='alternate_linear')\n",
        "'''\n",
        "data_circuit = FirstOrderPauliZEncoding(feature_dimension=n_qubit, copies=2, parameter_scale=1)\n",
        "data_circuit"
      ],
      "id": "vital-catalyst",
      "execution_count": null,
      "outputs": [
        {
          "output_type": "execute_result",
          "data": {
            "text/html": [
              "<pre style=\"overflow: auto; white-space: pre;\">(0, 0): ───H───Rz(pi*&lt;x_0/pi&gt;)───H───Rz(pi*&lt;x_0/pi&gt;)───\n",
              "\n",
              "(0, 1): ───H───Rz(pi*&lt;x_1/pi&gt;)───H───Rz(pi*&lt;x_1/pi&gt;)───\n",
              "\n",
              "(0, 2): ───H───Rz(pi*&lt;x_2/pi&gt;)───H───Rz(pi*&lt;x_2/pi&gt;)───\n",
              "\n",
              "(0, 3): ───H───Rz(pi*&lt;x_3/pi&gt;)───H───Rz(pi*&lt;x_3/pi&gt;)───\n",
              "\n",
              "(0, 4): ───H───Rz(pi*&lt;x_4/pi&gt;)───H───Rz(pi*&lt;x_4/pi&gt;)───\n",
              "\n",
              "(0, 5): ───H───Rz(pi*&lt;x_5/pi&gt;)───H───Rz(pi*&lt;x_5/pi&gt;)───\n",
              "\n",
              "(0, 6): ───H───Rz(pi*&lt;x_6/pi&gt;)───H───Rz(pi*&lt;x_6/pi&gt;)───\n",
              "\n",
              "(0, 7): ───H───Rz(pi*&lt;x_7/pi&gt;)───H───Rz(pi*&lt;x_7/pi&gt;)───\n",
              "\n",
              "(0, 8): ───H───Rz(pi*&lt;x_8/pi&gt;)───H───Rz(pi*&lt;x_8/pi&gt;)───</pre>"
            ],
            "text/plain": [
              "(0, 0): ───H───Rz(pi*<x_0/pi>)───H───Rz(pi*<x_0/pi>)───\n",
              "\n",
              "(0, 1): ───H───Rz(pi*<x_1/pi>)───H───Rz(pi*<x_1/pi>)───\n",
              "\n",
              "(0, 2): ───H───Rz(pi*<x_2/pi>)───H───Rz(pi*<x_2/pi>)───\n",
              "\n",
              "(0, 3): ───H───Rz(pi*<x_3/pi>)───H───Rz(pi*<x_3/pi>)───\n",
              "\n",
              "(0, 4): ───H───Rz(pi*<x_4/pi>)───H───Rz(pi*<x_4/pi>)───\n",
              "\n",
              "(0, 5): ───H───Rz(pi*<x_5/pi>)───H───Rz(pi*<x_5/pi>)───\n",
              "\n",
              "(0, 6): ───H───Rz(pi*<x_6/pi>)───H───Rz(pi*<x_6/pi>)───\n",
              "\n",
              "(0, 7): ───H───Rz(pi*<x_7/pi>)───H───Rz(pi*<x_7/pi>)───\n",
              "\n",
              "(0, 8): ───H───Rz(pi*<x_8/pi>)───H───Rz(pi*<x_8/pi>)───"
            ]
          },
          "metadata": {
            "tags": []
          },
          "execution_count": 69
        }
      ]
    },
    {
      "cell_type": "markdown",
      "metadata": {
        "id": "scheduled-double"
      },
      "source": [
        "### Kernel Circuit for the Quantum Filter\n",
        "\n",
        "- Just some random 3x3 = 9 qubit PQC with entanglement"
      ],
      "id": "scheduled-double"
    },
    {
      "cell_type": "code",
      "metadata": {
        "id": "missing-carrier"
      },
      "source": [
        "from quple import ParameterisedCircuit"
      ],
      "id": "missing-carrier",
      "execution_count": null,
      "outputs": []
    },
    {
      "cell_type": "code",
      "metadata": {
        "id": "brief-ministry",
        "outputId": "44e2ed0e-213e-499e-b4ad-8521935eafb9"
      },
      "source": [
        "kernel_circuit = ParameterisedCircuit(n_qubit=n_qubit, copies=3, \n",
        "                                      rotation_blocks=[\"RZ\", \"RY\"],\n",
        "                                      entanglement_blocks=[\"XX\"],\n",
        "                                      entangle_strategy=\"alternate_linear\")\n",
        "kernel_circuit"
      ],
      "id": "brief-ministry",
      "execution_count": null,
      "outputs": [
        {
          "output_type": "execute_result",
          "data": {
            "text/html": [
              "<pre style=\"overflow: auto; white-space: pre;\">(0, 0): ───Rz(θ_0)───Ry(θ_9)────XX──────────Rz(θ_26)────Ry(θ_35)──────────────XX──────────Rz(θ_52)────Ry(θ_61)──────────────XX──────────────────────\n",
              "                                │                                             │                                             │\n",
              "(0, 1): ───Rz(θ_1)───Ry(θ_10)───XX^(θ_18)───XX──────────Rz(θ_27)───Ry(θ_36)───XX^(θ_44)───XX──────────Rz(θ_53)───Ry(θ_62)───XX^(θ_70)───XX──────────\n",
              "                                            │                                             │                                             │\n",
              "(0, 2): ───Rz(θ_2)───Ry(θ_11)───XX──────────XX^(θ_22)───Rz(θ_28)───Ry(θ_37)───XX──────────XX^(θ_48)───Rz(θ_54)───Ry(θ_63)───XX──────────XX^(θ_74)───\n",
              "                                │                                             │                                             │\n",
              "(0, 3): ───Rz(θ_3)───Ry(θ_12)───XX^(θ_19)───XX──────────Rz(θ_29)───Ry(θ_38)───XX^(θ_45)───XX──────────Rz(θ_55)───Ry(θ_64)───XX^(θ_71)───XX──────────\n",
              "                                            │                                             │                                             │\n",
              "(0, 4): ───Rz(θ_4)───Ry(θ_13)───XX──────────XX^(θ_23)───Rz(θ_30)───Ry(θ_39)───XX──────────XX^(θ_49)───Rz(θ_56)───Ry(θ_65)───XX──────────XX^(θ_75)───\n",
              "                                │                                             │                                             │\n",
              "(0, 5): ───Rz(θ_5)───Ry(θ_14)───XX^(θ_20)───XX──────────Rz(θ_31)───Ry(θ_40)───XX^(θ_46)───XX──────────Rz(θ_57)───Ry(θ_66)───XX^(θ_72)───XX──────────\n",
              "                                            │                                             │                                             │\n",
              "(0, 6): ───Rz(θ_6)───Ry(θ_15)───XX──────────XX^(θ_24)───Rz(θ_32)───Ry(θ_41)───XX──────────XX^(θ_50)───Rz(θ_58)───Ry(θ_67)───XX──────────XX^(θ_76)───\n",
              "                                │                                             │                                             │\n",
              "(0, 7): ───Rz(θ_7)───Ry(θ_16)───XX^(θ_21)───XX──────────Rz(θ_33)───Ry(θ_42)───XX^(θ_47)───XX──────────Rz(θ_59)───Ry(θ_68)───XX^(θ_73)───XX──────────\n",
              "                                            │                                             │                                             │\n",
              "(0, 8): ───Rz(θ_8)───Ry(θ_17)───────────────XX^(θ_25)───Rz(θ_34)───Ry(θ_43)───────────────XX^(θ_51)───Rz(θ_60)───Ry(θ_69)───────────────XX^(θ_77)───</pre>"
            ],
            "text/plain": [
              "(0, 0): ───Rz(θ_0)───Ry(θ_9)────XX──────────Rz(θ_26)────Ry(θ_35)──────────────XX──────────Rz(θ_52)────Ry(θ_61)──────────────XX──────────────────────\n",
              "                                │                                             │                                             │\n",
              "(0, 1): ───Rz(θ_1)───Ry(θ_10)───XX^(θ_18)───XX──────────Rz(θ_27)───Ry(θ_36)───XX^(θ_44)───XX──────────Rz(θ_53)───Ry(θ_62)───XX^(θ_70)───XX──────────\n",
              "                                            │                                             │                                             │\n",
              "(0, 2): ───Rz(θ_2)───Ry(θ_11)───XX──────────XX^(θ_22)───Rz(θ_28)───Ry(θ_37)───XX──────────XX^(θ_48)───Rz(θ_54)───Ry(θ_63)───XX──────────XX^(θ_74)───\n",
              "                                │                                             │                                             │\n",
              "(0, 3): ───Rz(θ_3)───Ry(θ_12)───XX^(θ_19)───XX──────────Rz(θ_29)───Ry(θ_38)───XX^(θ_45)───XX──────────Rz(θ_55)───Ry(θ_64)───XX^(θ_71)───XX──────────\n",
              "                                            │                                             │                                             │\n",
              "(0, 4): ───Rz(θ_4)───Ry(θ_13)───XX──────────XX^(θ_23)───Rz(θ_30)───Ry(θ_39)───XX──────────XX^(θ_49)───Rz(θ_56)───Ry(θ_65)───XX──────────XX^(θ_75)───\n",
              "                                │                                             │                                             │\n",
              "(0, 5): ───Rz(θ_5)───Ry(θ_14)───XX^(θ_20)───XX──────────Rz(θ_31)───Ry(θ_40)───XX^(θ_46)───XX──────────Rz(θ_57)───Ry(θ_66)───XX^(θ_72)───XX──────────\n",
              "                                            │                                             │                                             │\n",
              "(0, 6): ───Rz(θ_6)───Ry(θ_15)───XX──────────XX^(θ_24)───Rz(θ_32)───Ry(θ_41)───XX──────────XX^(θ_50)───Rz(θ_58)───Ry(θ_67)───XX──────────XX^(θ_76)───\n",
              "                                │                                             │                                             │\n",
              "(0, 7): ───Rz(θ_7)───Ry(θ_16)───XX^(θ_21)───XX──────────Rz(θ_33)───Ry(θ_42)───XX^(θ_47)───XX──────────Rz(θ_59)───Ry(θ_68)───XX^(θ_73)───XX──────────\n",
              "                                            │                                             │                                             │\n",
              "(0, 8): ───Rz(θ_8)───Ry(θ_17)───────────────XX^(θ_25)───Rz(θ_34)───Ry(θ_43)───────────────XX^(θ_51)───Rz(θ_60)───Ry(θ_69)───────────────XX^(θ_77)───"
            ]
          },
          "metadata": {
            "tags": []
          },
          "execution_count": 100
        }
      ]
    },
    {
      "cell_type": "markdown",
      "metadata": {
        "id": "conditional-affair"
      },
      "source": [
        "- after 2 convolution with strides = (2, 2), the image dimension will be (2, 2) so we can just use a 4 qubit PQC for the final output"
      ],
      "id": "conditional-affair"
    },
    {
      "cell_type": "code",
      "metadata": {
        "id": "pressing-delay",
        "outputId": "afe36ef3-5ad9-48c1-a423-aeeb8721b3d5"
      },
      "source": [
        "from quple.data_encoding import  EncodingCircuit\n",
        "from quple import PauliBlock\n",
        "from quple.data_encoding.encoding_maps import polynomial\n",
        "degree = 3\n",
        "# create a data circuit for encoding the 3x3 data window\n",
        "\"\"\"\n",
        "output_data_circuit = EncodingCircuit(feature_dimension=4, \n",
        "                                copies=2,\n",
        "                                rotation_blocks=['H',PauliBlock('Z', polynomial(1)),\n",
        "                                                   PauliBlock('Y',polynomial(degree))],\n",
        "                                entanglement_blocks=[PauliBlock('ZZ',polynomial(degree))],\n",
        "                                entangle_strategy='alternate_linear')\n",
        "\"\"\"\n",
        "output_data_circuit = FirstOrderPauliZEncoding(feature_dimension=4, copies=2, parameter_scale=1)\n",
        "output_data_circuit"
      ],
      "id": "pressing-delay",
      "execution_count": null,
      "outputs": [
        {
          "output_type": "execute_result",
          "data": {
            "text/html": [
              "<pre style=\"overflow: auto; white-space: pre;\">(0, 0): ───H───Rz(pi*&lt;x_0/pi&gt;)───H───Rz(pi*&lt;x_0/pi&gt;)───\n",
              "\n",
              "(0, 1): ───H───Rz(pi*&lt;x_1/pi&gt;)───H───Rz(pi*&lt;x_1/pi&gt;)───\n",
              "\n",
              "(0, 2): ───H───Rz(pi*&lt;x_2/pi&gt;)───H───Rz(pi*&lt;x_2/pi&gt;)───\n",
              "\n",
              "(0, 3): ───H───Rz(pi*&lt;x_3/pi&gt;)───H───Rz(pi*&lt;x_3/pi&gt;)───</pre>"
            ],
            "text/plain": [
              "(0, 0): ───H───Rz(pi*<x_0/pi>)───H───Rz(pi*<x_0/pi>)───\n",
              "\n",
              "(0, 1): ───H───Rz(pi*<x_1/pi>)───H───Rz(pi*<x_1/pi>)───\n",
              "\n",
              "(0, 2): ───H───Rz(pi*<x_2/pi>)───H───Rz(pi*<x_2/pi>)───\n",
              "\n",
              "(0, 3): ───H───Rz(pi*<x_3/pi>)───H───Rz(pi*<x_3/pi>)───"
            ]
          },
          "metadata": {
            "tags": []
          },
          "execution_count": 103
        }
      ]
    },
    {
      "cell_type": "code",
      "metadata": {
        "id": "hired-television",
        "outputId": "d801869f-37d5-4974-bb05-7a047c8c27ad"
      },
      "source": [
        "output_model_circuit = ParameterisedCircuit(n_qubit=4, copies=5, \n",
        "                                      rotation_blocks=[\"RZ\", \"RY\"],\n",
        "                                      entanglement_blocks=[\"ZZ\"])\n",
        "output_model_circuit"
      ],
      "id": "hired-television",
      "execution_count": null,
      "outputs": [
        {
          "output_type": "execute_result",
          "data": {
            "text/html": [
              "<pre style=\"overflow: auto; white-space: pre;\">                                                     ┌──────────────────┐                                                              ┌──────────────────┐                                                              ┌──────────────────┐                                                              ┌──────────────────┐                                                              ┌──────────────────┐\n",
              "(0, 0): ───Rz(θ_0)───Ry(θ_4)───ZZ─────────ZZ──────────ZZ────────────────────────────────Rz(θ_14)────Ry(θ_18)───ZZ──────────ZZ───────────ZZ────────────────────────────────Rz(θ_28)────Ry(θ_32)───ZZ──────────ZZ───────────ZZ────────────────────────────────Rz(θ_42)────Ry(θ_46)───ZZ──────────ZZ───────────ZZ────────────────────────────────Rz(θ_56)────Ry(θ_60)───ZZ──────────ZZ───────────ZZ────────────────────────────────────────────\n",
              "                               │          │           │                                                        │           │            │                                                        │           │            │                                                        │           │            │                                                        │           │            │\n",
              "(0, 1): ───Rz(θ_1)───Ry(θ_5)───ZZ^(θ_8)───┼───────────┼────────ZZ───────────ZZ──────────Rz(θ_15)────Ry(θ_19)───ZZ^(θ_22)───┼────────────┼────────ZZ───────────ZZ──────────Rz(θ_29)────Ry(θ_33)───ZZ^(θ_36)───┼────────────┼────────ZZ───────────ZZ──────────Rz(θ_43)────Ry(θ_47)───ZZ^(θ_50)───┼────────────┼────────ZZ───────────ZZ──────────Rz(θ_57)────Ry(θ_61)───ZZ^(θ_64)───┼────────────┼────────ZZ───────────ZZ──────────────────────\n",
              "                                          │           │        │            │                                              │            │        │            │                                              │            │        │            │                                              │            │        │            │                                              │            │        │            │\n",
              "(0, 2): ───Rz(θ_2)───Ry(θ_6)──────────────ZZ^(θ_9)────┼────────ZZ^(θ_11)────┼───────────ZZ──────────Rz(θ_16)───Ry(θ_20)────ZZ^(θ_23)────┼────────ZZ^(θ_25)────┼───────────ZZ──────────Rz(θ_30)───Ry(θ_34)────ZZ^(θ_37)────┼────────ZZ^(θ_39)────┼───────────ZZ──────────Rz(θ_44)───Ry(θ_48)────ZZ^(θ_51)────┼────────ZZ^(θ_53)────┼───────────ZZ──────────Rz(θ_58)───Ry(θ_62)────ZZ^(θ_65)────┼────────ZZ^(θ_67)────┼───────────ZZ──────────\n",
              "                                                      │                     │           │                                               │                     │           │                                               │                     │           │                                               │                     │           │                                               │                     │           │\n",
              "(0, 3): ───Rz(θ_3)───Ry(θ_7)──────────────────────────ZZ^(θ_10)─────────────ZZ^(θ_12)───ZZ^(θ_13)───Rz(θ_17)───Ry(θ_21)─────────────────ZZ^(θ_24)─────────────ZZ^(θ_26)───ZZ^(θ_27)───Rz(θ_31)───Ry(θ_35)─────────────────ZZ^(θ_38)─────────────ZZ^(θ_40)───ZZ^(θ_41)───Rz(θ_45)───Ry(θ_49)─────────────────ZZ^(θ_52)─────────────ZZ^(θ_54)───ZZ^(θ_55)───Rz(θ_59)───Ry(θ_63)─────────────────ZZ^(θ_66)─────────────ZZ^(θ_68)───ZZ^(θ_69)───\n",
              "                                                     └──────────────────┘                                                              └──────────────────┘                                                              └──────────────────┘                                                              └──────────────────┘                                                              └──────────────────┘</pre>"
            ],
            "text/plain": [
              "                                                     ┌──────────────────┐                                                              ┌──────────────────┐                                                              ┌──────────────────┐                                                              ┌──────────────────┐                                                              ┌──────────────────┐\n",
              "(0, 0): ───Rz(θ_0)───Ry(θ_4)───ZZ─────────ZZ──────────ZZ────────────────────────────────Rz(θ_14)────Ry(θ_18)───ZZ──────────ZZ───────────ZZ────────────────────────────────Rz(θ_28)────Ry(θ_32)───ZZ──────────ZZ───────────ZZ────────────────────────────────Rz(θ_42)────Ry(θ_46)───ZZ──────────ZZ───────────ZZ────────────────────────────────Rz(θ_56)────Ry(θ_60)───ZZ──────────ZZ───────────ZZ────────────────────────────────────────────\n",
              "                               │          │           │                                                        │           │            │                                                        │           │            │                                                        │           │            │                                                        │           │            │\n",
              "(0, 1): ───Rz(θ_1)───Ry(θ_5)───ZZ^(θ_8)───┼───────────┼────────ZZ───────────ZZ──────────Rz(θ_15)────Ry(θ_19)───ZZ^(θ_22)───┼────────────┼────────ZZ───────────ZZ──────────Rz(θ_29)────Ry(θ_33)───ZZ^(θ_36)───┼────────────┼────────ZZ───────────ZZ──────────Rz(θ_43)────Ry(θ_47)───ZZ^(θ_50)───┼────────────┼────────ZZ───────────ZZ──────────Rz(θ_57)────Ry(θ_61)───ZZ^(θ_64)───┼────────────┼────────ZZ───────────ZZ──────────────────────\n",
              "                                          │           │        │            │                                              │            │        │            │                                              │            │        │            │                                              │            │        │            │                                              │            │        │            │\n",
              "(0, 2): ───Rz(θ_2)───Ry(θ_6)──────────────ZZ^(θ_9)────┼────────ZZ^(θ_11)────┼───────────ZZ──────────Rz(θ_16)───Ry(θ_20)────ZZ^(θ_23)────┼────────ZZ^(θ_25)────┼───────────ZZ──────────Rz(θ_30)───Ry(θ_34)────ZZ^(θ_37)────┼────────ZZ^(θ_39)────┼───────────ZZ──────────Rz(θ_44)───Ry(θ_48)────ZZ^(θ_51)────┼────────ZZ^(θ_53)────┼───────────ZZ──────────Rz(θ_58)───Ry(θ_62)────ZZ^(θ_65)────┼────────ZZ^(θ_67)────┼───────────ZZ──────────\n",
              "                                                      │                     │           │                                               │                     │           │                                               │                     │           │                                               │                     │           │                                               │                     │           │\n",
              "(0, 3): ───Rz(θ_3)───Ry(θ_7)──────────────────────────ZZ^(θ_10)─────────────ZZ^(θ_12)───ZZ^(θ_13)───Rz(θ_17)───Ry(θ_21)─────────────────ZZ^(θ_24)─────────────ZZ^(θ_26)───ZZ^(θ_27)───Rz(θ_31)───Ry(θ_35)─────────────────ZZ^(θ_38)─────────────ZZ^(θ_40)───ZZ^(θ_41)───Rz(θ_45)───Ry(θ_49)─────────────────ZZ^(θ_52)─────────────ZZ^(θ_54)───ZZ^(θ_55)───Rz(θ_59)───Ry(θ_63)─────────────────ZZ^(θ_66)─────────────ZZ^(θ_68)───ZZ^(θ_69)───\n",
              "                                                     └──────────────────┘                                                              └──────────────────┘                                                              └──────────────────┘                                                              └──────────────────┘                                                              └──────────────────┘"
            ]
          },
          "metadata": {
            "tags": []
          },
          "execution_count": 104
        }
      ]
    },
    {
      "cell_type": "code",
      "metadata": {
        "id": "adverse-links"
      },
      "source": [
        "from quple.interface.tfq.layers import QConv2D, PQC\n",
        "import cirq\n",
        "import tensorflow as tf\n",
        "#let's measure the last qubit\n",
        "readout = [cirq.Z(kernel_circuit.qubits[-1])]\n",
        "final_readout = [cirq.Z(output_model_circuit.qubits[-1])]\n",
        "\n",
        "# create the quantum discriminator model\n",
        "quantum_discriminator = tf.keras.Sequential()\n",
        "quantum_discriminator.add(tf.keras.layers.Input(shape=(8, 8), dtype=tf.float32))\n",
        "quantum_discriminator.add(QConv2D(kernel_circuit, data_circuit, readout, kernel_size=(3, 3), strides=(2, 2), padding=\"same\"))\n",
        "#quantum_discriminator.add(tf.keras.layers.LeakyReLU())\n",
        "#quantum_discriminator.add(tf.keras.layers.Dropout(0.3))    \n",
        "quantum_discriminator.add(QConv2D(kernel_circuit, data_circuit, readout, kernel_size=(3, 3), strides=(2, 2), padding=\"same\"))\n",
        "#quantum_discriminator.add(tf.keras.layers.LeakyReLU())\n",
        "#quantum_discriminator.add(tf.keras.layers.Dropout(0.3))\n",
        "quantum_discriminator.add(tf.keras.layers.Flatten())\n",
        "quantum_discriminator.add(PQC(output_model_circuit, output_data_circuit, final_readout))"
      ],
      "id": "adverse-links",
      "execution_count": null,
      "outputs": []
    },
    {
      "cell_type": "markdown",
      "metadata": {
        "id": "advised-hollywood"
      },
      "source": [
        "## Create QGAN model"
      ],
      "id": "advised-hollywood"
    },
    {
      "cell_type": "code",
      "metadata": {
        "id": "rotary-practice",
        "outputId": "bdf1a23b-62c3-4f0d-baeb-ec1bdb9a3da3"
      },
      "source": [
        "from quple.models import QGAN\n",
        "qgan = QGAN(classical_generator, quantum_discriminator, encoding_circuit=None,\n",
        "            latent_dim=100,\n",
        "            epochs=50, d_lr=5e-3, g_lr=1e-3, random_state=2021, batch_size=32,\n",
        "            checkpoint_dir=\"./training_checkpoints/qgan_with_cnn/\")"
      ],
      "id": "rotary-practice",
      "execution_count": null,
      "outputs": [
        {
          "output_type": "stream",
          "text": [
            "Summary of Generator\n",
            "Model: \"sequential_7\"\n",
            "_________________________________________________________________\n",
            "Layer (type)                 Output Shape              Param #   \n",
            "=================================================================\n",
            "dense_1 (Dense)              (None, 128)               12800     \n",
            "_________________________________________________________________\n",
            "batch_normalization_3 (Batch (None, 128)               512       \n",
            "_________________________________________________________________\n",
            "leaky_re_lu_3 (LeakyReLU)    (None, 128)               0         \n",
            "_________________________________________________________________\n",
            "reshape_2 (Reshape)          (None, 2, 2, 32)          0         \n",
            "_________________________________________________________________\n",
            "conv2d_transpose_3 (Conv2DTr (None, 2, 2, 32)          4096      \n",
            "_________________________________________________________________\n",
            "batch_normalization_4 (Batch (None, 2, 2, 32)          128       \n",
            "_________________________________________________________________\n",
            "leaky_re_lu_4 (LeakyReLU)    (None, 2, 2, 32)          0         \n",
            "_________________________________________________________________\n",
            "conv2d_transpose_4 (Conv2DTr (None, 4, 4, 16)          2048      \n",
            "_________________________________________________________________\n",
            "batch_normalization_5 (Batch (None, 4, 4, 16)          64        \n",
            "_________________________________________________________________\n",
            "leaky_re_lu_5 (LeakyReLU)    (None, 4, 4, 16)          0         \n",
            "_________________________________________________________________\n",
            "conv2d_transpose_5 (Conv2DTr (None, 8, 8, 1)           144       \n",
            "_________________________________________________________________\n",
            "reshape_3 (Reshape)          (None, 8, 8)              0         \n",
            "=================================================================\n",
            "Total params: 19,792\n",
            "Trainable params: 19,440\n",
            "Non-trainable params: 352\n",
            "_________________________________________________________________\n",
            "Summary of Discriminator\n",
            "Model: \"sequential_12\"\n",
            "_________________________________________________________________\n",
            "Layer (type)                 Output Shape              Param #   \n",
            "=================================================================\n",
            "q_conv2d_22 (QConv2D)        (None, 4, 4)              78        \n",
            "_________________________________________________________________\n",
            "q_conv2d_23 (QConv2D)        (None, 2, 2)              78        \n",
            "_________________________________________________________________\n",
            "flatten_9 (Flatten)          (None, 4)                 0         \n",
            "_________________________________________________________________\n",
            "pqc_9 (PQC)                  (None, 1)                 70        \n",
            "=================================================================\n",
            "Total params: 226\n",
            "Trainable params: 226\n",
            "Non-trainable params: 0\n",
            "_________________________________________________________________\n"
          ],
          "name": "stdout"
        }
      ]
    },
    {
      "cell_type": "code",
      "metadata": {
        "id": "corrected-country"
      },
      "source": [
        "qgan.enable_visualization(image_shape, n_image=16)"
      ],
      "id": "corrected-country",
      "execution_count": null,
      "outputs": []
    },
    {
      "cell_type": "code",
      "metadata": {
        "id": "extraordinary-cause",
        "outputId": "ad6a4f2f-e66d-48a5-87ec-4c3f7e3b8c9b"
      },
      "source": [
        "g_loss, d_loss = qgan.train(x_train_rescaled[:200])"
      ],
      "id": "extraordinary-cause",
      "execution_count": null,
      "outputs": [
        {
          "output_type": "display_data",
          "data": {
            "image/png": "[encoded data removed]",
            "text/plain": [
              "<Figure size 1152x648 with 17 Axes>"
            ]
          },
          "metadata": {
            "tags": [],
            "needs_background": "light"
          }
        }
      ]
    },
    {
      "cell_type": "code",
      "metadata": {
        "id": "saved-grove"
      },
      "source": [
        ""
      ],
      "id": "saved-grove",
      "execution_count": null,
      "outputs": []
    }
  ]
}