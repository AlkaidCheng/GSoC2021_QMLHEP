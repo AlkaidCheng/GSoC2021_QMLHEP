{
  "nbformat": 4,
  "nbformat_minor": 0,
  "metadata": {
    "colab": {
      "name": "QuplePQC_demo",
      "provenance": [],
      "authorship_tag": "ABX9TyMWd2n/HiLspPGcRZ/39Ghm",
      "include_colab_link": true
    },
    "kernelspec": {
      "name": "python3",
      "display_name": "Python 3"
    },
    "language_info": {
      "name": "python"
    }
  },
  "cells": [
    {
      "cell_type": "markdown",
      "metadata": {
        "id": "view-in-github",
        "colab_type": "text"
      },
      "source": [
        "<a href=\"https://colab.research.google.com/github/AlkaidCheng/GSoC2021_QMLHEP/blob/main/examples/QuplePQC_demo.ipynb\" target=\"_parent\"><img src=\"https://colab.research.google.com/assets/colab-badge.svg\" alt=\"Open In Colab\"/></a>"
      ]
    },
    {
      "cell_type": "code",
      "metadata": {
        "colab": {
          "base_uri": "https://localhost:8080/",
          "height": 1000
        },
        "id": "P7qtFqFBRja5",
        "outputId": "561eb43e-2635-4c39-d429-53f370d90caa"
      },
      "source": [
        "!pip install tensorflow==2.4.1\n",
        "!pip install tensorflow-quantum\n",
        "!pip install quple"
      ],
      "execution_count": 1,
      "outputs": [
        {
          "output_type": "stream",
          "text": [
            "Collecting tensorflow==2.4.1\n",
            "\u001b[?25l  Downloading https://files.pythonhosted.org/packages/70/dc/e8c5e7983866fa4ef3fd619faa35f660b95b01a2ab62b3884f038ccab542/tensorflow-2.4.1-cp37-cp37m-manylinux2010_x86_64.whl (394.3MB)\n",
            "\u001b[K     |████████████████████████████████| 394.3MB 39kB/s \n",
            "\u001b[?25hCollecting gast==0.3.3\n",
            "  Downloading https://files.pythonhosted.org/packages/d6/84/759f5dd23fec8ba71952d97bcc7e2c9d7d63bdc582421f3cd4be845f0c98/gast-0.3.3-py2.py3-none-any.whl\n",
            "Requirement already satisfied: absl-py~=0.10 in /usr/local/lib/python3.7/dist-packages (from tensorflow==2.4.1) (0.12.0)\n",
            "Requirement already satisfied: keras-preprocessing~=1.1.2 in /usr/local/lib/python3.7/dist-packages (from tensorflow==2.4.1) (1.1.2)\n",
            "Requirement already satisfied: astunparse~=1.6.3 in /usr/local/lib/python3.7/dist-packages (from tensorflow==2.4.1) (1.6.3)\n",
            "Collecting tensorflow-estimator<2.5.0,>=2.4.0\n",
            "\u001b[?25l  Downloading https://files.pythonhosted.org/packages/74/7e/622d9849abf3afb81e482ffc170758742e392ee129ce1540611199a59237/tensorflow_estimator-2.4.0-py2.py3-none-any.whl (462kB)\n",
            "\u001b[K     |████████████████████████████████| 471kB 41.0MB/s \n",
            "\u001b[?25hRequirement already satisfied: wheel~=0.35 in /usr/local/lib/python3.7/dist-packages (from tensorflow==2.4.1) (0.36.2)\n",
            "Requirement already satisfied: google-pasta~=0.2 in /usr/local/lib/python3.7/dist-packages (from tensorflow==2.4.1) (0.2.0)\n",
            "Requirement already satisfied: flatbuffers~=1.12.0 in /usr/local/lib/python3.7/dist-packages (from tensorflow==2.4.1) (1.12)\n",
            "Requirement already satisfied: protobuf>=3.9.2 in /usr/local/lib/python3.7/dist-packages (from tensorflow==2.4.1) (3.12.4)\n",
            "Requirement already satisfied: six~=1.15.0 in /usr/local/lib/python3.7/dist-packages (from tensorflow==2.4.1) (1.15.0)\n",
            "Requirement already satisfied: typing-extensions~=3.7.4 in /usr/local/lib/python3.7/dist-packages (from tensorflow==2.4.1) (3.7.4.3)\n",
            "Collecting grpcio~=1.32.0\n",
            "\u001b[?25l  Downloading https://files.pythonhosted.org/packages/06/54/1c8be62beafe7fb1548d2968e518ca040556b46b0275399d4f3186c56d79/grpcio-1.32.0-cp37-cp37m-manylinux2014_x86_64.whl (3.8MB)\n",
            "\u001b[K     |████████████████████████████████| 3.8MB 25.1MB/s \n",
            "\u001b[?25hRequirement already satisfied: opt-einsum~=3.3.0 in /usr/local/lib/python3.7/dist-packages (from tensorflow==2.4.1) (3.3.0)\n",
            "Requirement already satisfied: termcolor~=1.1.0 in /usr/local/lib/python3.7/dist-packages (from tensorflow==2.4.1) (1.1.0)\n",
            "Requirement already satisfied: wrapt~=1.12.1 in /usr/local/lib/python3.7/dist-packages (from tensorflow==2.4.1) (1.12.1)\n",
            "Collecting h5py~=2.10.0\n",
            "\u001b[?25l  Downloading https://files.pythonhosted.org/packages/3f/c0/abde58b837e066bca19a3f7332d9d0493521d7dd6b48248451a9e3fe2214/h5py-2.10.0-cp37-cp37m-manylinux1_x86_64.whl (2.9MB)\n",
            "\u001b[K     |████████████████████████████████| 2.9MB 30.6MB/s \n",
            "\u001b[?25hRequirement already satisfied: numpy~=1.19.2 in /usr/local/lib/python3.7/dist-packages (from tensorflow==2.4.1) (1.19.5)\n",
            "Requirement already satisfied: tensorboard~=2.4 in /usr/local/lib/python3.7/dist-packages (from tensorflow==2.4.1) (2.5.0)\n",
            "Requirement already satisfied: setuptools in /usr/local/lib/python3.7/dist-packages (from protobuf>=3.9.2->tensorflow==2.4.1) (57.0.0)\n",
            "Requirement already satisfied: google-auth-oauthlib<0.5,>=0.4.1 in /usr/local/lib/python3.7/dist-packages (from tensorboard~=2.4->tensorflow==2.4.1) (0.4.4)\n",
            "Requirement already satisfied: requests<3,>=2.21.0 in /usr/local/lib/python3.7/dist-packages (from tensorboard~=2.4->tensorflow==2.4.1) (2.23.0)\n",
            "Requirement already satisfied: google-auth<2,>=1.6.3 in /usr/local/lib/python3.7/dist-packages (from tensorboard~=2.4->tensorflow==2.4.1) (1.31.0)\n",
            "Requirement already satisfied: markdown>=2.6.8 in /usr/local/lib/python3.7/dist-packages (from tensorboard~=2.4->tensorflow==2.4.1) (3.3.4)\n",
            "Requirement already satisfied: werkzeug>=0.11.15 in /usr/local/lib/python3.7/dist-packages (from tensorboard~=2.4->tensorflow==2.4.1) (1.0.1)\n",
            "Requirement already satisfied: tensorboard-data-server<0.7.0,>=0.6.0 in /usr/local/lib/python3.7/dist-packages (from tensorboard~=2.4->tensorflow==2.4.1) (0.6.1)\n",
            "Requirement already satisfied: tensorboard-plugin-wit>=1.6.0 in /usr/local/lib/python3.7/dist-packages (from tensorboard~=2.4->tensorflow==2.4.1) (1.8.0)\n",
            "Requirement already satisfied: requests-oauthlib>=0.7.0 in /usr/local/lib/python3.7/dist-packages (from google-auth-oauthlib<0.5,>=0.4.1->tensorboard~=2.4->tensorflow==2.4.1) (1.3.0)\n",
            "Requirement already satisfied: idna<3,>=2.5 in /usr/local/lib/python3.7/dist-packages (from requests<3,>=2.21.0->tensorboard~=2.4->tensorflow==2.4.1) (2.10)\n",
            "Requirement already satisfied: urllib3!=1.25.0,!=1.25.1,<1.26,>=1.21.1 in /usr/local/lib/python3.7/dist-packages (from requests<3,>=2.21.0->tensorboard~=2.4->tensorflow==2.4.1) (1.24.3)\n",
            "Requirement already satisfied: certifi>=2017.4.17 in /usr/local/lib/python3.7/dist-packages (from requests<3,>=2.21.0->tensorboard~=2.4->tensorflow==2.4.1) (2021.5.30)\n",
            "Requirement already satisfied: chardet<4,>=3.0.2 in /usr/local/lib/python3.7/dist-packages (from requests<3,>=2.21.0->tensorboard~=2.4->tensorflow==2.4.1) (3.0.4)\n",
            "Requirement already satisfied: pyasn1-modules>=0.2.1 in /usr/local/lib/python3.7/dist-packages (from google-auth<2,>=1.6.3->tensorboard~=2.4->tensorflow==2.4.1) (0.2.8)\n",
            "Requirement already satisfied: cachetools<5.0,>=2.0.0 in /usr/local/lib/python3.7/dist-packages (from google-auth<2,>=1.6.3->tensorboard~=2.4->tensorflow==2.4.1) (4.2.2)\n",
            "Requirement already satisfied: rsa<5,>=3.1.4; python_version >= \"3.6\" in /usr/local/lib/python3.7/dist-packages (from google-auth<2,>=1.6.3->tensorboard~=2.4->tensorflow==2.4.1) (4.7.2)\n",
            "Requirement already satisfied: importlib-metadata; python_version < \"3.8\" in /usr/local/lib/python3.7/dist-packages (from markdown>=2.6.8->tensorboard~=2.4->tensorflow==2.4.1) (4.5.0)\n",
            "Requirement already satisfied: oauthlib>=3.0.0 in /usr/local/lib/python3.7/dist-packages (from requests-oauthlib>=0.7.0->google-auth-oauthlib<0.5,>=0.4.1->tensorboard~=2.4->tensorflow==2.4.1) (3.1.1)\n",
            "Requirement already satisfied: pyasn1<0.5.0,>=0.4.6 in /usr/local/lib/python3.7/dist-packages (from pyasn1-modules>=0.2.1->google-auth<2,>=1.6.3->tensorboard~=2.4->tensorflow==2.4.1) (0.4.8)\n",
            "Requirement already satisfied: zipp>=0.5 in /usr/local/lib/python3.7/dist-packages (from importlib-metadata; python_version < \"3.8\"->markdown>=2.6.8->tensorboard~=2.4->tensorflow==2.4.1) (3.4.1)\n",
            "Installing collected packages: gast, tensorflow-estimator, grpcio, h5py, tensorflow\n",
            "  Found existing installation: gast 0.4.0\n",
            "    Uninstalling gast-0.4.0:\n",
            "      Successfully uninstalled gast-0.4.0\n",
            "  Found existing installation: tensorflow-estimator 2.5.0\n",
            "    Uninstalling tensorflow-estimator-2.5.0:\n",
            "      Successfully uninstalled tensorflow-estimator-2.5.0\n",
            "  Found existing installation: grpcio 1.34.1\n",
            "    Uninstalling grpcio-1.34.1:\n",
            "      Successfully uninstalled grpcio-1.34.1\n",
            "  Found existing installation: h5py 3.1.0\n",
            "    Uninstalling h5py-3.1.0:\n",
            "      Successfully uninstalled h5py-3.1.0\n",
            "  Found existing installation: tensorflow 2.5.0\n",
            "    Uninstalling tensorflow-2.5.0:\n",
            "      Successfully uninstalled tensorflow-2.5.0\n",
            "Successfully installed gast-0.3.3 grpcio-1.32.0 h5py-2.10.0 tensorflow-2.4.1 tensorflow-estimator-2.4.0\n",
            "Collecting tensorflow-quantum\n",
            "\u001b[?25l  Downloading https://files.pythonhosted.org/packages/67/24/43c21d3af4c68198fe1d9cdd3233b94210e384e4861c69aab24d89015336/tensorflow_quantum-0.5.1-cp37-cp37m-manylinux_2_12_x86_64.manylinux2010_x86_64.whl (7.8MB)\n",
            "\u001b[K     |████████████████████████████████| 7.8MB 6.8MB/s \n",
            "\u001b[?25hCollecting sympy==1.5\n",
            "\u001b[?25l  Downloading https://files.pythonhosted.org/packages/4d/a7/25d5d6b3295537ab90bdbcd21e464633fb4a0684dd9a065da404487625bb/sympy-1.5-py2.py3-none-any.whl (5.6MB)\n",
            "\u001b[K     |████████████████████████████████| 5.6MB 34.1MB/s \n",
            "\u001b[?25hCollecting google-auth==1.18.0\n",
            "\u001b[?25l  Downloading https://files.pythonhosted.org/packages/21/57/d706964a7e4056f3f2244e16705388c11631fbb53d3e2d2a2d0fbc24d470/google_auth-1.18.0-py2.py3-none-any.whl (90kB)\n",
            "\u001b[K     |████████████████████████████████| 92kB 9.7MB/s \n",
            "\u001b[?25hCollecting google-api-core==1.21.0\n",
            "\u001b[?25l  Downloading https://files.pythonhosted.org/packages/48/76/bd5e3ebd571b9f688ae123a2bd84b2dc9f75e1214a83b8a759bc16e2fc35/google_api_core-1.21.0-py2.py3-none-any.whl (90kB)\n",
            "\u001b[K     |████████████████████████████████| 92kB 9.8MB/s \n",
            "\u001b[?25hCollecting cirq==0.11.0\n",
            "  Downloading https://files.pythonhosted.org/packages/eb/a1/3458cb4981e648e0167ea160f536d6a0f32d95e9340c7b1a081b9ef79189/cirq-0.11.0-py3-none-any.whl\n",
            "Collecting googleapis-common-protos==1.52.0\n",
            "\u001b[?25l  Downloading https://files.pythonhosted.org/packages/03/74/3956721ea1eb4bcf7502a311fdaa60b85bd751de4e57d1943afe9b334141/googleapis_common_protos-1.52.0-py2.py3-none-any.whl (100kB)\n",
            "\u001b[K     |████████████████████████████████| 102kB 10.3MB/s \n",
            "\u001b[?25hCollecting protobuf==3.13.0\n",
            "\u001b[?25l  Downloading https://files.pythonhosted.org/packages/71/dc/5ba56eab7440c62c5f808b4267e2a1d6c136e90293b43fefb1b493c6d704/protobuf-3.13.0-cp37-cp37m-manylinux1_x86_64.whl (1.3MB)\n",
            "\u001b[K     |████████████████████████████████| 1.3MB 36.5MB/s \n",
            "\u001b[?25hRequirement already satisfied: mpmath>=0.19 in /usr/local/lib/python3.7/dist-packages (from sympy==1.5->tensorflow-quantum) (1.2.1)\n",
            "Requirement already satisfied: pyasn1-modules>=0.2.1 in /usr/local/lib/python3.7/dist-packages (from google-auth==1.18.0->tensorflow-quantum) (0.2.8)\n",
            "Requirement already satisfied: cachetools<5.0,>=2.0.0 in /usr/local/lib/python3.7/dist-packages (from google-auth==1.18.0->tensorflow-quantum) (4.2.2)\n",
            "Requirement already satisfied: setuptools>=40.3.0 in /usr/local/lib/python3.7/dist-packages (from google-auth==1.18.0->tensorflow-quantum) (57.0.0)\n",
            "Requirement already satisfied: rsa<5,>=3.1.4; python_version >= \"3\" in /usr/local/lib/python3.7/dist-packages (from google-auth==1.18.0->tensorflow-quantum) (4.7.2)\n",
            "Requirement already satisfied: six>=1.9.0 in /usr/local/lib/python3.7/dist-packages (from google-auth==1.18.0->tensorflow-quantum) (1.15.0)\n",
            "Requirement already satisfied: pytz in /usr/local/lib/python3.7/dist-packages (from google-api-core==1.21.0->tensorflow-quantum) (2018.9)\n",
            "Requirement already satisfied: requests<3.0.0dev,>=2.18.0 in /usr/local/lib/python3.7/dist-packages (from google-api-core==1.21.0->tensorflow-quantum) (2.23.0)\n",
            "Collecting cirq-core==0.11.0\n",
            "\u001b[?25l  Downloading https://files.pythonhosted.org/packages/2f/e1/e1d174f037b3019979114155dcd9257883316bfc105a5fab360e3349d9e7/cirq_core-0.11.0-py3-none-any.whl (1.5MB)\n",
            "\u001b[K     |████████████████████████████████| 1.5MB 31.5MB/s \n",
            "\u001b[?25hCollecting cirq-google==0.11.0\n",
            "\u001b[?25l  Downloading https://files.pythonhosted.org/packages/1e/e5/72b14d2ab702184335884f05e0726f7d824483ebee2d9055b01d1f69841f/cirq_google-0.11.0-py3-none-any.whl (380kB)\n",
            "\u001b[K     |████████████████████████████████| 389kB 35.8MB/s \n",
            "\u001b[?25hRequirement already satisfied: pyasn1<0.5.0,>=0.4.6 in /usr/local/lib/python3.7/dist-packages (from pyasn1-modules>=0.2.1->google-auth==1.18.0->tensorflow-quantum) (0.4.8)\n",
            "Requirement already satisfied: urllib3!=1.25.0,!=1.25.1,<1.26,>=1.21.1 in /usr/local/lib/python3.7/dist-packages (from requests<3.0.0dev,>=2.18.0->google-api-core==1.21.0->tensorflow-quantum) (1.24.3)\n",
            "Requirement already satisfied: chardet<4,>=3.0.2 in /usr/local/lib/python3.7/dist-packages (from requests<3.0.0dev,>=2.18.0->google-api-core==1.21.0->tensorflow-quantum) (3.0.4)\n",
            "Requirement already satisfied: idna<3,>=2.5 in /usr/local/lib/python3.7/dist-packages (from requests<3.0.0dev,>=2.18.0->google-api-core==1.21.0->tensorflow-quantum) (2.10)\n",
            "Requirement already satisfied: certifi>=2017.4.17 in /usr/local/lib/python3.7/dist-packages (from requests<3.0.0dev,>=2.18.0->google-api-core==1.21.0->tensorflow-quantum) (2021.5.30)\n",
            "Requirement already satisfied: typing-extensions in /usr/local/lib/python3.7/dist-packages (from cirq-core==0.11.0->cirq==0.11.0->tensorflow-quantum) (3.7.4.3)\n",
            "Requirement already satisfied: numpy~=1.16 in /usr/local/lib/python3.7/dist-packages (from cirq-core==0.11.0->cirq==0.11.0->tensorflow-quantum) (1.19.5)\n",
            "Requirement already satisfied: sortedcontainers~=2.0 in /usr/local/lib/python3.7/dist-packages (from cirq-core==0.11.0->cirq==0.11.0->tensorflow-quantum) (2.4.0)\n",
            "Requirement already satisfied: tqdm in /usr/local/lib/python3.7/dist-packages (from cirq-core==0.11.0->cirq==0.11.0->tensorflow-quantum) (4.41.1)\n",
            "Requirement already satisfied: pandas in /usr/local/lib/python3.7/dist-packages (from cirq-core==0.11.0->cirq==0.11.0->tensorflow-quantum) (1.1.5)\n",
            "Requirement already satisfied: scipy in /usr/local/lib/python3.7/dist-packages (from cirq-core==0.11.0->cirq==0.11.0->tensorflow-quantum) (1.4.1)\n",
            "Requirement already satisfied: networkx~=2.4 in /usr/local/lib/python3.7/dist-packages (from cirq-core==0.11.0->cirq==0.11.0->tensorflow-quantum) (2.5.1)\n",
            "Requirement already satisfied: matplotlib~=3.0 in /usr/local/lib/python3.7/dist-packages (from cirq-core==0.11.0->cirq==0.11.0->tensorflow-quantum) (3.2.2)\n",
            "Requirement already satisfied: python-dateutil>=2.7.3 in /usr/local/lib/python3.7/dist-packages (from pandas->cirq-core==0.11.0->cirq==0.11.0->tensorflow-quantum) (2.8.1)\n",
            "Requirement already satisfied: decorator<5,>=4.3 in /usr/local/lib/python3.7/dist-packages (from networkx~=2.4->cirq-core==0.11.0->cirq==0.11.0->tensorflow-quantum) (4.4.2)\n",
            "Requirement already satisfied: kiwisolver>=1.0.1 in /usr/local/lib/python3.7/dist-packages (from matplotlib~=3.0->cirq-core==0.11.0->cirq==0.11.0->tensorflow-quantum) (1.3.1)\n",
            "Requirement already satisfied: cycler>=0.10 in /usr/local/lib/python3.7/dist-packages (from matplotlib~=3.0->cirq-core==0.11.0->cirq==0.11.0->tensorflow-quantum) (0.10.0)\n",
            "Requirement already satisfied: pyparsing!=2.0.4,!=2.1.2,!=2.1.6,>=2.0.1 in /usr/local/lib/python3.7/dist-packages (from matplotlib~=3.0->cirq-core==0.11.0->cirq==0.11.0->tensorflow-quantum) (2.4.7)\n",
            "Installing collected packages: sympy, google-auth, protobuf, googleapis-common-protos, google-api-core, cirq-core, cirq-google, cirq, tensorflow-quantum\n",
            "  Found existing installation: sympy 1.7.1\n",
            "    Uninstalling sympy-1.7.1:\n",
            "      Successfully uninstalled sympy-1.7.1\n",
            "  Found existing installation: google-auth 1.31.0\n",
            "    Uninstalling google-auth-1.31.0:\n",
            "      Successfully uninstalled google-auth-1.31.0\n",
            "  Found existing installation: protobuf 3.12.4\n",
            "    Uninstalling protobuf-3.12.4:\n",
            "      Successfully uninstalled protobuf-3.12.4\n",
            "  Found existing installation: googleapis-common-protos 1.53.0\n",
            "    Uninstalling googleapis-common-protos-1.53.0:\n",
            "      Successfully uninstalled googleapis-common-protos-1.53.0\n",
            "  Found existing installation: google-api-core 1.26.3\n",
            "    Uninstalling google-api-core-1.26.3:\n",
            "      Successfully uninstalled google-api-core-1.26.3\n",
            "Successfully installed cirq-0.11.0 cirq-core-0.11.0 cirq-google-0.11.0 google-api-core-1.21.0 google-auth-1.18.0 googleapis-common-protos-1.52.0 protobuf-3.13.0 sympy-1.5 tensorflow-quantum-0.5.1\n"
          ],
          "name": "stdout"
        },
        {
          "output_type": "display_data",
          "data": {
            "application/vnd.colab-display-data+json": {
              "pip_warning": {
                "packages": [
                  "google"
                ]
              }
            }
          },
          "metadata": {
            "tags": []
          }
        },
        {
          "output_type": "stream",
          "text": [
            "Collecting quple\n",
            "\u001b[?25l  Downloading https://files.pythonhosted.org/packages/2a/7c/2d92604895e59aff867b9f893df0b9031254f6c98f57f1cbbd60556c1632/quple-0.8.0-py3-none-any.whl (95kB)\n",
            "\r\u001b[K     |███▌                            | 10kB 12.1MB/s eta 0:00:01\r\u001b[K     |███████                         | 20kB 17.8MB/s eta 0:00:01\r\u001b[K     |██████████▍                     | 30kB 21.0MB/s eta 0:00:01\r\u001b[K     |█████████████▉                  | 40kB 16.4MB/s eta 0:00:01\r\u001b[K     |█████████████████▎              | 51kB 5.7MB/s eta 0:00:01\r\u001b[K     |████████████████████▊           | 61kB 6.4MB/s eta 0:00:01\r\u001b[K     |████████████████████████▏       | 71kB 7.2MB/s eta 0:00:01\r\u001b[K     |███████████████████████████▋    | 81kB 7.9MB/s eta 0:00:01\r\u001b[K     |███████████████████████████████ | 92kB 8.4MB/s eta 0:00:01\r\u001b[K     |████████████████████████████████| 102kB 5.4MB/s \n",
            "\u001b[?25hRequirement already satisfied: tensorflow-quantum in /usr/local/lib/python3.7/dist-packages (from quple) (0.5.1)\n",
            "Requirement already satisfied: cirq in /usr/local/lib/python3.7/dist-packages (from quple) (0.11.0)\n",
            "Requirement already satisfied: tensorflow in /usr/local/lib/python3.7/dist-packages (from quple) (2.4.1)\n",
            "Requirement already satisfied: numpy in /usr/local/lib/python3.7/dist-packages (from quple) (1.19.5)\n",
            "Requirement already satisfied: google-auth==1.18.0 in /usr/local/lib/python3.7/dist-packages (from tensorflow-quantum->quple) (1.18.0)\n",
            "Requirement already satisfied: googleapis-common-protos==1.52.0 in /usr/local/lib/python3.7/dist-packages (from tensorflow-quantum->quple) (1.52.0)\n",
            "Requirement already satisfied: google-api-core==1.21.0 in /usr/local/lib/python3.7/dist-packages (from tensorflow-quantum->quple) (1.21.0)\n",
            "Requirement already satisfied: protobuf==3.13.0 in /usr/local/lib/python3.7/dist-packages (from tensorflow-quantum->quple) (3.13.0)\n",
            "Requirement already satisfied: sympy==1.5 in /usr/local/lib/python3.7/dist-packages (from tensorflow-quantum->quple) (1.5)\n",
            "Requirement already satisfied: cirq-core==0.11.0 in /usr/local/lib/python3.7/dist-packages (from cirq->quple) (0.11.0)\n",
            "Requirement already satisfied: cirq-google==0.11.0 in /usr/local/lib/python3.7/dist-packages (from cirq->quple) (0.11.0)\n",
            "Requirement already satisfied: absl-py~=0.10 in /usr/local/lib/python3.7/dist-packages (from tensorflow->quple) (0.12.0)\n",
            "Requirement already satisfied: six~=1.15.0 in /usr/local/lib/python3.7/dist-packages (from tensorflow->quple) (1.15.0)\n",
            "Requirement already satisfied: gast==0.3.3 in /usr/local/lib/python3.7/dist-packages (from tensorflow->quple) (0.3.3)\n",
            "Requirement already satisfied: keras-preprocessing~=1.1.2 in /usr/local/lib/python3.7/dist-packages (from tensorflow->quple) (1.1.2)\n",
            "Requirement already satisfied: typing-extensions~=3.7.4 in /usr/local/lib/python3.7/dist-packages (from tensorflow->quple) (3.7.4.3)\n",
            "Requirement already satisfied: tensorboard~=2.4 in /usr/local/lib/python3.7/dist-packages (from tensorflow->quple) (2.5.0)\n",
            "Requirement already satisfied: grpcio~=1.32.0 in /usr/local/lib/python3.7/dist-packages (from tensorflow->quple) (1.32.0)\n",
            "Requirement already satisfied: h5py~=2.10.0 in /usr/local/lib/python3.7/dist-packages (from tensorflow->quple) (2.10.0)\n",
            "Requirement already satisfied: wheel~=0.35 in /usr/local/lib/python3.7/dist-packages (from tensorflow->quple) (0.36.2)\n",
            "Requirement already satisfied: wrapt~=1.12.1 in /usr/local/lib/python3.7/dist-packages (from tensorflow->quple) (1.12.1)\n",
            "Requirement already satisfied: tensorflow-estimator<2.5.0,>=2.4.0 in /usr/local/lib/python3.7/dist-packages (from tensorflow->quple) (2.4.0)\n",
            "Requirement already satisfied: google-pasta~=0.2 in /usr/local/lib/python3.7/dist-packages (from tensorflow->quple) (0.2.0)\n",
            "Requirement already satisfied: opt-einsum~=3.3.0 in /usr/local/lib/python3.7/dist-packages (from tensorflow->quple) (3.3.0)\n",
            "Requirement already satisfied: flatbuffers~=1.12.0 in /usr/local/lib/python3.7/dist-packages (from tensorflow->quple) (1.12)\n",
            "Requirement already satisfied: termcolor~=1.1.0 in /usr/local/lib/python3.7/dist-packages (from tensorflow->quple) (1.1.0)\n",
            "Requirement already satisfied: astunparse~=1.6.3 in /usr/local/lib/python3.7/dist-packages (from tensorflow->quple) (1.6.3)\n",
            "Requirement already satisfied: cachetools<5.0,>=2.0.0 in /usr/local/lib/python3.7/dist-packages (from google-auth==1.18.0->tensorflow-quantum->quple) (4.2.2)\n",
            "Requirement already satisfied: pyasn1-modules>=0.2.1 in /usr/local/lib/python3.7/dist-packages (from google-auth==1.18.0->tensorflow-quantum->quple) (0.2.8)\n",
            "Requirement already satisfied: setuptools>=40.3.0 in /usr/local/lib/python3.7/dist-packages (from google-auth==1.18.0->tensorflow-quantum->quple) (57.0.0)\n",
            "Requirement already satisfied: rsa<5,>=3.1.4; python_version >= \"3\" in /usr/local/lib/python3.7/dist-packages (from google-auth==1.18.0->tensorflow-quantum->quple) (4.7.2)\n",
            "Requirement already satisfied: pytz in /usr/local/lib/python3.7/dist-packages (from google-api-core==1.21.0->tensorflow-quantum->quple) (2018.9)\n",
            "Requirement already satisfied: requests<3.0.0dev,>=2.18.0 in /usr/local/lib/python3.7/dist-packages (from google-api-core==1.21.0->tensorflow-quantum->quple) (2.23.0)\n",
            "Requirement already satisfied: mpmath>=0.19 in /usr/local/lib/python3.7/dist-packages (from sympy==1.5->tensorflow-quantum->quple) (1.2.1)\n",
            "Requirement already satisfied: tqdm in /usr/local/lib/python3.7/dist-packages (from cirq-core==0.11.0->cirq->quple) (4.41.1)\n",
            "Requirement already satisfied: matplotlib~=3.0 in /usr/local/lib/python3.7/dist-packages (from cirq-core==0.11.0->cirq->quple) (3.2.2)\n",
            "Requirement already satisfied: networkx~=2.4 in /usr/local/lib/python3.7/dist-packages (from cirq-core==0.11.0->cirq->quple) (2.5.1)\n",
            "Requirement already satisfied: scipy in /usr/local/lib/python3.7/dist-packages (from cirq-core==0.11.0->cirq->quple) (1.4.1)\n",
            "Requirement already satisfied: sortedcontainers~=2.0 in /usr/local/lib/python3.7/dist-packages (from cirq-core==0.11.0->cirq->quple) (2.4.0)\n",
            "Requirement already satisfied: pandas in /usr/local/lib/python3.7/dist-packages (from cirq-core==0.11.0->cirq->quple) (1.1.5)\n",
            "Requirement already satisfied: tensorboard-data-server<0.7.0,>=0.6.0 in /usr/local/lib/python3.7/dist-packages (from tensorboard~=2.4->tensorflow->quple) (0.6.1)\n",
            "Requirement already satisfied: markdown>=2.6.8 in /usr/local/lib/python3.7/dist-packages (from tensorboard~=2.4->tensorflow->quple) (3.3.4)\n",
            "Requirement already satisfied: tensorboard-plugin-wit>=1.6.0 in /usr/local/lib/python3.7/dist-packages (from tensorboard~=2.4->tensorflow->quple) (1.8.0)\n",
            "Requirement already satisfied: google-auth-oauthlib<0.5,>=0.4.1 in /usr/local/lib/python3.7/dist-packages (from tensorboard~=2.4->tensorflow->quple) (0.4.4)\n",
            "Requirement already satisfied: werkzeug>=0.11.15 in /usr/local/lib/python3.7/dist-packages (from tensorboard~=2.4->tensorflow->quple) (1.0.1)\n",
            "Requirement already satisfied: pyasn1<0.5.0,>=0.4.6 in /usr/local/lib/python3.7/dist-packages (from pyasn1-modules>=0.2.1->google-auth==1.18.0->tensorflow-quantum->quple) (0.4.8)\n",
            "Requirement already satisfied: certifi>=2017.4.17 in /usr/local/lib/python3.7/dist-packages (from requests<3.0.0dev,>=2.18.0->google-api-core==1.21.0->tensorflow-quantum->quple) (2021.5.30)\n",
            "Requirement already satisfied: idna<3,>=2.5 in /usr/local/lib/python3.7/dist-packages (from requests<3.0.0dev,>=2.18.0->google-api-core==1.21.0->tensorflow-quantum->quple) (2.10)\n",
            "Requirement already satisfied: urllib3!=1.25.0,!=1.25.1,<1.26,>=1.21.1 in /usr/local/lib/python3.7/dist-packages (from requests<3.0.0dev,>=2.18.0->google-api-core==1.21.0->tensorflow-quantum->quple) (1.24.3)\n",
            "Requirement already satisfied: chardet<4,>=3.0.2 in /usr/local/lib/python3.7/dist-packages (from requests<3.0.0dev,>=2.18.0->google-api-core==1.21.0->tensorflow-quantum->quple) (3.0.4)\n",
            "Requirement already satisfied: cycler>=0.10 in /usr/local/lib/python3.7/dist-packages (from matplotlib~=3.0->cirq-core==0.11.0->cirq->quple) (0.10.0)\n",
            "Requirement already satisfied: python-dateutil>=2.1 in /usr/local/lib/python3.7/dist-packages (from matplotlib~=3.0->cirq-core==0.11.0->cirq->quple) (2.8.1)\n",
            "Requirement already satisfied: kiwisolver>=1.0.1 in /usr/local/lib/python3.7/dist-packages (from matplotlib~=3.0->cirq-core==0.11.0->cirq->quple) (1.3.1)\n",
            "Requirement already satisfied: pyparsing!=2.0.4,!=2.1.2,!=2.1.6,>=2.0.1 in /usr/local/lib/python3.7/dist-packages (from matplotlib~=3.0->cirq-core==0.11.0->cirq->quple) (2.4.7)\n",
            "Requirement already satisfied: decorator<5,>=4.3 in /usr/local/lib/python3.7/dist-packages (from networkx~=2.4->cirq-core==0.11.0->cirq->quple) (4.4.2)\n",
            "Requirement already satisfied: importlib-metadata; python_version < \"3.8\" in /usr/local/lib/python3.7/dist-packages (from markdown>=2.6.8->tensorboard~=2.4->tensorflow->quple) (4.5.0)\n",
            "Requirement already satisfied: requests-oauthlib>=0.7.0 in /usr/local/lib/python3.7/dist-packages (from google-auth-oauthlib<0.5,>=0.4.1->tensorboard~=2.4->tensorflow->quple) (1.3.0)\n",
            "Requirement already satisfied: zipp>=0.5 in /usr/local/lib/python3.7/dist-packages (from importlib-metadata; python_version < \"3.8\"->markdown>=2.6.8->tensorboard~=2.4->tensorflow->quple) (3.4.1)\n",
            "Requirement already satisfied: oauthlib>=3.0.0 in /usr/local/lib/python3.7/dist-packages (from requests-oauthlib>=0.7.0->google-auth-oauthlib<0.5,>=0.4.1->tensorboard~=2.4->tensorflow->quple) (3.1.1)\n",
            "Installing collected packages: quple\n",
            "Successfully installed quple-0.8.0\n"
          ],
          "name": "stdout"
        }
      ]
    },
    {
      "cell_type": "code",
      "metadata": {
        "id": "Ic31C3SR5KC-"
      },
      "source": [
        "import sympy\n",
        "import quple\n",
        "import cirq\n",
        "import tensorflow as tf"
      ],
      "execution_count": 25,
      "outputs": []
    },
    {
      "cell_type": "code",
      "metadata": {
        "colab": {
          "base_uri": "https://localhost:8080/",
          "height": 57
        },
        "id": "aqf0QdzCFMMF",
        "outputId": "425f526b-e8a0-4b4c-bf49-7991c77daf32"
      },
      "source": [
        "# let's make some sympy expressions\n",
        "feature_dimension = 4\n",
        "x = sympy.symarray(\"x\", feature_dimension)\n",
        "formula = sympy.pi*(sympy.cos(x[0])*sympy.sin(x[1]))**2/(x[2]+x[3])\n",
        "formula"
      ],
      "execution_count": 4,
      "outputs": [
        {
          "output_type": "execute_result",
          "data": {
            "text/latex": "$\\displaystyle \\frac{\\pi \\sin^{2}{\\left(x_{1} \\right)} \\cos^{2}{\\left(x_{0} \\right)}}{x_{2} + x_{3}}$",
            "text/plain": [
              "pi*sin(x_1)**2*cos(x_0)**2/(x_2 + x_3)"
            ]
          },
          "metadata": {
            "tags": []
          },
          "execution_count": 4
        }
      ]
    },
    {
      "cell_type": "code",
      "metadata": {
        "colab": {
          "base_uri": "https://localhost:8080/"
        },
        "id": "NAwZP3sKGHMa",
        "outputId": "d38f71e3-1244-47e3-e661-3f808d663fce"
      },
      "source": [
        "symbols = [i.name for i in x]\n",
        "symbols"
      ],
      "execution_count": 5,
      "outputs": [
        {
          "output_type": "execute_result",
          "data": {
            "text/plain": [
              "['x_0', 'x_1', 'x_2', 'x_3']"
            ]
          },
          "metadata": {
            "tags": []
          },
          "execution_count": 5
        }
      ]
    },
    {
      "cell_type": "code",
      "metadata": {
        "id": "XuJkrG4zFMOZ"
      },
      "source": [
        "from quple.interface.tfq.tf_resolvers import resolve_formula\n",
        "# resolve the formula as tf operations\n",
        "resolved_formula = resolve_formula(formula, symbols)"
      ],
      "execution_count": 6,
      "outputs": []
    },
    {
      "cell_type": "code",
      "metadata": {
        "colab": {
          "base_uri": "https://localhost:8080/"
        },
        "id": "0Epk0kCIFMQM",
        "outputId": "119e39bd-e3ff-488f-b390-4440c037eb4b"
      },
      "source": [
        "# try to get the value of the formula from a tensor variable\n",
        "x = tf.Variable(tf.random.normal((feature_dimension,)))\n",
        "x"
      ],
      "execution_count": 7,
      "outputs": [
        {
          "output_type": "execute_result",
          "data": {
            "text/plain": [
              "<tf.Variable 'Variable:0' shape=(4,) dtype=float32, numpy=array([-0.77177674, -0.03157092, -0.7115509 ,  0.7681052 ], dtype=float32)>"
            ]
          },
          "metadata": {
            "tags": []
          },
          "execution_count": 7
        }
      ]
    },
    {
      "cell_type": "code",
      "metadata": {
        "colab": {
          "base_uri": "https://localhost:8080/"
        },
        "id": "qd7effDtGktq",
        "outputId": "430be8ad-3973-4693-9547-44480cb291b5"
      },
      "source": [
        "resolved_formula(x)"
      ],
      "execution_count": 8,
      "outputs": [
        {
          "output_type": "execute_result",
          "data": {
            "text/plain": [
              "<tf.Tensor: shape=(), dtype=float32, numpy=0.028428633>"
            ]
          },
          "metadata": {
            "tags": []
          },
          "execution_count": 8
        }
      ]
    },
    {
      "cell_type": "code",
      "metadata": {
        "id": "-Nx9OMW4GngL"
      },
      "source": [
        "# you can also use 2d tensor, but it will get resolved like\n",
        "# sin(x[1])*cos(x[0])**x[2] / (x[3]+x[4])\n",
        "# so if your tensor shape is (batchsize, features), you will need to transpose it first, then transpose it back\n",
        "\n",
        "# fortunately, there is another method to achieve that without much trouble:\n",
        "# this method works on a list of formulas\n",
        "from quple.interface.tfq.tf_resolvers import resolve_formulas\n",
        "resolved_formulas = resolve_formulas([formula], symbols)"
      ],
      "execution_count": 9,
      "outputs": []
    },
    {
      "cell_type": "code",
      "metadata": {
        "colab": {
          "base_uri": "https://localhost:8080/"
        },
        "id": "OkuKrBkhGnj0",
        "outputId": "00356e98-b157-4a29-e9c6-4b4923dcd848"
      },
      "source": [
        "batchsize = 10\n",
        "x = tf.Variable(tf.random.normal((batchsize, feature_dimension)))\n",
        "x"
      ],
      "execution_count": 10,
      "outputs": [
        {
          "output_type": "execute_result",
          "data": {
            "text/plain": [
              "<tf.Variable 'Variable:0' shape=(10, 4) dtype=float32, numpy=\n",
              "array([[-1.0618973 , -0.15144867, -0.8085656 , -0.6831694 ],\n",
              "       [-0.60386324,  0.76668376,  1.4801891 , -0.29068053],\n",
              "       [ 0.13388175, -0.5763278 ,  1.7136308 , -0.61749834],\n",
              "       [ 0.58188254, -1.9518006 ,  0.33640802, -0.363397  ],\n",
              "       [ 1.1470926 ,  2.3602638 , -0.4549302 ,  0.77253604],\n",
              "       [-0.11804762, -0.6053382 , -0.22556916,  0.759861  ],\n",
              "       [ 0.09652334, -1.0528183 , -1.6297547 , -0.6007788 ],\n",
              "       [-2.558616  ,  1.1557344 , -0.2685567 ,  0.7381837 ],\n",
              "       [-0.8558756 ,  0.5515809 ,  0.13191238, -0.36481592],\n",
              "       [ 0.82903636,  1.0982615 ,  0.5969692 , -0.0608829 ]],\n",
              "      dtype=float32)>"
            ]
          },
          "metadata": {
            "tags": []
          },
          "execution_count": 10
        }
      ]
    },
    {
      "cell_type": "code",
      "metadata": {
        "colab": {
          "base_uri": "https://localhost:8080/"
        },
        "id": "2KJKJZz_H1-8",
        "outputId": "31ecb177-9a46-43b1-f419-d46223a1ff05"
      },
      "source": [
        "resolved_formulas(x)"
      ],
      "execution_count": 11,
      "outputs": [
        {
          "output_type": "execute_result",
          "data": {
            "text/plain": [
              "<tf.Tensor: shape=(10, 1), dtype=float32, numpy=\n",
              "array([[-1.13791395e-02],\n",
              "       [ 8.61281455e-01],\n",
              "       [ 8.35968852e-01],\n",
              "       [-7.00086746e+01],\n",
              "       [ 8.29202831e-01],\n",
              "       [ 1.87754858e+00],\n",
              "       [-1.05329573e+00],\n",
              "       [ 3.90408611e+00],\n",
              "       [-1.59189677e+00],\n",
              "       [ 2.12062740e+00]], dtype=float32)>"
            ]
          },
          "metadata": {
            "tags": []
          },
          "execution_count": 11
        }
      ]
    },
    {
      "cell_type": "markdown",
      "metadata": {
        "id": "c38HL4LuKSQg"
      },
      "source": [
        "## Practical Example"
      ]
    },
    {
      "cell_type": "code",
      "metadata": {
        "id": "427WWe9OBcul"
      },
      "source": [
        "n_qubit = feature_dimension = 5"
      ],
      "execution_count": 12,
      "outputs": []
    },
    {
      "cell_type": "code",
      "metadata": {
        "colab": {
          "base_uri": "https://localhost:8080/",
          "height": 170
        },
        "id": "DmUuwGp55yPu",
        "outputId": "c2e67569-a56e-4c54-e758-ff86db673c60"
      },
      "source": [
        "from quple import ParameterisedCircuit\n",
        "model_circuit = ParameterisedCircuit(n_qubit=n_qubit, copies=2, rotation_blocks=['RZ', 'RY'], entanglement_blocks=['XX'], entangle_strategy=\"alternate_linear\")\n",
        "model_circuit"
      ],
      "execution_count": 13,
      "outputs": [
        {
          "output_type": "execute_result",
          "data": {
            "text/html": [
              "<pre style=\"overflow: auto; white-space: pre;\">(0, 0): ───Rz(θ_0)───Ry(θ_5)───XX──────────Rz(θ_14)────Ry(θ_19)──────────────XX──────────────────────\n",
              "                               │                                             │\n",
              "(0, 1): ───Rz(θ_1)───Ry(θ_6)───XX^(θ_10)───XX──────────Rz(θ_15)───Ry(θ_20)───XX^(θ_24)───XX──────────\n",
              "                                           │                                             │\n",
              "(0, 2): ───Rz(θ_2)───Ry(θ_7)───XX──────────XX^(θ_12)───Rz(θ_16)───Ry(θ_21)───XX──────────XX^(θ_26)───\n",
              "                               │                                             │\n",
              "(0, 3): ───Rz(θ_3)───Ry(θ_8)───XX^(θ_11)───XX──────────Rz(θ_17)───Ry(θ_22)───XX^(θ_25)───XX──────────\n",
              "                                           │                                             │\n",
              "(0, 4): ───Rz(θ_4)───Ry(θ_9)───────────────XX^(θ_13)───Rz(θ_18)───Ry(θ_23)───────────────XX^(θ_27)───</pre>"
            ],
            "text/plain": [
              "(0, 0): ───Rz(θ_0)───Ry(θ_5)───XX──────────Rz(θ_14)────Ry(θ_19)──────────────XX──────────────────────\n",
              "                               │                                             │\n",
              "(0, 1): ───Rz(θ_1)───Ry(θ_6)───XX^(θ_10)───XX──────────Rz(θ_15)───Ry(θ_20)───XX^(θ_24)───XX──────────\n",
              "                                           │                                             │\n",
              "(0, 2): ───Rz(θ_2)───Ry(θ_7)───XX──────────XX^(θ_12)───Rz(θ_16)───Ry(θ_21)───XX──────────XX^(θ_26)───\n",
              "                               │                                             │\n",
              "(0, 3): ───Rz(θ_3)───Ry(θ_8)───XX^(θ_11)───XX──────────Rz(θ_17)───Ry(θ_22)───XX^(θ_25)───XX──────────\n",
              "                                           │                                             │\n",
              "(0, 4): ───Rz(θ_4)───Ry(θ_9)───────────────XX^(θ_13)───Rz(θ_18)───Ry(θ_23)───────────────XX^(θ_27)───"
            ]
          },
          "metadata": {
            "tags": []
          },
          "execution_count": 13
        }
      ]
    },
    {
      "cell_type": "code",
      "metadata": {
        "colab": {
          "base_uri": "https://localhost:8080/",
          "height": 187
        },
        "id": "yxACVllA6KVc",
        "outputId": "8bd798de-02f1-4834-98c1-96a92e88fdc3"
      },
      "source": [
        "from quple.data_encoding import EncodingCircuit\n",
        "from quple import PauliBlock\n",
        "data_circuit = EncodingCircuit(feature_dimension=feature_dimension, copies=2, rotation_blocks=['RZ'], entanglement_blocks=[PauliBlock('ZZ')], entangle_strategy=\"alternate_linear\", \n",
        "                               encoding_map=\"cosine_product\",\n",
        "                               parameter_scale=1,      # by default will multiply every parameter by sympy.pi if parameter_scale is not specified\n",
        "                               flatten_circuit=False)  # flattening the circuit will combine formulas into a single symbol so when you print the circuit it doesn't look quite good\n",
        "data_circuit"
      ],
      "execution_count": 14,
      "outputs": [
        {
          "output_type": "execute_result",
          "data": {
            "text/html": [
              "<pre style=\"overflow: auto; white-space: pre;\">(0, 0): ───Rz(x_0)───@───────────────────────────@───────────────────────────────────────────────────────────────────────────────Rz(x_0)───@─────────────────────────────────@───────────────────────────────────────────────────────────────────────────────────\n",
              "                     │                           │                                                                                         │                                 │\n",
              "(0, 1): ───Rz(x_1)───X───Rz(cos(x_0)*cos(x_1))───X───────────────────────────@───────────────────────────@───────────────────────Rz(x_1)───X─────────Rz(cos(x_0)*cos(x_1))───X───────────────────────────@───────────────────────────@───────────────────────────\n",
              "                                                                             │                           │                                                                                               │                           │\n",
              "(0, 2): ───Rz(x_2)───@───────────────────────────────────────────────────@───X───Rz(cos(x_1)*cos(x_2))───X───────────────────────Rz(x_2)─────────────@───────────────────────────────────────────────@───X───Rz(cos(x_1)*cos(x_2))───X───────────────────────────\n",
              "                     │                                                   │                                                                           │                                               │\n",
              "(0, 3): ───Rz(x_3)───X───────────────────────────Rz(cos(x_2)*cos(x_3))───X───@───────────────────────────────────────────────────@─────────Rz(x_3)───X───────────────────────Rz(cos(x_2)*cos(x_3))───X───@───────────────────────────────────────────────────@───\n",
              "                                                                             │                                                   │                                                                       │                                                   │\n",
              "(0, 4): ───Rz(x_4)───────────────────────────────────────────────────────────X───────────────────────────Rz(cos(x_3)*cos(x_4))───X─────────Rz(x_4)───────────────────────────────────────────────────────X───────────────────────────Rz(cos(x_3)*cos(x_4))───X───</pre>"
            ],
            "text/plain": [
              "(0, 0): ───Rz(x_0)───@───────────────────────────@───────────────────────────────────────────────────────────────────────────────Rz(x_0)───@─────────────────────────────────@───────────────────────────────────────────────────────────────────────────────────\n",
              "                     │                           │                                                                                         │                                 │\n",
              "(0, 1): ───Rz(x_1)───X───Rz(cos(x_0)*cos(x_1))───X───────────────────────────@───────────────────────────@───────────────────────Rz(x_1)───X─────────Rz(cos(x_0)*cos(x_1))───X───────────────────────────@───────────────────────────@───────────────────────────\n",
              "                                                                             │                           │                                                                                               │                           │\n",
              "(0, 2): ───Rz(x_2)───@───────────────────────────────────────────────────@───X───Rz(cos(x_1)*cos(x_2))───X───────────────────────Rz(x_2)─────────────@───────────────────────────────────────────────@───X───Rz(cos(x_1)*cos(x_2))───X───────────────────────────\n",
              "                     │                                                   │                                                                           │                                               │\n",
              "(0, 3): ───Rz(x_3)───X───────────────────────────Rz(cos(x_2)*cos(x_3))───X───@───────────────────────────────────────────────────@─────────Rz(x_3)───X───────────────────────Rz(cos(x_2)*cos(x_3))───X───@───────────────────────────────────────────────────@───\n",
              "                                                                             │                                                   │                                                                       │                                                   │\n",
              "(0, 4): ───Rz(x_4)───────────────────────────────────────────────────────────X───────────────────────────Rz(cos(x_3)*cos(x_4))───X─────────Rz(x_4)───────────────────────────────────────────────────────X───────────────────────────Rz(cos(x_3)*cos(x_4))───X───"
            ]
          },
          "metadata": {
            "tags": []
          },
          "execution_count": 14
        }
      ]
    },
    {
      "cell_type": "code",
      "metadata": {
        "colab": {
          "base_uri": "https://localhost:8080/"
        },
        "id": "fXilF0Wu6iH9",
        "outputId": "3d74ecd1-0c2a-4103-ed5c-2f3b48686189"
      },
      "source": [
        "symbols = data_circuit.symbols\n",
        "symbols"
      ],
      "execution_count": 15,
      "outputs": [
        {
          "output_type": "execute_result",
          "data": {
            "text/plain": [
              "['x_0', 'x_1', 'x_2', 'x_3', 'x_4']"
            ]
          },
          "metadata": {
            "tags": []
          },
          "execution_count": 15
        }
      ]
    },
    {
      "cell_type": "code",
      "metadata": {
        "colab": {
          "base_uri": "https://localhost:8080/",
          "height": 187
        },
        "id": "VUGvoYDh7UsU",
        "outputId": "fbf02529-147e-4b74-ea95-9e0ee40b417a"
      },
      "source": [
        "data_circuit.flatten()\n",
        "data_circuit"
      ],
      "execution_count": 16,
      "outputs": [
        {
          "output_type": "execute_result",
          "data": {
            "text/html": [
              "<pre style=\"overflow: auto; white-space: pre;\">(0, 0): ───Rz(pi*&lt;x_0/pi&gt;)───@───────────────────────────────────@───────────────────────────────────────────────────────────────────────────────────────────────────────Rz(pi*&lt;x_0/pi&gt;)───@─────────────────────────────────────────────────@───────────────────────────────────────────────────────────────────────────────────────────────────────────\n",
              "                             │                                   │                                                                                                                         │                                                 │\n",
              "(0, 1): ───Rz(pi*&lt;x_1/pi&gt;)───X───Rz(pi*&lt;cos(x_0)*cos(x_1)/pi&gt;)───X───────────────────────────────────@───────────────────────────────────@───────────────────────────────Rz(pi*&lt;x_1/pi&gt;)───X─────────────────Rz(pi*&lt;cos(x_0)*cos(x_1)/pi&gt;)───X───────────────────────────────────@───────────────────────────────────@───────────────────────────────────\n",
              "                                                                                                     │                                   │                                                                                                                                       │                                   │\n",
              "(0, 2): ───Rz(pi*&lt;x_2/pi&gt;)───@───────────────────────────────────────────────────────────────────@───X───Rz(pi*&lt;cos(x_1)*cos(x_2)/pi&gt;)───X───────────────────────────────Rz(pi*&lt;x_2/pi&gt;)─────────────────────@───────────────────────────────────────────────────────────────@───X───Rz(pi*&lt;cos(x_1)*cos(x_2)/pi&gt;)───X───────────────────────────────────\n",
              "                             │                                                                   │                                                                                                           │                                                               │\n",
              "(0, 3): ───Rz(pi*&lt;x_3/pi&gt;)───X───────────────────────────────────Rz(pi*&lt;cos(x_2)*cos(x_3)/pi&gt;)───X───@───────────────────────────────────────────────────────────────────@─────────────────Rz(pi*&lt;x_3/pi&gt;)───X───────────────────────────────Rz(pi*&lt;cos(x_2)*cos(x_3)/pi&gt;)───X───@───────────────────────────────────────────────────────────────────@───\n",
              "                                                                                                     │                                                                   │                                                                                                       │                                                                   │\n",
              "(0, 4): ───Rz(pi*&lt;x_4/pi&gt;)───────────────────────────────────────────────────────────────────────────X───────────────────────────────────Rz(pi*&lt;cos(x_3)*cos(x_4)/pi&gt;)───X─────────────────Rz(pi*&lt;x_4/pi&gt;)───────────────────────────────────────────────────────────────────────X───────────────────────────────────Rz(pi*&lt;cos(x_3)*cos(x_4)/pi&gt;)───X───</pre>"
            ],
            "text/plain": [
              "(0, 0): ───Rz(pi*<x_0/pi>)───@───────────────────────────────────@───────────────────────────────────────────────────────────────────────────────────────────────────────Rz(pi*<x_0/pi>)───@─────────────────────────────────────────────────@───────────────────────────────────────────────────────────────────────────────────────────────────────────\n",
              "                             │                                   │                                                                                                                         │                                                 │\n",
              "(0, 1): ───Rz(pi*<x_1/pi>)───X───Rz(pi*<cos(x_0)*cos(x_1)/pi>)───X───────────────────────────────────@───────────────────────────────────@───────────────────────────────Rz(pi*<x_1/pi>)───X─────────────────Rz(pi*<cos(x_0)*cos(x_1)/pi>)───X───────────────────────────────────@───────────────────────────────────@───────────────────────────────────\n",
              "                                                                                                     │                                   │                                                                                                                                       │                                   │\n",
              "(0, 2): ───Rz(pi*<x_2/pi>)───@───────────────────────────────────────────────────────────────────@───X───Rz(pi*<cos(x_1)*cos(x_2)/pi>)───X───────────────────────────────Rz(pi*<x_2/pi>)─────────────────────@───────────────────────────────────────────────────────────────@───X───Rz(pi*<cos(x_1)*cos(x_2)/pi>)───X───────────────────────────────────\n",
              "                             │                                                                   │                                                                                                           │                                                               │\n",
              "(0, 3): ───Rz(pi*<x_3/pi>)───X───────────────────────────────────Rz(pi*<cos(x_2)*cos(x_3)/pi>)───X───@───────────────────────────────────────────────────────────────────@─────────────────Rz(pi*<x_3/pi>)───X───────────────────────────────Rz(pi*<cos(x_2)*cos(x_3)/pi>)───X───@───────────────────────────────────────────────────────────────────@───\n",
              "                                                                                                     │                                                                   │                                                                                                       │                                                                   │\n",
              "(0, 4): ───Rz(pi*<x_4/pi>)───────────────────────────────────────────────────────────────────────────X───────────────────────────────────Rz(pi*<cos(x_3)*cos(x_4)/pi>)───X─────────────────Rz(pi*<x_4/pi>)───────────────────────────────────────────────────────────────────────X───────────────────────────────────Rz(pi*<cos(x_3)*cos(x_4)/pi>)───X───"
            ]
          },
          "metadata": {
            "tags": []
          },
          "execution_count": 16
        }
      ]
    },
    {
      "cell_type": "code",
      "metadata": {
        "colab": {
          "base_uri": "https://localhost:8080/"
        },
        "id": "5Kf1-eYGKcas",
        "outputId": "d566ed1d-ab24-45ed-db8b-6d5fbd4d4a1d"
      },
      "source": [
        "# you can see that flatten() literally flatten the symbols\n",
        "data_circuit.symbols"
      ],
      "execution_count": 17,
      "outputs": [
        {
          "output_type": "execute_result",
          "data": {
            "text/plain": [
              "['<cos(x_0)*cos(x_1)/pi>',\n",
              " '<cos(x_1)*cos(x_2)/pi>',\n",
              " '<cos(x_2)*cos(x_3)/pi>',\n",
              " '<cos(x_3)*cos(x_4)/pi>',\n",
              " '<x_0/pi>',\n",
              " '<x_1/pi>',\n",
              " '<x_2/pi>',\n",
              " '<x_3/pi>',\n",
              " '<x_4/pi>']"
            ]
          },
          "metadata": {
            "tags": []
          },
          "execution_count": 17
        }
      ]
    },
    {
      "cell_type": "code",
      "metadata": {
        "colab": {
          "base_uri": "https://localhost:8080/"
        },
        "id": "pnVFUWVu8cUS",
        "outputId": "499ffdff-20f8-4b9b-926c-4bee9314c723"
      },
      "source": [
        "# by doing flatten(), an cirq.ExpressionMap is created which gives you a handle of the sympy formulas involved\n",
        "data_circuit.expr_map"
      ],
      "execution_count": 18,
      "outputs": [
        {
          "output_type": "execute_result",
          "data": {
            "text/plain": [
              "cirq.ExpressionMap({x_0/pi: <x_0/pi>, x_1/pi: <x_1/pi>, x_2/pi: <x_2/pi>, x_3/pi: <x_3/pi>, x_4/pi: <x_4/pi>, cos(x_0)*cos(x_1)/pi: <cos(x_0)*cos(x_1)/pi>, cos(x_2)*cos(x_3)/pi: <cos(x_2)*cos(x_3)/pi>, cos(x_1)*cos(x_2)/pi: <cos(x_1)*cos(x_2)/pi>, cos(x_3)*cos(x_4)/pi: <cos(x_3)*cos(x_4)/pi>})"
            ]
          },
          "metadata": {
            "tags": []
          },
          "execution_count": 18
        }
      ]
    },
    {
      "cell_type": "code",
      "metadata": {
        "colab": {
          "base_uri": "https://localhost:8080/"
        },
        "id": "Py4duG9a8sBZ",
        "outputId": "078a2df4-f8b0-466d-edbb-8afdd87f7dab"
      },
      "source": [
        "formulas = list(data_circuit.expr_map)\n",
        "formulas"
      ],
      "execution_count": 19,
      "outputs": [
        {
          "output_type": "execute_result",
          "data": {
            "text/plain": [
              "[x_0/pi,\n",
              " x_1/pi,\n",
              " x_2/pi,\n",
              " x_3/pi,\n",
              " x_4/pi,\n",
              " cos(x_0)*cos(x_1)/pi,\n",
              " cos(x_2)*cos(x_3)/pi,\n",
              " cos(x_1)*cos(x_2)/pi,\n",
              " cos(x_3)*cos(x_4)/pi]"
            ]
          },
          "metadata": {
            "tags": []
          },
          "execution_count": 19
        }
      ]
    },
    {
      "cell_type": "code",
      "metadata": {
        "id": "Z46Lu7Ws8yli"
      },
      "source": [
        "# you can then resolve the formulas in terms of tf operations using\n",
        "resolved_formulas = resolve_formulas(formulas, symbols)"
      ],
      "execution_count": 20,
      "outputs": []
    },
    {
      "cell_type": "code",
      "metadata": {
        "colab": {
          "base_uri": "https://localhost:8080/"
        },
        "id": "0o8FUHhGLYhr",
        "outputId": "460713c8-f3dd-458b-dba0-ba4757e77759"
      },
      "source": [
        "# create your favourite training input\n",
        "batchsize = 10\n",
        "x = tf.random.normal((batchsize, feature_dimension))\n",
        "x"
      ],
      "execution_count": 21,
      "outputs": [
        {
          "output_type": "execute_result",
          "data": {
            "text/plain": [
              "<tf.Tensor: shape=(10, 5), dtype=float32, numpy=\n",
              "array([[-0.6822332 , -0.33362395,  0.1343539 ,  0.14878808,  1.5183932 ],\n",
              "       [ 1.8541712 ,  1.3194737 , -0.9088058 ,  0.6791304 ,  0.00924885],\n",
              "       [-1.1402118 ,  1.5177584 , -0.0904963 ,  1.7034129 , -0.2984075 ],\n",
              "       [-0.82028824, -0.83841646,  1.4964039 ,  0.15012872, -0.71458745],\n",
              "       [ 0.7315398 , -0.13146573,  1.0615153 ,  2.713292  ,  0.15342617],\n",
              "       [ 0.10406739, -0.16797851, -0.38000715,  0.60419124,  1.1796423 ],\n",
              "       [-1.2041612 ,  1.2046661 ,  0.05035108,  0.7293226 , -0.19597055],\n",
              "       [ 1.3057795 ,  1.1946394 ,  0.19621813,  0.12937541,  0.06831659],\n",
              "       [-0.34043592,  1.7567332 ,  0.9004694 , -0.64915144,  0.12494518],\n",
              "       [-0.58868444, -0.22680373, -0.8886248 ,  1.2729706 ,  0.7304239 ]],\n",
              "      dtype=float32)>"
            ]
          },
          "metadata": {
            "tags": []
          },
          "execution_count": 21
        }
      ]
    },
    {
      "cell_type": "code",
      "metadata": {
        "colab": {
          "base_uri": "https://localhost:8080/"
        },
        "id": "kj2sGx1hLs3z",
        "outputId": "ba86f9be-7d80-423b-b2f5-ee0f51f3a46e"
      },
      "source": [
        "# here\n",
        "# y[0][0] is the value of the 1st formula, i.e. x_0/pi for the first data batch\n",
        "# y[0][6] is the value of the 6th formula, i.e. cos(x_0)*cos(x_1)/pi for the first data batch\n",
        "# y[1][0] is the value of the 1st formula for the second data batch\n",
        "y = resolved_formulas(x)\n",
        "y"
      ],
      "execution_count": 22,
      "outputs": [
        {
          "output_type": "execute_result",
          "data": {
            "text/plain": [
              "<tf.Tensor: shape=(10, 9), dtype=float32, numpy=\n",
              "array([[-0.21716157, -0.10619579,  0.04276618,  0.04736071,  0.48331952,\n",
              "         0.23343895,  0.3119561 ,  0.29804844,  0.0164886 ],\n",
              "       [ 0.59020096,  0.4200015 , -0.28928185,  0.2161739 ,  0.002944  ,\n",
              "        -0.02213264,  0.15224782,  0.04865808,  0.24767244],\n",
              "       [-0.36294067,  0.48311746, -0.02880587,  0.54221314, -0.09498605,\n",
              "         0.00704349, -0.04191731,  0.01680554, -0.04022943],\n",
              "       [-0.26110584, -0.26687625,  0.47632015,  0.04778745, -0.22746024,\n",
              "         0.14515574,  0.02339189,  0.01581871,  0.23773521],\n",
              "       [ 0.23285633, -0.04184684,  0.3378908 ,  0.8636676 ,  0.04883707,\n",
              "         0.23482525, -0.14117381,  0.15385267, -0.2861565 ],\n",
              "       [ 0.03312568, -0.05346922, -0.12096003,  0.19232003,  0.3754918 ,\n",
              "         0.31213173,  0.2432694 ,  0.29144162,  0.09987251],\n",
              "       [-0.3832964 ,  0.38345712,  0.01602725,  0.23215058, -0.06237936,\n",
              "         0.04085069,  0.23703933,  0.11381204,  0.23279722],\n",
              "       [ 0.4156425 ,  0.38026553,  0.06245817,  0.04118147,  0.02174585,\n",
              "         0.03062715,  0.3095926 ,  0.11468695,  0.31491333],\n",
              "       [-0.10836411,  0.5591855 ,  0.2866283 , -0.20663132,  0.03977128,\n",
              "        -0.05546793,  0.15752509, -0.03655706,  0.25158805],\n",
              "       [-0.18738407, -0.07219387, -0.28285804,  0.4051991 ,  0.23250115,\n",
              "         0.25794968,  0.05889037,  0.19554842,  0.06957706]],\n",
              "      dtype=float32)>"
            ]
          },
          "metadata": {
            "tags": []
          },
          "execution_count": 22
        }
      ]
    },
    {
      "cell_type": "markdown",
      "metadata": {
        "id": "w4B-I7AnMP3K"
      },
      "source": [
        "# The PQC class\n",
        "- It accepts the `model_circuit` and `data_circuit` as input\n",
        "- `model_circuit` contains the weights of your pqc layer so this circuit should not contain composite formulas in its gate operations\n",
        "- `data_circuit` is the circuit that transforms the classical input data into the input quantum state of the `model_circuit`, it can contain composite formmulas in its gate operations which correspond to the so-called \"feature maps\"\n",
        "\n",
        "What it does:\n",
        "- It flattens the `data_circuit` so that all formulas inside the circuit turns into symbols. This is important because tfq simulator (qsim) does not support resolving sympy formulas.\n",
        "- It compiles the formulas inside the `data_circuit` in terms of a lambda function of composite tensorflow operations when the class is initialzed. \n",
        "- When the class is called, it transforms the `inputs` tensor into a tensor containing the resolved values of the formulas of the `data_circuit`. The tensor is then clipped to the weight tensor and passed as `symbol_values` to the tfq simulator."
      ]
    },
    {
      "cell_type": "code",
      "metadata": {
        "id": "Rn3hmWj88zX5"
      },
      "source": [
        "from quple.interface.tfq.layers.pqc import PQC"
      ],
      "execution_count": 23,
      "outputs": []
    },
    {
      "cell_type": "code",
      "metadata": {
        "id": "pwjAB1wXS1-j"
      },
      "source": [
        "qubits = quple.get_circuit_qubits(data_circuit)\n",
        "readout = [cirq.Z(qubit) for qubit in qubits]"
      ],
      "execution_count": 26,
      "outputs": []
    },
    {
      "cell_type": "code",
      "metadata": {
        "id": "liHZ_nZ6Sq8W"
      },
      "source": [
        "pqc_layer = PQC(model_circuit, data_circuit, readout)"
      ],
      "execution_count": 27,
      "outputs": []
    },
    {
      "cell_type": "code",
      "metadata": {
        "colab": {
          "base_uri": "https://localhost:8080/"
        },
        "id": "4HF2o5cTTELj",
        "outputId": "eb7d45a3-e52c-4d93-d6d3-6360a6929883"
      },
      "source": [
        "x = tf.random.normal((batchsize, feature_dimension))\n",
        "pqc_layer(x)"
      ],
      "execution_count": 28,
      "outputs": [
        {
          "output_type": "execute_result",
          "data": {
            "text/plain": [
              "<tf.Tensor: shape=(10, 5), dtype=float32, numpy=\n",
              "array([[-0.5925325 ,  0.04048223, -0.3626655 , -0.19755554,  0.8203235 ],\n",
              "       [-0.5925317 ,  0.04048201, -0.36266494, -0.19755527,  0.82032245],\n",
              "       [-0.5925322 ,  0.04048229, -0.36266533, -0.19755542,  0.82032305],\n",
              "       [-0.5925321 ,  0.04048215, -0.3626653 , -0.19755547,  0.820323  ],\n",
              "       [-0.59253234,  0.0404822 , -0.36266539, -0.19755545,  0.8203232 ],\n",
              "       [-0.5925323 ,  0.04048217, -0.36266539, -0.19755557,  0.82032317],\n",
              "       [-0.59253234,  0.04048224, -0.3626653 , -0.19755542,  0.82032317],\n",
              "       [-0.5925324 ,  0.0404823 , -0.36266527, -0.19755548,  0.82032317],\n",
              "       [-0.5925325 ,  0.04048236, -0.36266553, -0.19755554,  0.8203236 ],\n",
              "       [-0.59253246,  0.04048225, -0.36266539, -0.19755557,  0.8203233 ]],\n",
              "      dtype=float32)>"
            ]
          },
          "metadata": {
            "tags": []
          },
          "execution_count": 28
        }
      ]
    },
    {
      "cell_type": "code",
      "metadata": {
        "colab": {
          "base_uri": "https://localhost:8080/"
        },
        "id": "00qWTn0N93LQ",
        "outputId": "64c2a9fd-821b-4186-da63-44eaf52b296a"
      },
      "source": [
        "model = tf.keras.Sequential()\n",
        "input_layer = tf.keras.layers.Input(shape=(feature_dimension), dtype=tf.float32)\n",
        "model.add(input_layer)\n",
        "model.add(pqc_layer)\n",
        "model.summary()"
      ],
      "execution_count": 30,
      "outputs": [
        {
          "output_type": "stream",
          "text": [
            "Model: \"sequential_1\"\n",
            "_________________________________________________________________\n",
            "Layer (type)                 Output Shape              Param #   \n",
            "=================================================================\n",
            "pqc (PQC)                    (None, 5)                 28        \n",
            "=================================================================\n",
            "Total params: 28\n",
            "Trainable params: 28\n",
            "Non-trainable params: 0\n",
            "_________________________________________________________________\n"
          ],
          "name": "stdout"
        }
      ]
    },
    {
      "cell_type": "code",
      "metadata": {
        "colab": {
          "base_uri": "https://localhost:8080/"
        },
        "id": "x3lU8XL2_lWM",
        "outputId": "ef0e96d2-f943-40dd-df42-79c2849937a3"
      },
      "source": [
        "model(x)"
      ],
      "execution_count": 31,
      "outputs": [
        {
          "output_type": "execute_result",
          "data": {
            "text/plain": [
              "<tf.Tensor: shape=(10, 5), dtype=float32, numpy=\n",
              "array([[-0.5925325 ,  0.04048223, -0.3626655 , -0.19755554,  0.8203235 ],\n",
              "       [-0.5925317 ,  0.04048201, -0.36266494, -0.19755527,  0.82032245],\n",
              "       [-0.5925322 ,  0.04048229, -0.36266533, -0.19755542,  0.82032305],\n",
              "       [-0.5925321 ,  0.04048215, -0.3626653 , -0.19755547,  0.820323  ],\n",
              "       [-0.59253234,  0.0404822 , -0.36266539, -0.19755545,  0.8203232 ],\n",
              "       [-0.5925323 ,  0.04048217, -0.36266539, -0.19755557,  0.82032317],\n",
              "       [-0.59253234,  0.04048224, -0.3626653 , -0.19755542,  0.82032317],\n",
              "       [-0.5925324 ,  0.0404823 , -0.36266527, -0.19755548,  0.82032317],\n",
              "       [-0.5925325 ,  0.04048236, -0.36266553, -0.19755554,  0.8203236 ],\n",
              "       [-0.59253246,  0.04048225, -0.36266539, -0.19755557,  0.8203233 ]],\n",
              "      dtype=float32)>"
            ]
          },
          "metadata": {
            "tags": []
          },
          "execution_count": 31
        }
      ]
    }
  ]
}